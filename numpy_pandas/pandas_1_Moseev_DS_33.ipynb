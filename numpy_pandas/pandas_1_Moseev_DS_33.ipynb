{
 "cells": [
  {
   "cell_type": "code",
   "execution_count": 10,
   "metadata": {},
   "outputs": [],
   "source": [
    "import pandas as pd"
   ]
  },
  {
   "cell_type": "markdown",
   "metadata": {},
   "source": [
    "Был скачен MovieLens Latest Datasets (Small: 100,000 ratings and 3,600 tag applications applied to 9,000 movies by 600 users. Last updated 9/2018)"
   ]
  },
  {
   "cell_type": "code",
   "execution_count": 94,
   "metadata": {
    "scrolled": false
   },
   "outputs": [
    {
     "data": {
      "text/plain": [
       "126    Batman Forever (1995)\n",
       "Name: title, dtype: object"
      ]
     },
     "execution_count": 94,
     "metadata": {},
     "output_type": "execute_result"
    }
   ],
   "source": [
    "# задание1\n",
    "ratings = pd.read_csv('C:\\\\jupyter\\\\pandas_numpy\\\\ml-latest-small\\\\ratings.csv')\n",
    "most_ratest_film = ratings[ratings['rating'] == 5.0]['movieId'].value_counts().head(1)\n",
    "movies = pd.read_csv('C:\\\\jupyter\\\\pandas_numpy\\\\ml-latest-small\\\\movies.csv')\n",
    "movies[movies['movieId'] == int(most_ratest_film)]['title']"
   ]
  },
  {
   "cell_type": "code",
   "execution_count": 224,
   "metadata": {
    "scrolled": true
   },
   "outputs": [
    {
     "name": "stdout",
     "output_type": "stream",
     "text": [
      "Потребление страны Latvia по категориям 4, 12, 21 с 2005 по 2010 года = 35860.0\n",
      "Потребление страны Lithuania по категориям 4, 12, 21 с 2005 по 2010 года = 86511.0\n",
      "Потребление страны Estonia по категориям 4, 12, 21 с 2005 по 2010 года = 42184.0\n"
     ]
    }
   ],
   "source": [
    "#задание2\n",
    "power = pd.read_csv('power.csv')\n",
    "countries = ['Latvia', 'Lithuania', 'Estonia']\n",
    "for elem in countries:\n",
    "    summ_ = power[((power['category'] == 4) | (power['category'] == 12) | (power['category'] == 21))\\\n",
    "             & (power['country'] == elem) & (power['year'] < 2010)\\\n",
    "             & (power['year'] >2005)]['quantity'].agg(lambda x: x[x>0].sum())\n",
    "    print(f'Потребление страны {elem} по категориям 4, 12, 21 с 2005 по 2010 года = {summ_}')"
   ]
  },
  {
   "cell_type": "code",
   "execution_count": 251,
   "metadata": {},
   "outputs": [
    {
     "data": {
      "text/plain": [
       "[     0       1      2        3       4      5        6       7      8   \\\n",
       " 0  ММВБ   3 652  -0,8%   Nasdaq  13 389  -0,1%  Биткойн  57 117   0,6%   \n",
       " 1   РТС   1 553  -1,6%   S&P500   4 152  -0,9%    Нефть     685  -0,2%   \n",
       " 2   Dow  34 269  -1,4%  FTSE100   6 948  -2,5%   Золото   1 827  -0,5%   \n",
       " \n",
       "         9       10     11  \n",
       " 0  USD/RUB  742402   0,1%  \n",
       " 1  EUR/RUB  901400   0,1%  \n",
       " 2  EUR/USD   12124  -0,2%  ,\n",
       "     Unnamed: 0              Рубль  Предложение  Спрос  Предыдущее закрытие  \\\n",
       " 0          NaN            GBP/RUB      1049054      -              1049209   \n",
       " 1          NaN            EUR/RUB       899895      -               900933   \n",
       " 2          NaN            USD/RUB       745603      -               741896   \n",
       " 3          NaN            JPY/RUB        06804      -                06830   \n",
       " 4          NaN            CNY/RUB       115473      -               115381   \n",
       " 5          NaN            CHF/RUB       820509      -               821308   \n",
       " 6          NaN               Евро  Предложение  Спрос  Предыдущее закрытие   \n",
       " 7          NaN            EUR/USD        12071      -                12151   \n",
       " 8          NaN            EUR/GBP        08580      -                08591   \n",
       " 9          NaN            EUR/JPY      1322710      -              1319600   \n",
       " 10         NaN            EUR/CHF        10969      -                10981   \n",
       " 11         NaN         Доллар США  Предложение  Спрос  Предыдущее закрытие   \n",
       " 12         NaN            USD/EUR        08285      -                08231   \n",
       " 13         NaN            USD/GBP        07107      -                07070   \n",
       " 14         NaN            USD/JPY      1095900      -              1086190   \n",
       " 15         NaN            USD/CHF        09088      -                09034   \n",
       " 16         NaN      Японская иена  Предложение  Спрос  Предыдущее закрытие   \n",
       " 17         NaN    JPY/EUR (100:1)        07600      -                07600   \n",
       " 18         NaN            JPY/GBP        00065      -                00065   \n",
       " 19         NaN            JPY/USD        00091      -                00092   \n",
       " 20         NaN    JPY/CHF (100:1)        08300      -                08300   \n",
       " 21         NaN    Фунт стерлингов  Предложение  Спрос  Предыдущее закрытие   \n",
       " 22         NaN            GBP/USD        14069      -                14141   \n",
       " 23         NaN            GBP/JPY      1541805      -              1536279   \n",
       " 24         NaN            GBP/EUR        11656      -                11641   \n",
       " 25         NaN            GBP/CHF        12786      -                12772   \n",
       " 26         NaN  Швейцарский франк  Предложение  Спрос  Предыдущее закрытие   \n",
       " 27         NaN            GBP/CHF        12786      -                12772   \n",
       " 28         NaN            EUR/CHF        10969      -                10981   \n",
       " 29         NaN    JPY/CHF (100:1)        08300      -                08300   \n",
       " 30         NaN            USD/CHF        09088      -                09034   \n",
       " 31         NaN  Украинская гривна  Предложение  Спрос  Предыдущее закрытие   \n",
       " 32         NaN            EUR/UAH       333326      -               335146   \n",
       " 33         NaN            USD/UAH       276173      -               275852   \n",
       " 34         NaN            CHF/UAH       303887      -               305416   \n",
       " 35         NaN            GBP/UAH       388575      -               390165   \n",
       " \n",
       "           %  Абсолютное значение     Время  \n",
       " 0   -0,01 %               -00155  19:28:00  \n",
       " 1   -0,12 %               -01038  19:28:00  \n",
       " 2    0,50 %                03707  19:28:00  \n",
       " 3   -0,37 %               -00026  19:28:00  \n",
       " 4    0,08 %                00092  19:28:00  \n",
       " 5   -0,10 %               -00799  19:28:00  \n",
       " 6         %  Абсолютное значение     Время  \n",
       " 7   -0,65 %               -00080  19:28:00  \n",
       " 8   -0,13 %               -00011  19:28:00  \n",
       " 9    0,24 %                03110  19:28:00  \n",
       " 10  -0,11 %               -00012  19:28:00  \n",
       " 11        %  Абсолютное значение     Время  \n",
       " 12   0,65 %                00054  19:28:00  \n",
       " 13   0,53 %                00037  19:28:00  \n",
       " 14   0,89 %                09710  19:28:00  \n",
       " 15   0,60 %                00054  19:28:00  \n",
       " 16        %  Абсолютное значение     Время  \n",
       " 17  -0,24 %                00000  19:28:00  \n",
       " 18  -0,36 %                00000  19:28:00  \n",
       " 19  -0,88 %               -00001  19:28:00  \n",
       " 20  -0,26 %                00000  19:28:00  \n",
       " 21        %  Абсолютное значение     Время  \n",
       " 22  -0,51 %               -00072  19:28:00  \n",
       " 23   0,36 %                05526  19:28:00  \n",
       " 24   0,13 %                00015  19:28:00  \n",
       " 25   0,11 %                00014  19:28:00  \n",
       " 26        %  Абсолютное значение     Время  \n",
       " 27   0,11 %                00014  19:28:00  \n",
       " 28  -0,11 %               -00012  19:28:00  \n",
       " 29  -0,26 %                00000  19:28:00  \n",
       " 30   0,60 %                00054  19:28:00  \n",
       " 31        %  Абсолютное значение     Время  \n",
       " 32  -0,54 %               -01820  19:27:00  \n",
       " 33   0,12 %                00321  19:27:00  \n",
       " 34  -0,50 %               -01529  19:27:00  \n",
       " 35  -0,41 %               -01590  19:28:00  ,\n",
       "                                                    0  \\\n",
       " 0                                      Имя и фамилия   \n",
       " 1                                            Телефон   \n",
       " 2                                                NaN   \n",
       " 3  Я даю согласие на обработку своих персональных...   \n",
       " \n",
       "                                                    1  \\\n",
       " 0                                              Город   \n",
       " 1                                              Email   \n",
       " 2                                                NaN   \n",
       " 3  Я даю согласие на обработку своих персональных...   \n",
       " \n",
       "                                                    2  \\\n",
       " 0                                                NaN   \n",
       " 1                                                NaN   \n",
       " 2  Спасибо! Ваша заявка отправлена Финансовый кон...   \n",
       " 3                                                NaN   \n",
       " \n",
       "                                                    3  \\\n",
       " 0                                                NaN   \n",
       " 1                                                NaN   \n",
       " 2  Спасибо! Ваша заявка отправлена Финансовый кон...   \n",
       " 3                                                NaN   \n",
       " \n",
       "                                                    4  \\\n",
       " 0                                                NaN   \n",
       " 1                                                NaN   \n",
       " 2  ошибка: не удалось создать заявку в журнале за...   \n",
       " 3                                                NaN   \n",
       " \n",
       "                                                    5                       6  \\\n",
       " 0                                                NaN                     NaN   \n",
       " 1                                                NaN                     NaN   \n",
       " 2  ошибка: не удалось создать заявку в журнале за...  ошибка: не POST-запрос   \n",
       " 3                                                NaN                     NaN   \n",
       " \n",
       "                         7                                                  8  \\\n",
       " 0                     NaN                                                NaN   \n",
       " 1                     NaN                                                NaN   \n",
       " 2  ошибка: не POST-запрос  Просим Вас согласиться на передачу и обработку...   \n",
       " 3                     NaN                                                NaN   \n",
       " \n",
       "                                                    9  \n",
       " 0                                                NaN  \n",
       " 1                                                NaN  \n",
       " 2  Просим Вас согласиться на передачу и обработку...  \n",
       " 3                                                NaN  ]"
      ]
     },
     "execution_count": 251,
     "metadata": {},
     "output_type": "execute_result"
    }
   ],
   "source": [
    "#задание3\n",
    "pd.read_html('https://www.finanz.ru/valyuty/v-realnom-vremeni', encoding = 'UTF-8')"
   ]
  }
 ],
 "metadata": {
  "kernelspec": {
   "display_name": "Python 3",
   "language": "python",
   "name": "python3"
  },
  "language_info": {
   "codemirror_mode": {
    "name": "ipython",
    "version": 3
   },
   "file_extension": ".py",
   "mimetype": "text/x-python",
   "name": "python",
   "nbconvert_exporter": "python",
   "pygments_lexer": "ipython3",
   "version": "3.8.5"
  }
 },
 "nbformat": 4,
 "nbformat_minor": 4
}
