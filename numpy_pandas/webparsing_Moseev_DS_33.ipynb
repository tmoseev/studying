{
 "cells": [
  {
   "cell_type": "code",
   "execution_count": 13,
   "metadata": {},
   "outputs": [],
   "source": [
    "import requests\n",
    "from bs4 import BeautifulSoup\n",
    "import pandas as pd\n",
    "import time\n",
    "import json\n",
    "pd.set_option('display.max_colwidth', 300)"
   ]
  },
  {
   "cell_type": "code",
   "execution_count": 16,
   "metadata": {},
   "outputs": [],
   "source": [
    "#задание1\n",
    "keywords = ['python', 'парсинг', 'Node.js']\n",
    "def find_article_on_habr(url):\n",
    "    #получаем реквест и делаем объект soup\n",
    "    site = requests.get(url)\n",
    "    soup = BeautifulSoup(site.text)\n",
    "    #находим все посты на странице и их превью\n",
    "    posts = soup.find_all('article', class_ = 'post')\n",
    "    article_preview = list(map(lambda x: x.find('div', class_ = 'post__text'), posts))\n",
    "    habr_news = pd.DataFrame()\n",
    "    #разделяем слова в превью\n",
    "    for elem in article_preview:\n",
    "        splitted = str(elem).split(' ')\n",
    "        #проверяем совпадение каждого слова из превью с искомыми ключевыми словами\n",
    "        for word in keywords:\n",
    "            #если есть совпадение то добавляем в датафрейм дату, название и ссылку\n",
    "            if word in splitted:\n",
    "                news_number = article_preview.index(elem)\n",
    "                date = posts[news_number].find('span', class_ = 'post__time').text\n",
    "                title = posts[news_number].find('h2', class_ = 'post__title').text\n",
    "                link = posts[news_number].find('h2', class_ = 'post__title').find('a').get('href')\n",
    "                result = {'date':date, 'title':title, 'link':link}\n",
    "                habr_news = pd.concat([habr_news, pd.DataFrame([result])], ignore_index = True)\n",
    "    return habr_news"
   ]
  },
  {
   "cell_type": "code",
   "execution_count": 19,
   "metadata": {
    "scrolled": true
   },
   "outputs": [
    {
     "data": {
      "text/html": [
       "<div>\n",
       "<style scoped>\n",
       "    .dataframe tbody tr th:only-of-type {\n",
       "        vertical-align: middle;\n",
       "    }\n",
       "\n",
       "    .dataframe tbody tr th {\n",
       "        vertical-align: top;\n",
       "    }\n",
       "\n",
       "    .dataframe thead th {\n",
       "        text-align: right;\n",
       "    }\n",
       "</style>\n",
       "<table border=\"1\" class=\"dataframe\">\n",
       "  <thead>\n",
       "    <tr style=\"text-align: right;\">\n",
       "      <th></th>\n",
       "      <th>date</th>\n",
       "      <th>title</th>\n",
       "      <th>link</th>\n",
       "    </tr>\n",
       "  </thead>\n",
       "  <tbody>\n",
       "    <tr>\n",
       "      <th>0</th>\n",
       "      <td>вчера в 17:10</td>\n",
       "      <td>\\nКнига «Создаем динамические веб-сайты на PHP. 4-е межд. изд.»\\n</td>\n",
       "      <td>https://habr.com/ru/company/piter/blog/558684/</td>\n",
       "    </tr>\n",
       "  </tbody>\n",
       "</table>\n",
       "</div>"
      ],
      "text/plain": [
       "            date  \\\n",
       "0  вчера в 17:10   \n",
       "\n",
       "                                                               title  \\\n",
       "0  \\nКнига «Создаем динамические веб-сайты на PHP. 4-е межд. изд.»\\n   \n",
       "\n",
       "                                             link  \n",
       "0  https://habr.com/ru/company/piter/blog/558684/  "
      ]
     },
     "execution_count": 19,
     "metadata": {},
     "output_type": "execute_result"
    }
   ],
   "source": [
    "find_article_on_habr('https://habr.com/ru/page4')"
   ]
  },
  {
   "cell_type": "code",
   "execution_count": null,
   "metadata": {},
   "outputs": [],
   "source": []
  },
  {
   "cell_type": "code",
   "execution_count": null,
   "metadata": {},
   "outputs": [],
   "source": [
    "#задание2\n",
    "email_list = ['testt@gmail.com','xyz@yahoo.com']\n",
    "avast_result = pd.DataFrame()\n",
    "for mail in email_list:\n",
    "    #делаем post запрос\n",
    "    url_ = 'https://identityprotection.avast.com/v1/web/query/site-breaches/unauthorized-data'\n",
    "    headers = {'User-agent':'Mozilla/5.0 (Windows NT 10.0; Win64; x64) AppleWebKit/537.36 (KHTML, like Gecko) Chrome/90.0.4430.212 Safari/537.36',\n",
    "                        'Vaar-Header-App-Product': 'hackcheck-web-avast',\n",
    "                        'Vaar-Header-App-Product-Name': 'hackcheck-web-avast',\n",
    "                        'Vaar-Header-App-Build-Version': '1.0.0',\n",
    "                        'Vaar-Version': '0',\n",
    "                        'Accept': 'application/json, text/plain, */*',\n",
    "                        'Content-Type': 'application/json;charset=UTF-8',\n",
    "                        'Host': 'identityprotection.avast.com',\n",
    "                        'Origin': 'https://www.avast.com',\n",
    "                        'Referer': 'https://www.avast.com/'                 \n",
    "                      }\n",
    "    email = {'emailAddresses': mail}\n",
    "    res = requests.post(url_, headers = headers, json = email)\n",
    "    soup_ = BeautifulSoup(r.text)\n",
    "    #находим Id утечек\n",
    "    for x in json.loads(soup_.text)['summary'][mail]['breaches']:\n",
    "        #для каждой утечки формируем датафрейм\n",
    "        date_breach = json.loads(soup_.text)['breaches'][str(x)]['publishDate']\n",
    "        sourse_breach = json.loads(soup_.text)['breaches'][str(x)]['site']\n",
    "        description_breach = json.loads(soup_.text)['breaches'][str(x)]['description'] \n",
    "        result_breach = {'date_breach': date_breach_breach, 'sourse_breach':sourse_breach, 'description':description_breach}\n",
    "        avast_result = pd.concat([avast_result, pd.DataFrame([result_breach])], ignore_index = True)\n",
    "        \n",
    "print(avast_result)"
   ]
  }
 ],
 "metadata": {
  "kernelspec": {
   "display_name": "Python 3",
   "language": "python",
   "name": "python3"
  },
  "language_info": {
   "codemirror_mode": {
    "name": "ipython",
    "version": 3
   },
   "file_extension": ".py",
   "mimetype": "text/x-python",
   "name": "python",
   "nbconvert_exporter": "python",
   "pygments_lexer": "ipython3",
   "version": "3.8.5"
  }
 },
 "nbformat": 4,
 "nbformat_minor": 4
}
