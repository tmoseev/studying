{
 "cells": [
  {
   "cell_type": "code",
   "execution_count": 1,
   "metadata": {},
   "outputs": [],
   "source": [
    "import numpy as np"
   ]
  },
  {
   "cell_type": "code",
   "execution_count": 4,
   "metadata": {
    "scrolled": true
   },
   "outputs": [
    {
     "name": "stdout",
     "output_type": "stream",
     "text": [
      "29290 0.11671\n"
     ]
    }
   ],
   "source": [
    "money = 100\n",
    "trials = 100000\n",
    "win = 0\n",
    "for i in range(trials):\n",
    "    result = np.random.randint(0,1000)\n",
    "    money -= 1\n",
    "    if result == 777:\n",
    "        money += 777\n",
    "        win += 1\n",
    "    elif result == 999:\n",
    "        money += 100\n",
    "        win += 1\n",
    "    elif result == 555:\n",
    "        money += 50\n",
    "        win += 1\n",
    "    elif result == 333:\n",
    "        money += 15\n",
    "        win += 1\n",
    "    elif result == 111:\n",
    "        money += 10\n",
    "        win += 1\n",
    "    elif result % 100 == 77:\n",
    "        money += 5\n",
    "        win += 1\n",
    "    elif result % 1000 == 7:\n",
    "        money += 3\n",
    "        win += 1\n",
    "    elif str(result)[1:3] == '00':\n",
    "        money += 2\n",
    "        win += 1\n",
    "    elif str(result)[-1] == '0':\n",
    "        money += 1\n",
    "        win += 1\n",
    "        \n",
    "print(money, win/trials)"
   ]
  },
  {
   "cell_type": "markdown",
   "metadata": {},
   "source": [
    "#### Вероятность любого выйгрыша (неважно какой суммы) с одной попытки равна отношению количества выйгрышных полей ко всем полям. Таким образом, всего полей, которые могут выпать, 999. Поля 777, 999, 555, 333, 111 имеют вероятность 1/999. Поля, оканчивающиеся на *77 и *00, имюет вероятность 10/999 (077, 177...977; 100,200...900). Поля, оканчивающиеся на * *7 и * *0, имеют вероятность 90/999 (007,017...997; 010, 020..990), за иксключением повторов типа 077 и 100 (10 чисел). Общая вероятность выйгрыша равна: "
   ]
  },
  {
   "cell_type": "code",
   "execution_count": 10,
   "metadata": {
    "scrolled": true
   },
   "outputs": [
    {
     "data": {
      "text/plain": [
       "0.2052052052052052"
      ]
     },
     "execution_count": 10,
     "metadata": {},
     "output_type": "execute_result"
    }
   ],
   "source": [
    "win_probability = 5/999 + 20/999 + 180/999\n",
    "win_probability"
   ]
  }
 ],
 "metadata": {
  "kernelspec": {
   "display_name": "Python 3",
   "language": "python",
   "name": "python3"
  },
  "language_info": {
   "codemirror_mode": {
    "name": "ipython",
    "version": 3
   },
   "file_extension": ".py",
   "mimetype": "text/x-python",
   "name": "python",
   "nbconvert_exporter": "python",
   "pygments_lexer": "ipython3",
   "version": "3.8.5"
  }
 },
 "nbformat": 4,
 "nbformat_minor": 4
}
