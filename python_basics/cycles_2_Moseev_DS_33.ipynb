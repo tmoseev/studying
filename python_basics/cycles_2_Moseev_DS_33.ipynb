{
 "cells": [
  {
   "cell_type": "markdown",
   "metadata": {},
   "source": [
    "Олег, для первого задания прилагаю два решения: через список и множество. Буду признателен, если прокомментируете чем правильней пользоваться при решении подобных задач (со стороны затрат ресурсов, в частности опертивной памяти, и читабельности кода для стороннего наблюдателя). Заранее спасибо!"
   ]
  },
  {
   "cell_type": "code",
   "execution_count": 40,
   "metadata": {},
   "outputs": [
    {
     "name": "stdout",
     "output_type": "stream",
     "text": [
      "[213, 15, 54, 119, 98, 35]\n"
     ]
    }
   ],
   "source": [
    "#задание1.решение через for и списки\n",
    "ids = {'user1': [213, 213, 213, 15, 213], \n",
    "       'user2': [54, 54, 119, 119, 119], \n",
    "       'user3': [213, 98, 98, 35]}\n",
    "val = list(ids.values())\n",
    "result = []\n",
    "for i in val:\n",
    "    for k in i:\n",
    "        if k not in result:\n",
    "            result.append(k)\n",
    "\n",
    "print(result)"
   ]
  },
  {
   "cell_type": "code",
   "execution_count": 41,
   "metadata": {},
   "outputs": [
    {
     "name": "stdout",
     "output_type": "stream",
     "text": [
      "{98, 35, 15, 213, 54, 119}\n"
     ]
    }
   ],
   "source": [
    "#задание1.решение через добавление в множество\n",
    "ids = {'user1': [213, 213, 213, 15, 213], \n",
    "       'user2': [54, 54, 119, 119, 119], \n",
    "       'user3': [213, 98, 98, 35]}\n",
    "val = list(ids.values())\n",
    "result_1 = set()\n",
    "for i in val:\n",
    "    for k in i:\n",
    "        result_1.add(k)\n",
    "\n",
    "print(result_1)"
   ]
  },
  {
   "cell_type": "code",
   "execution_count": 37,
   "metadata": {},
   "outputs": [
    {
     "name": "stdout",
     "output_type": "stream",
     "text": [
      "Поисковых запросов из 3 слов(а): 57.14 %\n",
      "Поисковых запросов из 2 слов(а): 42.86 %\n"
     ]
    }
   ],
   "source": [
    "#задача2\n",
    "queries = [\n",
    "    'смотреть сериалы онлайн',\n",
    "    'новости спорта',\n",
    "    'афиша кино',\n",
    "    'курс доллара',\n",
    "    'сериалы этим летом',\n",
    "    'курс по питону',\n",
    "    'сериалы про спорт',\n",
    "]\n",
    "\n",
    "storage = {}\n",
    "\n",
    "for el in queries:\n",
    "    words = el.split()\n",
    "    if len(words) not in storage.keys():\n",
    "        storage.update({len(words): 1})\n",
    "    else:   \n",
    "        storage[len(words)] += 1\n",
    "        \n",
    "for words_counted, counted_values in storage.items():\n",
    "     print('Поисковых запросов из', words_counted, 'слов(а):',round((counted_values/len(queries))*100, 2),'%')"
   ]
  },
  {
   "cell_type": "code",
   "execution_count": null,
   "metadata": {},
   "outputs": [],
   "source": [
    "#задание3\n",
    "results = {\n",
    "    'vk': {'revenue': 103, 'cost': 98},\n",
    "    'yandex': {'revenue': 179, 'cost': 153},\n",
    "    'facebook': {'revenue': 103, 'cost': 110},\n",
    "    'adwords': {'revenue': 35, 'cost': 34},\n",
    "    'twitter': {'revenue': 11, 'cost': 24},\n",
    "}\n",
    "\n",
    "for site, properties in results.items():\n",
    "    properties['ROI'] = (round(int(properties['revenue'])/int(properties['cost']), 2))\n",
    "    \n",
    "results"
   ]
  },
  {
   "cell_type": "code",
   "execution_count": null,
   "metadata": {},
   "outputs": [],
   "source": [
    "#задание4\n",
    "stats = {'facebook': 55, 'yandex': 115, 'vk': 120, 'google': 99, 'email': 42, 'ok': 98}\n",
    "maximum = [(sourse, volume) for volume, sourse in stats.items()]\n",
    "print('Максимальный объем продаж на рекламном канале:', max(maximum)[1])\n"
   ]
  },
  {
   "cell_type": "code",
   "execution_count": null,
   "metadata": {},
   "outputs": [],
   "source": [
    "#задание5 было разобрано на вебинаре\n",
    "my_list = ['2018-01-01', 'yandex', 'cpc', 100]\n",
    "\n",
    "last_el = my_list[-1]\n",
    "\n",
    "for el in reversed(my_list[:-1]):\n",
    "    last_el = {el:last_el}\n",
    "    \n",
    "last_el"
   ]
  }
 ],
 "metadata": {
  "kernelspec": {
   "display_name": "Python 3",
   "language": "python",
   "name": "python3"
  },
  "language_info": {
   "codemirror_mode": {
    "name": "ipython",
    "version": 3
   },
   "file_extension": ".py",
   "mimetype": "text/x-python",
   "name": "python",
   "nbconvert_exporter": "python",
   "pygments_lexer": "ipython3",
   "version": "3.8.5"
  }
 },
 "nbformat": 4,
 "nbformat_minor": 4
}
