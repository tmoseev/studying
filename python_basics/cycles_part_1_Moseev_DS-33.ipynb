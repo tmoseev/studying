{
 "cells": [
  {
   "cell_type": "code",
   "execution_count": null,
   "metadata": {},
   "outputs": [],
   "source": [
    "#задание 1\n",
    "word = 'test'\n",
    "if len(word) % 2 == 1:\n",
    "    print(word[len(word) // 2])\n",
    "else:\n",
    "    middle = int(len(word) / 2)\n",
    "    print(word[middle-1:middle+1])"
   ]
  },
  {
   "cell_type": "code",
   "execution_count": null,
   "metadata": {},
   "outputs": [],
   "source": [
    "#задание 2\n",
    "number = int(input('Введите число '))\n",
    "summary = 0\n",
    "while number != 0:\n",
    "    summary += number\n",
    "    number = int(input('Введите число '))\n",
    "print('Сумма чисел = ', summary)\n",
    "\n",
    "    \n"
   ]
  },
  {
   "cell_type": "code",
   "execution_count": null,
   "metadata": {},
   "outputs": [],
   "source": [
    "#задание 3\n",
    "boys = ['Peter', 'Alex', 'John', 'Arthur', 'Richard',]\n",
    "girls = ['Kate', 'Liza', 'Kira', 'Emma', 'Trisha',]\n",
    "if len(boys) == len(girls):\n",
    "    boys.sort()\n",
    "    girls.sort()\n",
    "    print ('Идеальные пары:')\n",
    "    i = 0\n",
    "    while i < len(boys):\n",
    "        print(boys[i], 'и', girls[i])\n",
    "        i += 1\n",
    "else:\n",
    "    print('Внимание, кто-то может остаться без пары!')"
   ]
  },
  {
   "cell_type": "code",
   "execution_count": null,
   "metadata": {},
   "outputs": [],
   "source": [
    "#задание 4\n",
    "countries_temperature = [\n",
    "    ['Thailand', [75.2, 77, 78.8, 73.4, 68, 75.2, 77]],\n",
    "    ['Germany', [57.2, 55.4, 59, 59, 53.6]],\n",
    "    ['Russia', [35.6, 37.4, 39.2, 41, 42.8, 39.2, 35.6]],\n",
    "    ['Poland', [50, 50, 53.6, 57.2, 55.4, 55.4]]\n",
    "]\n",
    "\n",
    "for k in countries_temperature:\n",
    "        print(k[0], '-', round((sum(k[1])/len(k[1])-32)*5/9,1), 'C')\n"
   ]
  },
  {
   "cell_type": "code",
   "execution_count": null,
   "metadata": {},
   "outputs": [],
   "source": [
    "#задание 5\n",
    "stream = [\n",
    "'2018-01-01,user100,150',\n",
    "'2018-01-07,user99,205',\n",
    "'2018-03-29,user1001,81'\n",
    "]\n",
    "views = 0\n",
    "users = []\n",
    "\n",
    "for element in stream:\n",
    "    listing = element.split(',')\n",
    "    views += int(listing[2])\n",
    "    if listing[1] not in users:\n",
    "        users.append(listing[1])\n",
    "\n",
    "print('Cреднее значение просмотров на пользователя:',round(views/len(users),2))\n"
   ]
  },
  {
   "cell_type": "code",
   "execution_count": null,
   "metadata": {},
   "outputs": [],
   "source": [
    "#задание 6\n",
    "numbers = input('Введите числа разделенные пробелом ')\n",
    "num = numbers.split(' ')\n",
    "res_list = []\n",
    "for numeral in num:\n",
    "    x = num.count(numeral)\n",
    "    if x > 1 and numeral not in res_list:       \n",
    "         res_list.append(numeral)\n",
    "print(res_list)"
   ]
  }
 ],
 "metadata": {
  "kernelspec": {
   "display_name": "Python 3",
   "language": "python",
   "name": "python3"
  },
  "language_info": {
   "codemirror_mode": {
    "name": "ipython",
    "version": 3
   },
   "file_extension": ".py",
   "mimetype": "text/x-python",
   "name": "python",
   "nbconvert_exporter": "python",
   "pygments_lexer": "ipython3",
   "version": "3.8.5"
  }
 },
 "nbformat": 4,
 "nbformat_minor": 4
}
