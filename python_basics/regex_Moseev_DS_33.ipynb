{
 "cells": [
  {
   "cell_type": "code",
   "execution_count": null,
   "metadata": {},
   "outputs": [],
   "source": [
    "#задание 1\n",
    "def car_number_validation(car_number):\n",
    "    import re\n",
    "    result = re.findall('[АВЕКМНОРСТУХ]\\d{3}[АВЕКМНОРСТУХ]{2}\\d{2,3}', car_number)\n",
    "    if result != []:\n",
    "        return f\"Результат: Номер {result[0][:6]} валиден. Регион: {result[0][6:]}\"\n",
    "    else: \n",
    "        return f\"Номер не валиден\"\n",
    "        \n",
    "car_number_validation(input('Введите номер автомобиля'))"
   ]
  },
  {
   "cell_type": "code",
   "execution_count": null,
   "metadata": {
    "scrolled": true
   },
   "outputs": [],
   "source": [
    "#задание2\n",
    "some_string = 'Напишите функцию функцию, которая будет будет будет будет удалять все все все все \\\n",
    "последовательные повторы слов из из из из заданной строки строки при помощи регулярных выражений'\n",
    "\n",
    "def delete_replies(string_):\n",
    "    import re\n",
    "    return re.sub(r'(\\w+)(\\s+\\1)+', r'\\1', string_)\n",
    "delete_replies(some_string)"
   ]
  },
  {
   "cell_type": "code",
   "execution_count": null,
   "metadata": {},
   "outputs": [],
   "source": [
    "#задание3\n",
    "some_words = 'Near Field Communication'\n",
    "def get_acronym(words):\n",
    "    import re\n",
    "    acronym = ''\n",
    "    temp_list = re.findall(r'\\b([a-zA-Z]|[а-яёА-ЯЁ])', some_words)\n",
    "    for i in temp_list:\n",
    "        acronym += i\n",
    "    return acronym.upper()\n",
    "\n",
    "print(get_acronym(some_words))"
   ]
  },
  {
   "cell_type": "code",
   "execution_count": null,
   "metadata": {
    "scrolled": false
   },
   "outputs": [],
   "source": [
    "#задание4\n",
    "def get_domains_zone_statistic(email_list):\n",
    "    import re\n",
    "    result_dic = {}\n",
    "    for elem in emails:\n",
    "        domains = re.findall(r'(?<=@)\\w+\\.\\w+', elem)\n",
    "        if domains[0] not in result_dic.keys():\n",
    "            result_dic.update({domains[0]: 1})\n",
    "        else:\n",
    "            result_dic[domains[0]] += 1\n",
    "    for key, value in result_dic.items():\n",
    "        print(f\"{key}:{value}\")\n",
    "\n",
    "emails = ['test@gmail.com', 'xyz@test.in', 'test@ya.ru', 'xyz@mail.ru', 'xyz@ya.ru', 'xyz@gmail.com']\n",
    "get_domains_zone_statistic(emails)"
   ]
  },
  {
   "cell_type": "code",
   "execution_count": null,
   "metadata": {},
   "outputs": [],
   "source": [
    "#задание5\n",
    "def get_words_by_vowel_or_consonant(text):\n",
    "    import re\n",
    "    vowel_dic = ['а','у','о','ы','и','э','я','ю','ё','е','А','У','О','Ы','И','Э','Я','Ю','Ё','Е', \\\n",
    "                 'a', 'e', 'i', 'o', 'u', 'y', 'A', 'E', 'I', 'O', 'U', 'Y']\n",
    "    statistic = {'vowel': 0,\n",
    "                 'consonant': 0}\n",
    "    result_list = re.findall(r'\\b([a-zA-Z]|[а-яёА-ЯЁ])', text)\n",
    "    for letter in result_list:\n",
    "        if letter in vowel_dic:\n",
    "            statistic['vowel'] += 1 \n",
    "        else:\n",
    "            statistic['consonant'] += 1 \n",
    "    return f\"Слов на гласные буквы: {statistic['vowel']} \\nСлов на согласные буквы: {statistic['consonant']}\"\n"
   ]
  },
  {
   "cell_type": "code",
   "execution_count": null,
   "metadata": {
    "scrolled": true
   },
   "outputs": [],
   "source": [
    "some_text = 'Эталонной реализацией Python является интерпретатор CPython, поддерживающий большинство активно используемых платформ. Он распространяется под свободной лицензией Python Software Foundation License, позволяющей использовать его без ограничений в любых приложениях, включая проприетарные.'\n",
    "\n",
    "\n",
    "print(get_words_by_vowel_or_consonant(some_text))"
   ]
  }
 ],
 "metadata": {
  "kernelspec": {
   "display_name": "Python 3",
   "language": "python",
   "name": "python3"
  },
  "language_info": {
   "codemirror_mode": {
    "name": "ipython",
    "version": 3
   },
   "file_extension": ".py",
   "mimetype": "text/x-python",
   "name": "python",
   "nbconvert_exporter": "python",
   "pygments_lexer": "ipython3",
   "version": "3.8.5"
  }
 },
 "nbformat": 4,
 "nbformat_minor": 4
}
