{
 "cells": [
  {
   "cell_type": "code",
   "execution_count": 110,
   "metadata": {
    "scrolled": true
   },
   "outputs": [],
   "source": [
    "#задание 1\n",
    "purchases = {}\n",
    "plog = open('purchase_log.txt', 'r', encoding = 'utf-8')\n",
    "import json\n",
    "for line in plog:\n",
    "    dict_temp = json.loads(line)\n",
    "    key = dict_temp['user_id']\n",
    "    value = dict_temp['category']\n",
    "    purchases.setdefault(key, value)"
   ]
  },
  {
   "cell_type": "code",
   "execution_count": 126,
   "metadata": {},
   "outputs": [],
   "source": [
    "#задание 2\n",
    "with open('visit_log.csv', 'r') as vlog: \n",
    "    with open('funnel.csv', 'w') as funnel:\n",
    "        for data in vlog:\n",
    "            rows = data.strip().split(',')\n",
    "            if rows[0] in purchases.keys():\n",
    "                rows.append(purchases[rows[0]])\n",
    "                new_line = ','.join(rows)\n",
    "                funnel.write(new_line+'\\n')"
   ]
  },
  {
   "cell_type": "code",
   "execution_count": null,
   "metadata": {},
   "outputs": [],
   "source": []
  }
 ],
 "metadata": {
  "kernelspec": {
   "display_name": "Python 3",
   "language": "python",
   "name": "python3"
  },
  "language_info": {
   "codemirror_mode": {
    "name": "ipython",
    "version": 3
   },
   "file_extension": ".py",
   "mimetype": "text/x-python",
   "name": "python",
   "nbconvert_exporter": "python",
   "pygments_lexer": "ipython3",
   "version": "3.8.5"
  }
 },
 "nbformat": 4,
 "nbformat_minor": 4
}
