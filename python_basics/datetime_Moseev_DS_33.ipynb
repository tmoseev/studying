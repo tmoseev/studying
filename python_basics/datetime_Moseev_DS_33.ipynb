{
 "cells": [
  {
   "cell_type": "code",
   "execution_count": null,
   "metadata": {
    "scrolled": true
   },
   "outputs": [],
   "source": [
    "#задание1\n",
    "the_moscow_times = 'Wednesday, October 2, 2002'\n",
    "the_guardian = 'Friday, 11.10.13'\n",
    "daily_news = 'Thursday, 18 August 1977'\n",
    "\n",
    "from datetime import datetime\n",
    "the_moscow_times_datetime = datetime.strptime(the_moscow_times, '%A, %B %d, %Y')\n",
    "the_guardian_datetime = datetime.strptime(the_guardian, '%A, %d.%m.%y')\n",
    "daily_news_datetime = datetime.strptime(daily_news, '%A, %d %B %Y')\n",
    "print(the_guardian_datetime, the_guardian_datetime, daily_news_datetime)"
   ]
  },
  {
   "cell_type": "code",
   "execution_count": null,
   "metadata": {
    "scrolled": true
   },
   "outputs": [],
   "source": [
    "#задание2\n",
    "stream = ['2018-04-02', '2018-02-29', '2018-19-02']\n",
    "def check_dates(array_of_dates):\n",
    "    from datetime import datetime\n",
    "    for date in array_of_dates:\n",
    "        try:\n",
    "            datetime.strptime(date, '%Y-%m-%d')\n",
    "            print(True)\n",
    "        except:\n",
    "            print(False)\n",
    "        \n",
    "check_dates(stream)"
   ]
  },
  {
   "cell_type": "code",
   "execution_count": null,
   "metadata": {},
   "outputs": [],
   "source": [
    "#задание3\n",
    "def data_range(start_date, end_date):\n",
    "    from datetime import datetime, timedelta\n",
    "    try:\n",
    "        start_date_dt = datetime.strptime(start_date, '%Y-%m-%d')\n",
    "        end_date_dt = datetime.strptime(end_date, '%Y-%m-%d')\n",
    "        if start_date < end_date:\n",
    "            while start_date_dt < end_date_dt:\n",
    "                start_date_dt += timedelta(days=1)\n",
    "                print(start_date_dt)\n",
    "        else:\n",
    "            print('Конечная дата не может быть меньше начальной')\n",
    "    except:\n",
    "            print('Неверный формат даты')\n",
    "            \n",
    "start_date = input('Введите начальную дату в формате YYYY-MM-DD: ')\n",
    "end_date = input('Введите конечную дату в формате YYYY-MM-DD: ')            \n",
    "data_range(start_date, end_date)"
   ]
  },
  {
   "cell_type": "code",
   "execution_count": null,
   "metadata": {},
   "outputs": [],
   "source": []
  },
  {
   "cell_type": "code",
   "execution_count": null,
   "metadata": {},
   "outputs": [],
   "source": []
  },
  {
   "cell_type": "markdown",
   "metadata": {},
   "source": [
    "Задание:\n",
    "\n",
    "* 1. Что значит ошибка list index out of range?\n",
    "    + Ошибка list index out of range возникает тогда, когда функция обращается к такому индексу в списке, которого не существует.\n",
    "* 2. Почему при первом запуске функция работает корректно, а при втором - нет?\n",
    "    + element_to_delete = default_list[-1] в этой строчке происходит удаление последнего элемента из списка (в примере в списке 3 значения - соответсвенно удаляется второй элемент), затем default_list[DEFAULT_USER_COUNT-2] в этой строчке возвращается предпоследний элемент из исходного списка (то есть первый элемент). Когда функция выполняется два раза, оператор пытается вернуть элемент с индексом -1, из-за этого и возникает ошибка."
   ]
  },
  {
   "cell_type": "code",
   "execution_count": null,
   "metadata": {
    "scrolled": true
   },
   "outputs": [],
   "source": [
    "DEFAULT_USER_COUNT = 3\n",
    "\n",
    "def delete_and_return_last_user(region, default_list=['A100', 'A101', 'A102']):\n",
    "    \"\"\"\n",
    "    Удаляет из списка default_list последнего пользователя\n",
    "    и возвращает ID нового последнего пользователя.\n",
    "    \"\"\"\n",
    "    element_to_delete = default_list[-1]\n",
    "    default_list.remove(element_to_delete)\n",
    "\n",
    "    return default_list[DEFAULT_USER_COUNT-2]\n",
    "\n",
    "delete_and_return_last_user(DEFAULT_USER_COUNT)\n",
    "delete_and_return_last_user(DEFAULT_USER_COUNT)"
   ]
  },
  {
   "cell_type": "markdown",
   "metadata": {},
   "source": [
    "#### Пример исправления: возвращать последний элемет уже модифицированного списка (из которого удален последний элемент) -- return default_list[-1]--, в таком случае функция два раза работает корректно, но возвращает ошибку соответсвенно на третий раз. Если добавить условие на проверку длины списка, функция работает корректно."
   ]
  },
  {
   "cell_type": "code",
   "execution_count": 120,
   "metadata": {},
   "outputs": [
    {
     "name": "stdout",
     "output_type": "stream",
     "text": [
      "список кончился\n"
     ]
    }
   ],
   "source": [
    "DEFAULT_USER_COUNT = 3\n",
    "\n",
    "def delete_and_return_last_user(region, default_list=['A100', 'A101', 'A102']):\n",
    "    \"\"\"\n",
    "    Удаляет из списка default_list последнего пользователя\n",
    "    и возвращает ID нового последнего пользователя.\n",
    "    \"\"\"\n",
    "    if len(default_list) >1:\n",
    "        element_to_delete = default_list[-1]\n",
    "        default_list.remove(element_to_delete)\n",
    "        return default_list[-1]\n",
    "    else: \n",
    "        print('список кончился')\n",
    "        \n",
    "delete_and_return_last_user(DEFAULT_USER_COUNT)\n",
    "delete_and_return_last_user(DEFAULT_USER_COUNT)\n",
    "delete_and_return_last_user(DEFAULT_USER_COUNT)"
   ]
  }
 ],
 "metadata": {
  "kernelspec": {
   "display_name": "Python 3",
   "language": "python",
   "name": "python3"
  },
  "language_info": {
   "codemirror_mode": {
    "name": "ipython",
    "version": 3
   },
   "file_extension": ".py",
   "mimetype": "text/x-python",
   "name": "python",
   "nbconvert_exporter": "python",
   "pygments_lexer": "ipython3",
   "version": "3.8.5"
  }
 },
 "nbformat": 4,
 "nbformat_minor": 4
}
