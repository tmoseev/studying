{
 "cells": [
  {
   "cell_type": "code",
   "execution_count": null,
   "metadata": {
    "scrolled": true
   },
   "outputs": [],
   "source": [
    "#задание1\n",
    "the_moscow_times = 'Wednesday, October 2, 2002'\n",
    "the_guardian = 'Friday, 11.10.13'\n",
    "daily_news = 'Thursday, 18 August 1977'\n",
    "\n",
    "from datetime import datetime\n",
    "the_moscow_times_datetime = datetime.strptime(the_moscow_times, '%A, %B %d, %Y')\n",
    "the_guardian_datetime = datetime.strptime(the_guardian, '%A, %d.%m.%y')\n",
    "daily_news_datetime = datetime.strptime(daily_news, '%A, %d %B %Y')\n",
    "print(the_guardian_datetime, the_guardian_datetime, daily_news_datetime)"
   ]
  },
  {
   "cell_type": "code",
   "execution_count": null,
   "metadata": {
    "scrolled": true
   },
   "outputs": [],
   "source": [
    "#задание2\n",
    "stream = ['2018-04-02', '2018-02-29', '2018-19-02']\n",
    "def check_dates(array_of_dates):\n",
    "    from datetime import datetime\n",
    "    for date in array_of_dates:\n",
    "        try:\n",
    "            datetime.strptime(date, '%Y-%m-%d')\n",
    "            print(True)\n",
    "        except:\n",
    "            print(False)\n",
    "        \n",
    "check_dates(stream)"
   ]
  },
  {
   "cell_type": "code",
   "execution_count": null,
   "metadata": {},
   "outputs": [],
   "source": [
    "#задание3\n",
    "def data_range(start_date, end_date):\n",
    "    from datetime import datetime, timedelta\n",
    "    try:\n",
    "        start_date_dt = datetime.strptime(start_date, '%Y-%m-%d')\n",
    "        end_date_dt = datetime.strptime(end_date, '%Y-%m-%d')\n",
    "        if start_date < end_date:\n",
    "            while start_date_dt < end_date_dt:\n",
    "                start_date_dt += timedelta(days=1)\n",
    "                print(start_date_dt)\n",
    "        else:\n",
    "            print('Конечная дата не может быть меньше начальной')\n",
    "    except:\n",
    "            print('Неверный формат даты')\n",
    "            \n",
    "start_date = input('Введите начальную дату в формате YYYY-MM-DD: ')\n",
    "end_date = input('Введите конечную дату в формате YYYY-MM-DD: ')            \n",
    "data_range(start_date, end_date)"
   ]
  }
 ],
 "metadata": {
  "kernelspec": {
   "display_name": "Python 3",
   "language": "python",
   "name": "python3"
  },
  "language_info": {
   "codemirror_mode": {
    "name": "ipython",
    "version": 3
   },
   "file_extension": ".py",
   "mimetype": "text/x-python",
   "name": "python",
   "nbconvert_exporter": "python",
   "pygments_lexer": "ipython3",
   "version": "3.8.5"
  }
 },
 "nbformat": 4,
 "nbformat_minor": 4
}
