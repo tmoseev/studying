{
 "cells": [
  {
   "cell_type": "code",
   "execution_count": null,
   "metadata": {},
   "outputs": [],
   "source": [
    "#задание 1\n",
    "phrase_1 = 'Насколько проще было бы писать программы'\n",
    "phrase_2 = 'Насколько проще было бы писать программы'\n",
    "if len(phrase_1) > len(phrase_2):\n",
    "    print ('Фраза 1 длиннее фразы 2')\n",
    "elif len(phrase_1) < len(phrase_2):\n",
    "    print('Фраза 2 длинее фразы 1')\n",
    "else:\n",
    "    print ('Фразы равной длины')"
   ]
  },
  {
   "cell_type": "code",
   "execution_count": 8,
   "metadata": {},
   "outputs": [
    {
     "name": "stdout",
     "output_type": "stream",
     "text": [
      "Обычный год\n"
     ]
    }
   ],
   "source": [
    "    #задание 2\n",
    "    year = 2021\n",
    "    if year>0 and year % 4 == 0:\n",
    "        print ('Високосный год')\n",
    "    elif year>0 and year % 4 !=0:\n",
    "        print ('Обычный год')\n",
    "    else:\n",
    "        print ('Недопустимое значение года')"
   ]
  },
  {
   "cell_type": "code",
   "execution_count": null,
   "metadata": {},
   "outputs": [],
   "source": [
    "#задание 3\n",
    "day=int(input('Введите день '))\n",
    "month=input('Введите месяц ')\n",
    "if month=='март' and 21 <= day < 32 or month=='апрель' and 0< day <=20:\n",
    "    print ('Ваш знак зодиака Овен') \n",
    "elif month=='апрель' and 21 <= day < 31 or month=='май' and 0< day <=21:\n",
    "    print ('Ваш знак зодиака Телец')\n",
    "elif month=='май' and 22 <= day < 32 or month=='июнь' and 0< day <=21:\n",
    "    print ('Ваш знак зодиака Близнецы')\n",
    "elif month=='июнь' and 22 <= day < 31 or month=='июль' and 0< day <=22:\n",
    "    print ('Ваш знак зодиака Рак')\n",
    "elif month=='июль' and 23 <= day < 32 or month=='август' and 0< day <=21:\n",
    "    print ('Ваш знак зодиака Лев')\n",
    "elif month=='август' and 22 <= day < 32 or month=='сентябрь' and 0< day <=23:\n",
    "    print ('Ваш знак зодиака Дева')\n",
    "elif month=='сентябрь' and 24 <= day < 31 or month=='октябрь' and 0< day <=23:\n",
    "    print ('Ваш знак зодиака Весы')\n",
    "elif month=='октябрь' and 24 <= day < 32 or month=='ноябрь' and 0< day <=22:\n",
    "    print ('Ваш знак зодиака Скорпион')\n",
    "elif month=='ноябрь' and 23 <= day < 31 or month=='декабрь' and 0< day <=22:\n",
    "    print ('Ваш знак зодиака Стрелец')\n",
    "elif month=='декабрь' and 23 <= day < 32 or month=='январь' and 0< day <=20:\n",
    "    print ('Ваш знак зодиака Козерог')\n",
    "elif month=='январь' and 21 <= day < 32 or month=='февраль' and 0< day <=19:\n",
    "    print ('Ваш знак зодиака Водолей')\n",
    "elif month=='февраль' and 20 <= day < 29 or month=='март' and 0< day <=20:\n",
    "    print ('Ваш знак зодиака Рыбы')\n",
    "else:\n",
    "    print('Неверный формат даты или месяца')"
   ]
  },
  {
   "cell_type": "code",
   "execution_count": 6,
   "metadata": {},
   "outputs": [
    {
     "name": "stdout",
     "output_type": "stream",
     "text": [
      "Стандартная коробка №3\n"
     ]
    }
   ],
   "source": [
    "#задание 4\n",
    "width = 15\n",
    "length = 50\n",
    "height = 15\n",
    "\n",
    "if width < 15 and length < 15 and height < 15:\n",
    "    print('Коробка №1')\n",
    "elif 15 < width < 50 or 15 < length < 50 or 15 < height < 50:\n",
    "    print('Коробка №2')\n",
    "elif length > 200:\n",
    "    print('Упаковка для лыж')\n",
    "else:\n",
    "    print ('Стандартная коробка №3')"
   ]
  },
  {
   "cell_type": "code",
   "execution_count": null,
   "metadata": {},
   "outputs": [],
   "source": [
    "#задание 5\n",
    "number = 123123\n",
    "sixth_digit = number % 10\n",
    "fifth_digit = number % 100 // 10\n",
    "fourth_digit = number % 1000 // 100\n",
    "trird_digit = number % 10000 // 1000\n",
    "second_digit = number % 100000 // 10000\n",
    "first_digit = number % 1000000 // 100000\n",
    "sum1 = first_digit + second_digit + trird_digit\n",
    "sum2 = fourth_digit + fifth_digit + sixth_digit\n",
    "\n",
    "if sum1 == sum2:\n",
    "    print ('Счастливый билет')\n",
    "else:\n",
    "    print ('Несчастливый билет')\n"
   ]
  },
  {
   "cell_type": "code",
   "execution_count": 6,
   "metadata": {},
   "outputs": [
    {
     "name": "stdout",
     "output_type": "stream",
     "text": [
      "Введите тип фигуры (круг, треугольник, прямоугольник) треугольник\n",
      "Введите длину первой стороны 5\n",
      "Введите длину второй стороны 6\n",
      "Введите длину третьей стороны 9\n",
      "Площадь треугольника= 14.142135623730951\n"
     ]
    }
   ],
   "source": [
    "figure_type = input ('Введите тип фигуры (круг, треугольник, прямоугольник) ')\n",
    "if figure_type == 'круг':\n",
    "    radius = int (input ('Введите радиус '))\n",
    "    print ('Площадь круга = ', radius**2*3.141592653589793)\n",
    "elif figure_type == 'треугольник':\n",
    "    side_triangle1 = int (input ('Введите длину первой стороны '))\n",
    "    side_triangle2 = int (input ('Введите длину второй стороны '))\n",
    "    side_triangle3 = int (input ('Введите длину третьей стороны '))\n",
    "    pp = (side_triangle1+side_triangle2+side_triangle3)/2\n",
    "    print ('Площадь треугольника=', (pp*(pp-side_triangle1)*(pp-side_triangle2)*(pp-side_triangle3))**0.5)\n",
    "else:\n",
    "    side_square1 = int (input ('Введите длину первой стороны '))\n",
    "    side_square2 = int (input ('Введите длину второй стороны '))\n",
    "    print('Площадь прямоугольника= ', side_square1*side_square2)"
   ]
  }
 ],
 "metadata": {
  "kernelspec": {
   "display_name": "Python 3",
   "language": "python",
   "name": "python3"
  },
  "language_info": {
   "codemirror_mode": {
    "name": "ipython",
    "version": 3
   },
   "file_extension": ".py",
   "mimetype": "text/x-python",
   "name": "python",
   "nbconvert_exporter": "python",
   "pygments_lexer": "ipython3",
   "version": "3.8.5"
  }
 },
 "nbformat": 4,
 "nbformat_minor": 4
}
