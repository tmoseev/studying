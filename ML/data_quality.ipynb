{
 "cells": [
  {
   "cell_type": "code",
   "execution_count": 1,
   "metadata": {},
   "outputs": [],
   "source": [
    "import numpy as np\n",
    "import pandas as pd\n",
    "import seaborn as sns\n",
    "\n",
    "from sklearn.linear_model import LinearRegression"
   ]
  },
  {
   "cell_type": "markdown",
   "metadata": {},
   "source": [
    "#### Пусть есть датасет людей, которые владеют неким предметом, который описывается параметрами длина, ширина, высота. "
   ]
  },
  {
   "cell_type": "code",
   "execution_count": 70,
   "metadata": {
    "scrolled": true
   },
   "outputs": [
    {
     "data": {
      "text/html": [
       "<div>\n",
       "<style scoped>\n",
       "    .dataframe tbody tr th:only-of-type {\n",
       "        vertical-align: middle;\n",
       "    }\n",
       "\n",
       "    .dataframe tbody tr th {\n",
       "        vertical-align: top;\n",
       "    }\n",
       "\n",
       "    .dataframe thead th {\n",
       "        text-align: right;\n",
       "    }\n",
       "</style>\n",
       "<table border=\"1\" class=\"dataframe\">\n",
       "  <thead>\n",
       "    <tr style=\"text-align: right;\">\n",
       "      <th></th>\n",
       "      <th>age_owner</th>\n",
       "      <th>height_owner_cm</th>\n",
       "      <th>weight_owner_kg</th>\n",
       "      <th>length</th>\n",
       "      <th>width</th>\n",
       "      <th>height</th>\n",
       "      <th>price</th>\n",
       "    </tr>\n",
       "  </thead>\n",
       "  <tbody>\n",
       "    <tr>\n",
       "      <th>0</th>\n",
       "      <td>40</td>\n",
       "      <td>168</td>\n",
       "      <td>70</td>\n",
       "      <td>424</td>\n",
       "      <td>61</td>\n",
       "      <td>14</td>\n",
       "      <td>5431930</td>\n",
       "    </tr>\n",
       "    <tr>\n",
       "      <th>1</th>\n",
       "      <td>27</td>\n",
       "      <td>161</td>\n",
       "      <td>96</td>\n",
       "      <td>436</td>\n",
       "      <td>62</td>\n",
       "      <td>25</td>\n",
       "      <td>10137490</td>\n",
       "    </tr>\n",
       "    <tr>\n",
       "      <th>2</th>\n",
       "      <td>44</td>\n",
       "      <td>150</td>\n",
       "      <td>90</td>\n",
       "      <td>172</td>\n",
       "      <td>82</td>\n",
       "      <td>11</td>\n",
       "      <td>2327650</td>\n",
       "    </tr>\n",
       "    <tr>\n",
       "      <th>3</th>\n",
       "      <td>22</td>\n",
       "      <td>156</td>\n",
       "      <td>81</td>\n",
       "      <td>383</td>\n",
       "      <td>50</td>\n",
       "      <td>40</td>\n",
       "      <td>11490490</td>\n",
       "    </tr>\n",
       "    <tr>\n",
       "      <th>4</th>\n",
       "      <td>38</td>\n",
       "      <td>164</td>\n",
       "      <td>77</td>\n",
       "      <td>147</td>\n",
       "      <td>67</td>\n",
       "      <td>40</td>\n",
       "      <td>5909890</td>\n",
       "    </tr>\n",
       "  </tbody>\n",
       "</table>\n",
       "</div>"
      ],
      "text/plain": [
       "   age_owner  height_owner_cm  weight_owner_kg  length  width  height  \\\n",
       "0         40              168               70     424     61      14   \n",
       "1         27              161               96     436     62      25   \n",
       "2         44              150               90     172     82      11   \n",
       "3         22              156               81     383     50      40   \n",
       "4         38              164               77     147     67      40   \n",
       "\n",
       "      price  \n",
       "0   5431930  \n",
       "1  10137490  \n",
       "2   2327650  \n",
       "3  11490490  \n",
       "4   5909890  "
      ]
     },
     "execution_count": 70,
     "metadata": {},
     "output_type": "execute_result"
    }
   ],
   "source": [
    "# пусть количество записей равно 1000\n",
    "n_samples = 1000\n",
    "np.random.seed(33)\n",
    "\n",
    "#добавляем параметры\n",
    "#возраст владельца\n",
    "age_owner = np.random.randint(20, 80, n_samples)\n",
    "#рост владельца\n",
    "height_owner_cm = np.random.randint(150, 190, n_samples)\n",
    "#вес владельца\n",
    "weight_owner_kg = np.random.randint(70, 110, n_samples)\n",
    "\n",
    "#добавляем параметры предмета\n",
    "length = np.random.randint(100, 500, n_samples)\n",
    "width = np.random.randint(50, 90, n_samples)\n",
    "height = np.random.randint(10, 45, n_samples)\n",
    "\n",
    "#цена предмета описывается линейной зависимостью от параметров предмета\n",
    "price = length * width * height * np.random.randint(100) + np.random.randint(400,800)\n",
    "\n",
    "data = pd.DataFrame({'age_owner': age_owner, 'height_owner_cm':height_owner_cm, 'weight_owner_kg': weight_owner_kg, \\\n",
    "                     'length': length, 'width': width, 'height': height, 'price': price})\n",
    "data.head(5)"
   ]
  },
  {
   "cell_type": "code",
   "execution_count": 73,
   "metadata": {},
   "outputs": [
    {
     "name": "stdout",
     "output_type": "stream",
     "text": [
      "slope: 20, intercept: 791\n"
     ]
    }
   ],
   "source": [
    "#узнать параметры моедли линейной регрессии\n",
    "np.random.seed(33)\n",
    "print(f\"slope: {np.random.randint(100)}, intercept: {np.random.randint(400,800)}\")"
   ]
  },
  {
   "cell_type": "code",
   "execution_count": null,
   "metadata": {},
   "outputs": [],
   "source": []
  },
  {
   "cell_type": "code",
   "execution_count": 59,
   "metadata": {},
   "outputs": [
    {
     "name": "stdout",
     "output_type": "stream",
     "text": [
      "Weights: [  4936.84224005  -1479.53895634   4455.80213606  28297.08401288\n",
      " 127165.36004883 315243.46143326]\n",
      "Bias: -17819905.060555644\n",
      "Error 1051712.7246658402\n"
     ]
    }
   ],
   "source": [
    "# качестве метрики ошибки будем использовать средную абсолютную ошибку\n",
    "from sklearn.metrics import mean_absolute_error\n",
    "\n",
    "#Изначально предполагаем, что цена предмета зависит от всех признаков\n",
    "#Х - исследуемые параметры\n",
    "X = data[['age_owner', 'height_owner_cm', 'weight_owner_kg', 'length', 'width','height']]\n",
    "#y - целевая переменная\n",
    "y = data['price']\n",
    "\n",
    "#задаем регрессию\n",
    "reg = LinearRegression().fit(X, y)\n",
    "\n",
    "print(f\"Weights: {reg.coef_}\") #коэффициенты линейной регрессии \n",
    "print(f\"Bias: {reg.intercept_}\") # свободный коэффициент линейной регрессии\n",
    "\n",
    "pred_values = reg.predict(data[['age_owner', 'height_owner_cm', 'weight_owner_kg', \\\n",
    "                                'length', 'width','height']]) # предсказываем значения согласно построенной модели\n",
    "print(f\"Error {mean_absolute_error(pred_values, y)}\")"
   ]
  },
  {
   "cell_type": "markdown",
   "metadata": {},
   "source": [
    "#### Модель работает некорректно, ошибка огромная. Предположим что цена предмета не зависит от параметров владельца."
   ]
  },
  {
   "cell_type": "code",
   "execution_count": 60,
   "metadata": {},
   "outputs": [
    {
     "name": "stdout",
     "output_type": "stream",
     "text": [
      "Weights: [ 28310.80291929 127325.58230876 314987.78448734]\n",
      "Bias: -17436338.12852411\n",
      "Error 1051023.9307760783\n"
     ]
    }
   ],
   "source": [
    "X = data[['length', 'width','height']]\n",
    "y = data['price']\n",
    "\n",
    "reg = LinearRegression().fit(X, y)\n",
    "\n",
    "print(f\"Weights: {reg.coef_}\") \n",
    "print(f\"Bias: {reg.intercept_}\")\n",
    "\n",
    "pred_values = reg.predict(data[['length', 'width','height']]) \n",
    "print(f\"Error {mean_absolute_error(pred_values, y)}\")"
   ]
  },
  {
   "cell_type": "markdown",
   "metadata": {},
   "source": [
    "#### Модель всё также работает некорректно, ошибка огромная. Значит, что 1) либо цена предмета не зависит от каждого из параметров предмета отдельно (по типу модели k1x1 + k2x2 + k3x3 ...) 2) либо цена предмета всё же зависит от параметров владельца.\n",
    "#### Предположим что цена модели зависит от произведения ее параметров"
   ]
  },
  {
   "cell_type": "code",
   "execution_count": 75,
   "metadata": {
    "scrolled": true
   },
   "outputs": [
    {
     "data": {
      "text/html": [
       "<div>\n",
       "<style scoped>\n",
       "    .dataframe tbody tr th:only-of-type {\n",
       "        vertical-align: middle;\n",
       "    }\n",
       "\n",
       "    .dataframe tbody tr th {\n",
       "        vertical-align: top;\n",
       "    }\n",
       "\n",
       "    .dataframe thead th {\n",
       "        text-align: right;\n",
       "    }\n",
       "</style>\n",
       "<table border=\"1\" class=\"dataframe\">\n",
       "  <thead>\n",
       "    <tr style=\"text-align: right;\">\n",
       "      <th></th>\n",
       "      <th>age_owner</th>\n",
       "      <th>height_owner_cm</th>\n",
       "      <th>weight_owner_kg</th>\n",
       "      <th>length</th>\n",
       "      <th>width</th>\n",
       "      <th>height</th>\n",
       "      <th>price</th>\n",
       "      <th>suggested_feature</th>\n",
       "    </tr>\n",
       "  </thead>\n",
       "  <tbody>\n",
       "    <tr>\n",
       "      <th>0</th>\n",
       "      <td>40</td>\n",
       "      <td>168</td>\n",
       "      <td>70</td>\n",
       "      <td>424</td>\n",
       "      <td>61</td>\n",
       "      <td>14</td>\n",
       "      <td>5431930</td>\n",
       "      <td>362096</td>\n",
       "    </tr>\n",
       "    <tr>\n",
       "      <th>1</th>\n",
       "      <td>27</td>\n",
       "      <td>161</td>\n",
       "      <td>96</td>\n",
       "      <td>436</td>\n",
       "      <td>62</td>\n",
       "      <td>25</td>\n",
       "      <td>10137490</td>\n",
       "      <td>675800</td>\n",
       "    </tr>\n",
       "    <tr>\n",
       "      <th>2</th>\n",
       "      <td>44</td>\n",
       "      <td>150</td>\n",
       "      <td>90</td>\n",
       "      <td>172</td>\n",
       "      <td>82</td>\n",
       "      <td>11</td>\n",
       "      <td>2327650</td>\n",
       "      <td>155144</td>\n",
       "    </tr>\n",
       "    <tr>\n",
       "      <th>3</th>\n",
       "      <td>22</td>\n",
       "      <td>156</td>\n",
       "      <td>81</td>\n",
       "      <td>383</td>\n",
       "      <td>50</td>\n",
       "      <td>40</td>\n",
       "      <td>11490490</td>\n",
       "      <td>766000</td>\n",
       "    </tr>\n",
       "    <tr>\n",
       "      <th>4</th>\n",
       "      <td>38</td>\n",
       "      <td>164</td>\n",
       "      <td>77</td>\n",
       "      <td>147</td>\n",
       "      <td>67</td>\n",
       "      <td>40</td>\n",
       "      <td>5909890</td>\n",
       "      <td>393960</td>\n",
       "    </tr>\n",
       "  </tbody>\n",
       "</table>\n",
       "</div>"
      ],
      "text/plain": [
       "   age_owner  height_owner_cm  weight_owner_kg  length  width  height  \\\n",
       "0         40              168               70     424     61      14   \n",
       "1         27              161               96     436     62      25   \n",
       "2         44              150               90     172     82      11   \n",
       "3         22              156               81     383     50      40   \n",
       "4         38              164               77     147     67      40   \n",
       "\n",
       "      price  suggested_feature  \n",
       "0   5431930             362096  \n",
       "1  10137490             675800  \n",
       "2   2327650             155144  \n",
       "3  11490490             766000  \n",
       "4   5909890             393960  "
      ]
     },
     "execution_count": 75,
     "metadata": {},
     "output_type": "execute_result"
    }
   ],
   "source": [
    "data['suggested_feature'] = data['length'] * data['width']*data['height']\n",
    "data.head(5)"
   ]
  },
  {
   "cell_type": "code",
   "execution_count": 63,
   "metadata": {},
   "outputs": [
    {
     "name": "stdout",
     "output_type": "stream",
     "text": [
      "Weights: [15.]\n",
      "Bias: 489.9999999962747\n",
      "Error 1.819804310798645e-09\n"
     ]
    }
   ],
   "source": [
    "X = data[['suggested_feature']]\n",
    "y = data['price']\n",
    "\n",
    "reg = LinearRegression().fit(X, y)\n",
    "\n",
    "print(f\"Weights: {reg.coef_}\") \n",
    "print(f\"Bias: {reg.intercept_}\")\n",
    "\n",
    "pred_values = reg.predict(data[['suggested_feature']]) \n",
    "print(f\"Error {mean_absolute_error(pred_values, y)}\")"
   ]
  },
  {
   "cell_type": "markdown",
   "metadata": {},
   "source": [
    "#### Теперь модель работает корретно, ошибка минимальна. Сравним полученные значения в том случае, если для предсказания будем использовать дополнительные параметры."
   ]
  },
  {
   "cell_type": "code",
   "execution_count": 78,
   "metadata": {},
   "outputs": [
    {
     "name": "stdout",
     "output_type": "stream",
     "text": [
      "Weights: [ 1.50000000e+01 -7.83702312e-13 -1.84951075e-12 -3.71294733e-12\n",
      "  6.63794759e-13  6.57576263e-13]\n",
      "Bias: 489.9999999925494\n",
      "Error 3.28640453517437e-09\n"
     ]
    }
   ],
   "source": [
    "X = data[['suggested_feature', 'length', 'width','height','age_owner','height_owner_cm']]\n",
    "y = data['price']\n",
    "\n",
    "reg = LinearRegression().fit(X, y)\n",
    "\n",
    "print(f\"Weights: {reg.coef_}\") \n",
    "print(f\"Bias: {reg.intercept_}\")\n",
    "\n",
    "pred_values = reg.predict(data[['suggested_feature', 'length', 'width','height','age_owner','height_owner_cm']]) \n",
    "print(f\"Error {mean_absolute_error(pred_values, y)}\")"
   ]
  },
  {
   "cell_type": "markdown",
   "metadata": {},
   "source": [
    "#### Даже при появлении лишних признаков модель работает корректно"
   ]
  }
 ],
 "metadata": {
  "kernelspec": {
   "display_name": "Python 3",
   "language": "python",
   "name": "python3"
  },
  "language_info": {
   "codemirror_mode": {
    "name": "ipython",
    "version": 3
   },
   "file_extension": ".py",
   "mimetype": "text/x-python",
   "name": "python",
   "nbconvert_exporter": "python",
   "pygments_lexer": "ipython3",
   "version": "3.8.5"
  }
 },
 "nbformat": 4,
 "nbformat_minor": 4
}
