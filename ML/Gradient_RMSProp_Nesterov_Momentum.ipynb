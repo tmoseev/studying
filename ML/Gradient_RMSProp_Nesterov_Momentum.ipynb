{
 "cells": [
  {
   "cell_type": "code",
   "execution_count": 1,
   "metadata": {},
   "outputs": [],
   "source": [
    "import numpy as np\n",
    "import matplotlib.pyplot as plt"
   ]
  },
  {
   "cell_type": "markdown",
   "metadata": {},
   "source": [
    "### Функция с занятия"
   ]
  },
  {
   "cell_type": "code",
   "execution_count": 2,
   "metadata": {},
   "outputs": [
    {
     "data": {
      "image/png": "[encoded data removed]",
      "text/plain": [
       "<Figure size 432x288 with 1 Axes>"
      ]
     },
     "metadata": {
      "needs_background": "light"
     },
     "output_type": "display_data"
    }
   ],
   "source": [
    "N = 100\n",
    "X = np.random.uniform(low=0, high=100, size=N)\n",
    "Y = 2*X + 1 + np.random.normal(scale=5, size=N)\n",
    "\n",
    "plt.scatter(X, Y)\n",
    "plt.show()"
   ]
  },
  {
   "cell_type": "markdown",
   "metadata": {},
   "source": [
    "### Градиентный спуск без надстроек"
   ]
  },
  {
   "cell_type": "code",
   "execution_count": 3,
   "metadata": {},
   "outputs": [],
   "source": [
    "def cost_function(x, y, theta0, theta1):\n",
    "    total_cost = 0\n",
    "    for i in range(len(X)):\n",
    "        total_cost += (theta0 + theta1*x[i] - y[i]) ** 2\n",
    "    return total_cost / (2 * len(x))"
   ]
  },
  {
   "cell_type": "code",
   "execution_count": 4,
   "metadata": {},
   "outputs": [],
   "source": [
    "def der_theta0(x, y, theta0, theta1):\n",
    "    total_cost = 0\n",
    "    for i in range(len(x)):\n",
    "        total_cost += (theta0 + theta1*x[i] - y[i])\n",
    "    return total_cost / (len(x))    "
   ]
  },
  {
   "cell_type": "code",
   "execution_count": 5,
   "metadata": {},
   "outputs": [],
   "source": [
    "def der_theta1(x, y, theta0, theta1):\n",
    "    total_cost = 0\n",
    "    for i in range(len(x)):\n",
    "        total_cost += (theta0 + theta1*x[i] - y[i]) * x[i]\n",
    "    return total_cost / (len(x))  "
   ]
  },
  {
   "cell_type": "code",
   "execution_count": null,
   "metadata": {},
   "outputs": [],
   "source": []
  },
  {
   "cell_type": "code",
   "execution_count": 6,
   "metadata": {},
   "outputs": [],
   "source": [
    "epochs_gd = 20\n",
    "lr_gd = 0.0001"
   ]
  },
  {
   "cell_type": "code",
   "execution_count": 7,
   "metadata": {},
   "outputs": [
    {
     "name": "stdout",
     "output_type": "stream",
     "text": [
      "t0: 1.0053379099117952 t1: 1.3622105737775485 cost: 725.888000154746\n",
      "t0: 1.0087250566544506 t1: 1.5914033080671415 cost: 296.95519025138873\n",
      "t0: 1.0108778355401895 t1: 1.7364274864797378 cost: 125.21606354943664\n",
      "t0: 1.012249553878029 t1: 1.8281930506677586 cost: 56.453945108981664\n",
      "t0: 1.013127047040707 t1: 1.8862586189430948 cost: 28.922482486036312\n",
      "t0: 1.0136918133835733 t1: 1.923000130237364 cost: 17.899238618442226\n",
      "t0: 1.0140586980621629 t1: 1.9462486011385849 cost: 13.485670999630688\n",
      "t0: 1.0143003706592093 t1: 1.9609591967571105 cost: 11.718531851561309\n",
      "t0: 1.0144628136824667 t1: 1.970267354362788 cost: 11.010988270327275\n",
      "t0: 1.0145751230884534 t1: 1.9761570576684115 cost: 10.727692983705715\n",
      "t0: 1.014655709675692 t1: 1.9798836950086431 cost: 10.614261200880193\n",
      "t0: 1.014716223087048 t1: 1.982241627678207 cost: 10.568840557595895\n",
      "t0: 1.014764034766989 t1: 1.9837334968512585 cost: 10.550650690879852\n",
      "t0: 1.014803809081127 t1: 1.9846773544666751 cost: 10.54336367337984\n",
      "t0: 1.0148384974600346 t1: 1.985274451518257 cost: 10.540442015181966\n",
      "t0: 1.014869967455091 t1: 1.9856521318689235 cost: 10.539268190286002\n",
      "t0: 1.0148994007807473 t1: 1.9858909738011314 cost: 10.538794175298877\n",
      "t0: 1.0149275451803124 t1: 1.9860419641426312 cost: 10.538600355274092\n",
      "t0: 1.0149548737969016 t1: 1.9861373653905219 cost: 10.538518721840406\n",
      "t0: 1.0149816860172252 t1: 1.986197592008009 cost: 10.538482006629398\n"
     ]
    }
   ],
   "source": [
    "theta0 = 1\n",
    "theta1 = 1\n",
    "for _ in range(epochs_gd):\n",
    "    dt0 = der_theta0(X, Y, theta0, theta1)\n",
    "    dt1 = der_theta1(X, Y, theta0, theta1)\n",
    "    \n",
    "    theta0 -= lr_gd * dt0\n",
    "    theta1 -= lr_gd * dt1\n",
    "    \n",
    "    print(\"t0:\", theta0, \"t1:\", theta1, \"cost:\", cost_function(X, Y, theta0, theta1))"
   ]
  },
  {
   "cell_type": "code",
   "execution_count": null,
   "metadata": {},
   "outputs": [],
   "source": []
  },
  {
   "cell_type": "markdown",
   "metadata": {},
   "source": [
    "### Градиентный спуск c надстройкой RMSProp"
   ]
  },
  {
   "cell_type": "code",
   "execution_count": 19,
   "metadata": {},
   "outputs": [],
   "source": [
    "theta0_rms = 1\n",
    "theta1_rms = 1\n",
    "epochs_rms = 20\n",
    "lr_rms = 0.08\n",
    "eps = 1e-8\n",
    "gamma_rms = 0.9"
   ]
  },
  {
   "cell_type": "code",
   "execution_count": 20,
   "metadata": {},
   "outputs": [],
   "source": [
    "theta = np.array([theta0_rms, theta1_rms])\n",
    "expected_grad = np.array([0,0])"
   ]
  },
  {
   "cell_type": "code",
   "execution_count": 21,
   "metadata": {},
   "outputs": [
    {
     "name": "stdout",
     "output_type": "stream",
     "text": [
      "theta0: 1.252982212809031, theta1: 1.2529822128134693, cost: 988.3202337989475\n",
      "theta0: 1.4085886485031993, theta1: 1.4085517814975077, cost: 611.0484808129651\n",
      "theta0: 1.5232268705543184, theta1: 1.5231316390681033, cost: 391.68731687741354\n",
      "theta0: 1.613245697122374, theta1: 1.6130730414363301, cost: 254.26494156438176\n",
      "theta0: 1.6859709707104216, theta1: 1.6857018966712431, cost: 165.6120451353023\n",
      "theta0: 1.7454582776405008, theta1: 1.7450731517296665, cost: 107.9549208038611\n",
      "theta0: 1.794283246107543, theta1: 1.7937616036550064, cost: 70.61684969449612\n",
      "theta0: 1.8342610838849602, theta1: 1.8335816650109726, cost: 46.74157361301042\n",
      "theta0: 1.8667827129493881, theta1: 1.8659236181896328, cost: 31.76154288681014\n",
      "theta0: 1.8929860094527904, theta1: 1.8919249135039085, cost: 22.5859041592068\n",
      "theta0: 1.913846230427445, theta1: 1.9125606074643817, cost: 17.122983287475897\n",
      "theta0: 1.930223160670482, theta1: 1.9286904835053362, cost: 13.973972691112555\n",
      "theta0: 1.9428840757815418, theta1: 1.9410819609825452, cost: 12.222976788941258\n",
      "theta0: 1.952513405231096, theta1: 1.9504196881487283, cost: 11.287138656308214\n",
      "theta0: 1.9597158049282382, theta1: 1.9573085407988102, cost: 10.808119631509788\n",
      "theta0: 1.9650168783171078, theta1: 1.962274276071919, cost: 10.574172822347453\n",
      "theta0: 1.9688641167211127, theta1: 1.9657644192583366, cost: 10.465586132340686\n",
      "theta0: 1.9716294234646263, theta1: 1.9681507514457204, cost: 10.417888517885455\n",
      "theta0: 1.9736137142195318, theta1: 1.9697338903963673, cost: 10.398149017160614\n",
      "theta0: 1.975053488211449, theta1: 1.9707498568871167, cost: 10.390486518961717\n"
     ]
    }
   ],
   "source": [
    "for epoch in range(epochs_rms):\n",
    "    grad = np.asarray([der_theta0(X,Y,theta[0],theta[1]), der_theta1(X,Y,theta[0],theta[1])])\n",
    "    expected_grad = gamma_rms * expected_grad + (1 - gamma_rms) * np.square(grad)\n",
    "    RMS_grad = np.sqrt(expected_grad + eps)\n",
    "    \n",
    "    delta_theta = -(lr_rms/RMS_grad) * grad\n",
    "    theta = theta + delta_theta\n",
    "    print(f\"theta0: {theta[0]}, theta1: {theta[1]}, cost: {cost_function(X, Y, theta[0], theta[1])}\")"
   ]
  },
  {
   "cell_type": "code",
   "execution_count": null,
   "metadata": {},
   "outputs": [],
   "source": []
  },
  {
   "cell_type": "code",
   "execution_count": null,
   "metadata": {},
   "outputs": [],
   "source": []
  },
  {
   "cell_type": "code",
   "execution_count": null,
   "metadata": {},
   "outputs": [],
   "source": []
  },
  {
   "cell_type": "markdown",
   "metadata": {},
   "source": [
    "### Градиентный спуск c надстройкой Nesterov Momentum"
   ]
  },
  {
   "cell_type": "code",
   "execution_count": 67,
   "metadata": {},
   "outputs": [],
   "source": [
    "theta0_nest = 1\n",
    "theta1_nest = 1\n",
    "epochs_nest = 20\n",
    "lr_nest = 0.0005\n",
    "gamma_nest = 0.2"
   ]
  },
  {
   "cell_type": "code",
   "execution_count": 68,
   "metadata": {},
   "outputs": [],
   "source": [
    "theta = np.array([theta0_nest, theta1_nest])\n",
    "velocity = np.array([0, 0])"
   ]
  },
  {
   "cell_type": "code",
   "execution_count": 69,
   "metadata": {},
   "outputs": [
    {
     "name": "stdout",
     "output_type": "stream",
     "text": [
      "theta0: 1.0266895495589758, theta1: 2.8110528688877423, cost: 1259.7939940118542\n",
      "theta0: 1.0099479298012515, theta1: 1.6588703243541436, cost: 207.44600415641094\n",
      "theta0: 1.0155465951339062, theta1: 2.0296659638675028, cost: 13.991889354141952\n",
      "theta0: 1.0156282509044041, theta1: 2.0242005752649086, cost: 13.17651316640176\n",
      "theta0: 1.0147535988084326, theta1: 1.9535141329499828, cost: 12.512368717511652\n",
      "theta0: 1.0155910870170457, theta1: 1.9995730652891288, cost: 10.862111382498261\n",
      "theta0: 1.0155306223564264, theta1: 1.9844036244493375, cost: 10.544873092553305\n",
      "theta0: 1.0156989770554592, theta1: 1.9848381679008196, cost: 10.542148568900702\n",
      "theta0: 1.0159013130135977, theta1: 1.9875912418422015, cost: 10.541344305879921\n",
      "theta0: 1.0160362279740858, theta1: 1.9857484867560797, cost: 10.53871855980858\n",
      "theta0: 1.0162072004740623, theta1: 1.986365860133871, cost: 10.538157368511271\n",
      "theta0: 1.016368678557386, theta1: 1.9863372835246729, cost: 10.538108835009023\n",
      "theta0: 1.0165289463352323, theta1: 1.986227630618461, cost: 10.538066161086158\n",
      "theta0: 1.0166918439070003, theta1: 1.9862987484506622, cost: 10.53802021996703\n",
      "theta0: 1.0168532714106773, theta1: 1.9862710770473704, cost: 10.537977480365294\n",
      "theta0: 1.017015069134641, theta1: 1.9862701010837185, cost: 10.537935586032576\n",
      "theta0: 1.0171768862779222, theta1: 1.986271900089752, cost: 10.537893716647782\n",
      "theta0: 1.0173385779650765, theta1: 1.9862665951645258, cost: 10.537851852488815\n",
      "theta0: 1.0175003065301673, theta1: 1.9862652552890125, cost: 10.537810004256112\n",
      "theta0: 1.0176619976776329, theta1: 1.9862628142357548, cost: 10.537768168383113\n"
     ]
    }
   ],
   "source": [
    "for epoch in range(epochs_nest):\n",
    "    \n",
    "    look_ahead_theta = theta - gamma_nest*velocity\n",
    "    grad = np.asarray([der_theta0(X,Y,theta[0],theta[1]), der_theta1(X,Y,theta[0],theta[1])])\n",
    "    \n",
    "    velocity = gamma_nest * velocity + lr_nest * grad\n",
    "    theta = theta - velocity\n",
    "\n",
    "    print(f\"theta0: {theta[0]}, theta1: {theta[1]}, cost: {cost_function(X, Y, theta[0], theta[1])}\")"
   ]
  },
  {
   "cell_type": "code",
   "execution_count": null,
   "metadata": {},
   "outputs": [],
   "source": []
  }
 ],
 "metadata": {
  "kernelspec": {
   "display_name": "Python 3",
   "language": "python",
   "name": "python3"
  },
  "language_info": {
   "codemirror_mode": {
    "name": "ipython",
    "version": 3
   },
   "file_extension": ".py",
   "mimetype": "text/x-python",
   "name": "python",
   "nbconvert_exporter": "python",
   "pygments_lexer": "ipython3",
   "version": "3.8.5"
  }
 },
 "nbformat": 4,
 "nbformat_minor": 4
}
