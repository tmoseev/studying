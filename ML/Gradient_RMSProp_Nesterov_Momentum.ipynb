{
 "cells": [
  {
   "cell_type": "code",
   "execution_count": 22,
   "metadata": {},
   "outputs": [],
   "source": [
    "import numpy as np\n",
    "import matplotlib.pyplot as plt\n",
    "from math import ceil, floor"
   ]
  },
  {
   "cell_type": "markdown",
   "metadata": {},
   "source": [
    "### Функция с занятия"
   ]
  },
  {
   "cell_type": "code",
   "execution_count": 23,
   "metadata": {},
   "outputs": [
    {
     "data": {
      "image/png": "[encoded data removed]",
      "text/plain": [
       "<Figure size 432x288 with 1 Axes>"
      ]
     },
     "metadata": {
      "needs_background": "light"
     },
     "output_type": "display_data"
    }
   ],
   "source": [
    "N = 100\n",
    "X = np.random.uniform(low=0, high=100, size=N)\n",
    "Y = 2*X + 1 + np.random.normal(scale=5, size=N)\n",
    "\n",
    "plt.scatter(X, Y)\n",
    "plt.show()"
   ]
  },
  {
   "cell_type": "markdown",
   "metadata": {},
   "source": [
    "### Градиентный спуск без надстроек"
   ]
  },
  {
   "cell_type": "code",
   "execution_count": 24,
   "metadata": {},
   "outputs": [],
   "source": [
    "def cost_function(x, y, theta0, theta1):\n",
    "    total_cost = 0\n",
    "    for i in range(len(X)):\n",
    "        total_cost += (theta0 + theta1*x[i] - y[i]) ** 2\n",
    "    return total_cost / (2 * len(x))"
   ]
  },
  {
   "cell_type": "code",
   "execution_count": 25,
   "metadata": {},
   "outputs": [],
   "source": [
    "def der_theta0(x, y, theta0, theta1):\n",
    "    total_cost = 0\n",
    "    for i in range(len(x)):\n",
    "        total_cost += (theta0 + theta1*x[i] - y[i])\n",
    "    return total_cost / (len(x))    "
   ]
  },
  {
   "cell_type": "code",
   "execution_count": 26,
   "metadata": {},
   "outputs": [],
   "source": [
    "def der_theta1(x, y, theta0, theta1):\n",
    "    total_cost = 0\n",
    "    for i in range(len(x)):\n",
    "        total_cost += (theta0 + theta1*x[i] - y[i]) * x[i]\n",
    "    return total_cost / (len(x))  "
   ]
  },
  {
   "cell_type": "code",
   "execution_count": null,
   "metadata": {},
   "outputs": [],
   "source": []
  },
  {
   "cell_type": "code",
   "execution_count": 27,
   "metadata": {},
   "outputs": [],
   "source": [
    "epochs_gd = 20\n",
    "lr_gd = 0.0001"
   ]
  },
  {
   "cell_type": "code",
   "execution_count": 28,
   "metadata": {},
   "outputs": [
    {
     "name": "stdout",
     "output_type": "stream",
     "text": [
      "t0: 1.0050596978860986 t1: 1.3299926672170694 cost: 754.3223804090575\n",
      "t0: 1.0084610544490822 t1: 1.5512827300067569 cost: 345.18739288818296\n",
      "t0: 1.0107503416597379 t1: 1.6996777789854058 cost: 161.20241090329694\n",
      "t0: 1.012293884713925 t1: 1.7991900705876707 cost: 78.46572147794421\n",
      "t0: 1.0133373380773638 t1: 1.865922013525196 cost: 41.2596405099955\n",
      "t0: 1.0140454354817534 t1: 1.9106717419517818 cost: 24.528337477602932\n",
      "t0: 1.0145286459237801 t1: 1.9406803899916132 cost: 17.00439067693497\n",
      "t0: 1.01486104894443 t1: 1.9608037987240476 cost: 13.620923887653461\n",
      "t0: 1.0150923216346293 t1: 1.9742982526182848 cost: 12.099400341803998\n",
      "t0: 1.0152557770161663 t1: 1.9833473874999343 cost: 11.415178904069085\n",
      "t0: 1.0153737545094883 t1: 1.989415530415354 cost: 11.107486032871359\n",
      "t0: 1.0154612347341592 t1: 1.9934846462478586 cost: 10.969115273873012\n",
      "t0: 1.015528263562367 t1: 1.9962132320418486 cost: 10.90688741680023\n",
      "t0: 1.0155815776679593 t1: 1.9980428701439563 cost: 10.878900459830781\n",
      "t0: 1.0156256946053797 t1: 1.999269681805621 cost: 10.866311382600381\n",
      "t0: 1.015663643807049 t1: 2.0000922433427277 cost: 10.86064661819085\n",
      "t0: 1.0156974567838022 t1: 2.0006437182923036 cost: 10.858095666219032\n",
      "t0: 1.0157284958490045 t1: 2.0010134049551778 cost: 10.856944972840365\n",
      "t0: 1.0157576745580632 t1: 2.0012611859892386 cost: 10.856423965562247\n",
      "t0: 1.0157856055332326 t1: 2.001427218180029 cost: 10.856186123632972\n"
     ]
    }
   ],
   "source": [
    "theta0 = 1\n",
    "theta1 = 1\n",
    "for _ in range(epochs_gd):\n",
    "    dt0 = der_theta0(X, Y, theta0, theta1)\n",
    "    dt1 = der_theta1(X, Y, theta0, theta1)\n",
    "    \n",
    "    theta0 -= lr_gd * dt0\n",
    "    theta1 -= lr_gd * dt1\n",
    "    \n",
    "    print(\"t0:\", theta0, \"t1:\", theta1, \"cost:\", cost_function(X, Y, theta0, theta1))"
   ]
  },
  {
   "cell_type": "code",
   "execution_count": null,
   "metadata": {},
   "outputs": [],
   "source": []
  },
  {
   "cell_type": "markdown",
   "metadata": {},
   "source": [
    "### Градиентный спуск c надстройкой RMSProp"
   ]
  },
  {
   "cell_type": "code",
   "execution_count": 29,
   "metadata": {},
   "outputs": [],
   "source": [
    "theta0_rms = 1\n",
    "theta1_rms = 1\n",
    "epochs_rms = 20\n",
    "lr_rms = 0.0001\n",
    "eta = 8e-2\n",
    "eps = 1e-8\n",
    "gamma_rms = 0.9"
   ]
  },
  {
   "cell_type": "code",
   "execution_count": 30,
   "metadata": {},
   "outputs": [],
   "source": [
    "theta = np.array([theta0_rms, theta1_rms])\n",
    "expected_grad = np.array([0,0])"
   ]
  },
  {
   "cell_type": "code",
   "execution_count": 31,
   "metadata": {},
   "outputs": [
    {
     "name": "stdout",
     "output_type": "stream",
     "text": [
      "theta0: 1.2529822128085295, theta1: 1.2529822128134693, cost: 925.1433835361241\n",
      "theta0: 1.4090744566661815, theta1: 1.4090566218761413, cost: 577.5995620507592\n",
      "theta0: 1.5244007391343466, theta1: 1.5243547235462818, cost: 373.96502379823585\n",
      "theta0: 1.615241971761747, theta1: 1.6151586263492503, cost: 245.35762807790937\n",
      "theta0: 1.6888882189393455, theta1: 1.6887584304703938, cost: 161.65541752589877\n",
      "theta0: 1.7493661861290473, theta1: 1.7491805248404564, cost: 106.6850929055525\n",
      "theta0: 1.7992232833371657, theta1: 1.7989718987878667, cost: 70.70115255354114\n",
      "theta0: 1.8402456956825528, theta1: 1.839918323228013, cost: 47.41598904747591\n",
      "theta0: 1.873794905522026, theta1: 1.8733809325408342, cost: 32.61315836787648\n",
      "theta0: 1.9009802221232344, theta1: 1.9004687857592966, cost: 23.41446315976472\n",
      "theta0: 1.9227508815361425, theta1: 1.9221309765808483, cost: 17.850856464714084\n",
      "theta0: 1.939944849233643, theta1: 1.939205428240366, cost: 14.588298463666668\n",
      "theta0: 1.95331309830993, theta1: 1.9524431498625547, cost: 12.740037841260166\n",
      "theta0: 1.9635300281745511, theta1: 1.962518624179513, cost: 11.732062078834636\n",
      "theta0: 1.9711966423301883, theta1: 1.9700329507206022, cost: 11.204717893617344\n",
      "theta0: 1.9768407584162895, theta1: 1.9755140227633214, cost: 10.94101021825837\n",
      "theta0: 1.9809169510495765, theta1: 1.9794164424214278, cost: 10.815443332254665\n",
      "theta0: 1.9838077746359233, theta1: 1.9821227232123282, cost: 10.75874555694579\n",
      "theta0: 1.985826952162383, theta1: 1.9839464666510809, cost: 10.734576717473706\n",
      "theta0: 1.987224597139267, theta1: 1.9851375793213648, cost: 10.724897559173904\n"
     ]
    }
   ],
   "source": [
    "for epoch in range(epochs_rms):\n",
    "    grad = np.asarray([der_theta0(X,Y,theta[0],theta[1]), der_theta1(X,Y,theta[0],theta[1])])\n",
    "    expected_grad = gamma_rms * expected_grad + (1 - gamma_rms) * np.square(grad)\n",
    "    RMS_grad = np.sqrt(expected_grad + eps)\n",
    "    delta_theta = -(eta/RMS_grad) * grad\n",
    "    theta = theta + delta_theta\n",
    "    print(f\"theta0: {theta[0]}, theta1: {theta[1]}, cost: {cost_function(X, Y, theta[0], theta[1])}\")"
   ]
  },
  {
   "cell_type": "code",
   "execution_count": null,
   "metadata": {},
   "outputs": [],
   "source": []
  },
  {
   "cell_type": "code",
   "execution_count": null,
   "metadata": {},
   "outputs": [],
   "source": []
  },
  {
   "cell_type": "code",
   "execution_count": null,
   "metadata": {},
   "outputs": [],
   "source": []
  },
  {
   "cell_type": "markdown",
   "metadata": {},
   "source": [
    "### Градиентный спуск c надстройкой Nesterov Momentum"
   ]
  },
  {
   "cell_type": "code",
   "execution_count": 39,
   "metadata": {},
   "outputs": [],
   "source": [
    "theta0_nest = 1\n",
    "theta1_nest = 1\n",
    "epochs_nest = 20\n",
    "lr_nest = 0.0001\n",
    "eta = 8e-2\n",
    "eps = 1e-8\n",
    "gamma_nest = 0.9"
   ]
  },
  {
   "cell_type": "code",
   "execution_count": 40,
   "metadata": {},
   "outputs": [],
   "source": [
    "theta = np.array([theta0_nest, theta1_nest])\n",
    "velocity = np.array([0, 0])"
   ]
  },
  {
   "cell_type": "code",
   "execution_count": 41,
   "metadata": {},
   "outputs": [
    {
     "name": "stdout",
     "output_type": "stream",
     "text": [
      "theta0: 5.04775830887887, theta1: 264.9941337736555, cost: 113944547.88351299\n",
      "theta0: -1048.599947697866, theta1: -68803.08384558074, cost: 7799150257375.808\n",
      "theta0: 274620.53242257127, theta1: 18001034.001857217, cost: 5.3382760434503526e+17\n",
      "theta0: -71846908.32457244, theta1: -4709494280.57872, cost: 3.6538840996339773e+22\n",
      "theta0: 18796845069.08449, theta1: 1232114714059.5544, cost: 2.500970145584443e+27\n",
      "theta0: -4917697739136.097, theta1: -322350251960849.8, cost: 1.7118363633184886e+32\n",
      "theta0: 1286585645956517.2, theta1: 8.433442418444374e+16, cost: 1.1716988065423993e+37\n",
      "theta0: -3.3660113170592685e+17, theta1: -2.206387325357342e+19, cost: 8.019914301805602e+41\n",
      "theta0: 8.806279024003662e+19, theta1: 5.772429321211279e+21, cost: 5.489382173060924e+46\n",
      "theta0: -2.30393016968105e+22, theta1: -1.5102035751126842e+24, cost: 3.7573115507150575e+51\n",
      "theta0: 6.027624394251019e+24, theta1: 3.951048529780093e+26, cost: 2.5717630225160315e+56\n",
      "theta0: -1.5769686215446226e+27, theta1: -1.03368742743922e+29, cost: 1.7602918881512736e+61\n",
      "theta0: 4.125721628753471e+29, theta1: 2.704369965573123e+31, cost: 1.2048651078510705e+66\n",
      "theta0: -1.0793860274335562e+32, theta1: -7.075269289878258e+33, cost: 8.246927329998688e+70\n",
      "theta0: 2.8239282749932015e+34, theta1: 1.8510572207780582e+36, cost: 5.6447655379099814e+75\n",
      "theta0: -7.388062008980343e+36, theta1: -4.8428020110787125e+38, cost: 3.863666636429699e+80\n",
      "theta0: 1.9328911690814837e+39, theta1: 1.2669911580934328e+41, cost: 2.6445597743971432e+85\n",
      "theta0: -5.056898909310613e+41, theta1: -3.314747518099284e+43, cost: 1.8101190031296644e+90\n",
      "theta0: 1.3230039532509682e+44, theta1: 8.672160842289866e+45, cost: 1.23897022000119e+95\n",
      "theta0: -3.461290193274408e+46, theta1: -2.2688416919811106e+48, cost: 8.480366226727233e+99\n"
     ]
    }
   ],
   "source": [
    "for epoch in range(epochs_nest):\n",
    "    \n",
    "    look_ahead_theta = theta - gamma_nest*velocity\n",
    "    grad = np.asarray([der_theta0(X,Y,theta[0],theta[1]), der_theta1(X,Y,theta[0],theta[1])])\n",
    "    # update the params\n",
    "    velocity = gamma_nest * velocity + eta * grad\n",
    "    theta = theta - velocity\n",
    "\n",
    "    print(f\"theta0: {theta[0]}, theta1: {theta[1]}, cost: {cost_function(X, Y, theta[0], theta[1])}\")"
   ]
  },
  {
   "cell_type": "code",
   "execution_count": null,
   "metadata": {},
   "outputs": [],
   "source": []
  }
 ],
 "metadata": {
  "kernelspec": {
   "display_name": "Python 3",
   "language": "python",
   "name": "python3"
  },
  "language_info": {
   "codemirror_mode": {
    "name": "ipython",
    "version": 3
   },
   "file_extension": ".py",
   "mimetype": "text/x-python",
   "name": "python",
   "nbconvert_exporter": "python",
   "pygments_lexer": "ipython3",
   "version": "3.8.5"
  }
 },
 "nbformat": 4,
 "nbformat_minor": 4
}
