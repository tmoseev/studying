{
 "cells": [
  {
   "cell_type": "code",
   "execution_count": 1191,
   "metadata": {},
   "outputs": [],
   "source": [
    "import pandas as pd\n",
    "import numpy as np\n",
    "import seaborn as sns\n",
    "import matplotlib.pyplot as plt\n",
    "from sklearn.model_selection import train_test_split\n",
    "from sklearn.linear_model import LinearRegression"
   ]
  },
  {
   "cell_type": "code",
   "execution_count": 1192,
   "metadata": {},
   "outputs": [],
   "source": [
    "import warnings\n",
    "warnings.simplefilter(action=\"ignore\", category=FutureWarning)"
   ]
  },
  {
   "cell_type": "code",
   "execution_count": 1193,
   "metadata": {},
   "outputs": [],
   "source": [
    "data = pd.read_csv('train.csv')"
   ]
  },
  {
   "cell_type": "markdown",
   "metadata": {},
   "source": [
    "Сразу удаляем технические параметры"
   ]
  },
  {
   "cell_type": "code",
   "execution_count": 1194,
   "metadata": {},
   "outputs": [],
   "source": [
    "data.drop(['timestamp', 'id'], axis = 1, inplace = True)"
   ]
  },
  {
   "cell_type": "markdown",
   "metadata": {},
   "source": [
    "Посмотрим какие типы данных и сколько пропущенных значений в датасете"
   ]
  },
  {
   "cell_type": "code",
   "execution_count": 1195,
   "metadata": {},
   "outputs": [],
   "source": [
    "numeric_variable_columns = data.select_dtypes(include = ['int64', 'float64']).columns"
   ]
  },
  {
   "cell_type": "code",
   "execution_count": 1196,
   "metadata": {},
   "outputs": [
    {
     "data": {
      "text/plain": [
       "ID_railroad_station_walk                    25\n",
       "railroad_station_walk_min                   25\n",
       "railroad_station_walk_km                    25\n",
       "metro_km_walk                               25\n",
       "metro_min_walk                              25\n",
       "floor                                      167\n",
       "prom_part_5000                             178\n",
       "cafe_sum_5000_max_price_avg                297\n",
       "cafe_avg_price_5000                        297\n",
       "cafe_sum_5000_min_price_avg                297\n",
       "cafe_sum_3000_min_price_avg                991\n",
       "cafe_sum_3000_max_price_avg                991\n",
       "cafe_avg_price_3000                        991\n",
       "cafe_sum_2000_min_price_avg               1725\n",
       "cafe_sum_2000_max_price_avg               1725\n",
       "cafe_avg_price_2000                       1725\n",
       "cafe_sum_1500_max_price_avg               4199\n",
       "cafe_sum_1500_min_price_avg               4199\n",
       "cafe_avg_price_1500                       4199\n",
       "build_count_1971-1995                     4991\n",
       "build_count_after_1995                    4991\n",
       "build_count_foam                          4991\n",
       "build_count_1946-1970                     4991\n",
       "raion_build_count_with_material_info      4991\n",
       "build_count_block                         4991\n",
       "build_count_wood                          4991\n",
       "build_count_frame                         4991\n",
       "build_count_monolith                      4991\n",
       "build_count_panel                         4991\n",
       "build_count_slag                          4991\n",
       "build_count_mix                           4991\n",
       "build_count_brick                         4991\n",
       "build_count_before_1920                   4991\n",
       "build_count_1921-1945                     4991\n",
       "raion_build_count_with_builddate_info     4991\n",
       "life_sq                                   6383\n",
       "cafe_sum_1000_min_price_avg               6524\n",
       "cafe_sum_1000_max_price_avg               6524\n",
       "cafe_avg_price_1000                       6524\n",
       "school_quota                              6685\n",
       "preschool_quota                           6688\n",
       "kitch_sq                                  9572\n",
       "num_room                                  9572\n",
       "material                                  9572\n",
       "max_floor                                 9572\n",
       "cafe_sum_500_max_price_avg               13281\n",
       "cafe_avg_price_500                       13281\n",
       "cafe_sum_500_min_price_avg               13281\n",
       "state                                    13559\n",
       "build_year                               13605\n",
       "hospital_beds_raion                      14441\n",
       "dtype: int64"
      ]
     },
     "execution_count": 1196,
     "metadata": {},
     "output_type": "execute_result"
    }
   ],
   "source": [
    "numeric_variable_missed = data[numeric_variable_columns].isna().sum().sort_values(ascending = True)\n",
    "numeric_variable_missed[numeric_variable_missed>0]"
   ]
  },
  {
   "cell_type": "code",
   "execution_count": 1197,
   "metadata": {},
   "outputs": [],
   "source": [
    "categorial_variable_columns = data.select_dtypes(include = ['object']).columns"
   ]
  },
  {
   "cell_type": "code",
   "execution_count": 1198,
   "metadata": {},
   "outputs": [],
   "source": [
    "categorial_variablem_missed = data[categorial_variable_columns].isna().sum().sort_values(ascending = True)"
   ]
  },
  {
   "cell_type": "code",
   "execution_count": 1199,
   "metadata": {},
   "outputs": [
    {
     "data": {
      "text/plain": [
       "Series([], dtype: int64)"
      ]
     },
     "execution_count": 1199,
     "metadata": {},
     "output_type": "execute_result"
    }
   ],
   "source": [
    "categorial_variablem_missed[categorial_variablem_missed > 0]"
   ]
  },
  {
   "cell_type": "markdown",
   "metadata": {},
   "source": [
    "Пропуски данных в большом количестве присутсвуют в количественных переменных, в категориальных пропущенных значений нет."
   ]
  },
  {
   "cell_type": "markdown",
   "metadata": {},
   "source": [
    "Посмотрим качество модели на неизмененных данных"
   ]
  },
  {
   "cell_type": "code",
   "execution_count": 1200,
   "metadata": {},
   "outputs": [],
   "source": [
    "from sklearn.preprocessing import LabelEncoder\n",
    "le = LabelEncoder()"
   ]
  },
  {
   "cell_type": "code",
   "execution_count": 1201,
   "metadata": {},
   "outputs": [],
   "source": [
    "#кодируем категориальные признаки и сохраняем, чтобы при необходимости перекодировать обратно\n",
    "storage_label = {}\n",
    "for elem in list(categorial_variable_columns):\n",
    "    data[elem] = le.fit_transform(data[elem])\n",
    "    storage_label.update({elem: le.classes_})"
   ]
  },
  {
   "cell_type": "code",
   "execution_count": 1202,
   "metadata": {},
   "outputs": [],
   "source": [
    "def get_score(X,y, random_seed = 42):\n",
    "    model =  LinearRegression()\n",
    "    X_train, X_test, y_train, y_test = train_test_split(X, y, test_size=0.3, random_state = random_seed)\n",
    "    model.fit(X_train, y_train)\n",
    "    return model.score(X_test, y_test)"
   ]
  },
  {
   "cell_type": "code",
   "execution_count": 1203,
   "metadata": {},
   "outputs": [],
   "source": [
    "score = []"
   ]
  },
  {
   "cell_type": "code",
   "execution_count": 1204,
   "metadata": {},
   "outputs": [
    {
     "name": "stdout",
     "output_type": "stream",
     "text": [
      "0.47825541423237106\n"
     ]
    }
   ],
   "source": [
    "#исходные данные, перекодированные категориальные переменные\n",
    "sc1 = get_score(data.dropna().drop('price_doc', axis = 1), data.dropna()['price_doc'])\n",
    "print(sc)\n",
    "score.append(sc1)"
   ]
  },
  {
   "cell_type": "markdown",
   "metadata": {},
   "source": [
    "Заполним пропуски. Пропуски в данных, содержащие средние значения (cafe_sum_500_max_price_avg и так далее) заполним средними же значениями."
   ]
  },
  {
   "cell_type": "code",
   "execution_count": 1205,
   "metadata": {},
   "outputs": [],
   "source": [
    "def get_value(X, column, mode='mean', value=0): \n",
    "    if mode == 'value':\n",
    "        X.loc[X[X[column].isna()].index ,column] = value \n",
    "    elif mode == 'max':\n",
    "        X.loc[X[X[column].isna()].index ,column] = X[column].max() \n",
    "    elif mode == 'min':\n",
    "        X.loc[X[X[column].isna()].index ,column] = X[column].min()  \n",
    "    elif mode == 'median':\n",
    "        X.loc[X[X[column].isna()].index ,column] = X[column].median()  \n",
    "    elif mode == 'mode':\n",
    "        X.loc[X[X[column].isna()].index, column] = X[column].mode()[0]  \n",
    "    elif mode == 'indicator': \n",
    "        X['ind_'+str(column)] = 0\n",
    "        X.loc[X[X[column].isna()].index, 'ind_'+str(column)] = 1\n",
    "        X.loc[X[X[column].isna()].index, column] = 0     \n",
    "    else:\n",
    "        X.loc[X[X[column].isna()].index, column] = X[column].mean() \n",
    "    return X.head(3)"
   ]
  },
  {
   "cell_type": "code",
   "execution_count": 1206,
   "metadata": {},
   "outputs": [],
   "source": [
    "import re"
   ]
  },
  {
   "cell_type": "markdown",
   "metadata": {},
   "source": [
    "Различные параметры средних с пропущенными значениями заполним теми же средними"
   ]
  },
  {
   "cell_type": "code",
   "execution_count": 1207,
   "metadata": {},
   "outputs": [],
   "source": [
    "avg_list = []\n",
    "for elem in list(numeric_variable_columns):\n",
    "    if len(re.findall('_avg', elem)) > 0:\n",
    "        avg_list.append(elem)\n",
    "\n",
    "for elem in avg_list:\n",
    "    get_value(data, elem)"
   ]
  },
  {
   "cell_type": "markdown",
   "metadata": {},
   "source": [
    "Таким же способом можно заполнить время ходьбы до метро, квоты на школу и площади"
   ]
  },
  {
   "cell_type": "code",
   "execution_count": 1254,
   "metadata": {},
   "outputs": [],
   "source": [
    "walk_list = []\n",
    "for elem in list(numeric_variable_columns):\n",
    "    if len(re.findall('_walk', elem)) > 0:\n",
    "        walk_list.append(elem)\n",
    "        \n",
    "for elem in walk_list:\n",
    "    get_value(data, elem)"
   ]
  },
  {
   "cell_type": "code",
   "execution_count": 1209,
   "metadata": {},
   "outputs": [],
   "source": [
    "quota_list = []\n",
    "for elem in list(numeric_variable_columns):\n",
    "    if len(re.findall('_quota', elem)) > 0:\n",
    "        quota_list.append(elem)\n",
    "        \n",
    "for elem in quota_list:\n",
    "    get_value(data, elem)"
   ]
  },
  {
   "cell_type": "code",
   "execution_count": 1210,
   "metadata": {},
   "outputs": [],
   "source": [
    "sq_list = []\n",
    "for elem in list(numeric_variable_columns):\n",
    "    if len(re.findall('_sq', elem)) > 0:\n",
    "        sq_list.append(elem)\n",
    "\n",
    "for elem in sq_list:\n",
    "    get_value(data, elem)"
   ]
  },
  {
   "cell_type": "code",
   "execution_count": 1211,
   "metadata": {
    "scrolled": true
   },
   "outputs": [
    {
     "name": "stdout",
     "output_type": "stream",
     "text": [
      "0.5920737960124374\n"
     ]
    }
   ],
   "source": [
    "sc2 = get_score(data.dropna().drop('price_doc', axis =1), data.dropna()['price_doc'])\n",
    "print(sc2)\n",
    "score.append(sc2)"
   ]
  },
  {
   "cell_type": "markdown",
   "metadata": {},
   "source": [
    "Заполнение пустых значений привело к существенному увеличению score модели с 0.47 до 0.59."
   ]
  },
  {
   "cell_type": "markdown",
   "metadata": {},
   "source": [
    "Различные параметры постройки логичнее всего заполнить модой"
   ]
  },
  {
   "cell_type": "code",
   "execution_count": 1212,
   "metadata": {},
   "outputs": [],
   "source": [
    "build_list = []\n",
    "for elem in list(numeric_variable_columns):\n",
    "    if len(re.findall('build_', elem)) > 0:\n",
    "        build_list.append(elem)\n",
    "\n",
    "for elem in build_list:\n",
    "    get_value(data, elem, mode = 'mode')"
   ]
  },
  {
   "cell_type": "code",
   "execution_count": 1213,
   "metadata": {},
   "outputs": [
    {
     "name": "stdout",
     "output_type": "stream",
     "text": [
      "0.5684986598803409\n"
     ]
    }
   ],
   "source": [
    "sc3 = get_score(data.dropna().drop('price_doc', axis =1), data.dropna()['price_doc'])\n",
    "print(sc3)\n",
    "score.append(sc3)"
   ]
  },
  {
   "cell_type": "markdown",
   "metadata": {},
   "source": [
    "Точность модели чуть упала, но не сильно, следовательно способ заполнения был выбран корректно."
   ]
  },
  {
   "cell_type": "code",
   "execution_count": 1214,
   "metadata": {},
   "outputs": [
    {
     "data": {
      "text/plain": [
       "floor                    167\n",
       "prom_part_5000           178\n",
       "num_room                9572\n",
       "material                9572\n",
       "max_floor               9572\n",
       "state                  13559\n",
       "hospital_beds_raion    14441\n",
       "dtype: int64"
      ]
     },
     "execution_count": 1214,
     "metadata": {},
     "output_type": "execute_result"
    }
   ],
   "source": [
    "#проверим что осталось заполнить\n",
    "numeric_variable_missed = data[numeric_variable_columns].isna().sum().sort_values(ascending = True)\n",
    "numeric_variable_missed[numeric_variable_missed>0]"
   ]
  },
  {
   "cell_type": "markdown",
   "metadata": {},
   "source": [
    "Параметры state (состояние апартаментов) и hospital_beds_raion имеют больше всего пропусков, заполнение различными методами приводило к резкому уменьшению качества модели. В таком случае, логичнее всего исключить их из модели."
   ]
  },
  {
   "cell_type": "code",
   "execution_count": 1215,
   "metadata": {},
   "outputs": [],
   "source": [
    "data.drop(['state', 'hospital_beds_raion'], axis = 1, inplace = True)"
   ]
  },
  {
   "cell_type": "code",
   "execution_count": 1216,
   "metadata": {
    "scrolled": false
   },
   "outputs": [
    {
     "name": "stdout",
     "output_type": "stream",
     "text": [
      "0.577165033713956\n"
     ]
    }
   ],
   "source": [
    "sc4 = get_score(data.dropna().drop('price_doc', axis =1), data.dropna()['price_doc'])\n",
    "print(sc4)\n",
    "score.append(sc4)"
   ]
  },
  {
   "cell_type": "markdown",
   "metadata": {},
   "source": [
    "Точность модели чуть возрасла"
   ]
  },
  {
   "cell_type": "code",
   "execution_count": 1218,
   "metadata": {},
   "outputs": [
    {
     "data": {
      "text/plain": [
       "floor              167\n",
       "prom_part_5000     178\n",
       "num_room          9572\n",
       "material          9572\n",
       "max_floor         9572\n",
       "dtype: int64"
      ]
     },
     "execution_count": 1218,
     "metadata": {},
     "output_type": "execute_result"
    }
   ],
   "source": [
    "#проверим что осталось заполнить\n",
    "numeric_variable_missed_ = data[numeric_variable_columns_].isna().sum().sort_values(ascending = True)\n",
    "numeric_variable_missed_[numeric_variable_missed_>0]"
   ]
  },
  {
   "cell_type": "markdown",
   "metadata": {},
   "source": [
    "Параметр num_room и material лучше всего заполнить медианой"
   ]
  },
  {
   "cell_type": "code",
   "execution_count": 1219,
   "metadata": {},
   "outputs": [
    {
     "data": {
      "text/html": [
       "<div>\n",
       "<style scoped>\n",
       "    .dataframe tbody tr th:only-of-type {\n",
       "        vertical-align: middle;\n",
       "    }\n",
       "\n",
       "    .dataframe tbody tr th {\n",
       "        vertical-align: top;\n",
       "    }\n",
       "\n",
       "    .dataframe thead th {\n",
       "        text-align: right;\n",
       "    }\n",
       "</style>\n",
       "<table border=\"1\" class=\"dataframe\">\n",
       "  <thead>\n",
       "    <tr style=\"text-align: right;\">\n",
       "      <th></th>\n",
       "      <th>full_sq</th>\n",
       "      <th>life_sq</th>\n",
       "      <th>floor</th>\n",
       "      <th>max_floor</th>\n",
       "      <th>material</th>\n",
       "      <th>build_year</th>\n",
       "      <th>num_room</th>\n",
       "      <th>kitch_sq</th>\n",
       "      <th>product_type</th>\n",
       "      <th>sub_area</th>\n",
       "      <th>...</th>\n",
       "      <th>cafe_count_5000_price_2500</th>\n",
       "      <th>cafe_count_5000_price_4000</th>\n",
       "      <th>cafe_count_5000_price_high</th>\n",
       "      <th>big_church_count_5000</th>\n",
       "      <th>church_count_5000</th>\n",
       "      <th>mosque_count_5000</th>\n",
       "      <th>leisure_count_5000</th>\n",
       "      <th>sport_count_5000</th>\n",
       "      <th>market_count_5000</th>\n",
       "      <th>price_doc</th>\n",
       "    </tr>\n",
       "  </thead>\n",
       "  <tbody>\n",
       "    <tr>\n",
       "      <th>0</th>\n",
       "      <td>43.0</td>\n",
       "      <td>27.0</td>\n",
       "      <td>4.0</td>\n",
       "      <td>NaN</td>\n",
       "      <td>1.0</td>\n",
       "      <td>2014.0</td>\n",
       "      <td>2.0</td>\n",
       "      <td>6.399301</td>\n",
       "      <td>0</td>\n",
       "      <td>9</td>\n",
       "      <td>...</td>\n",
       "      <td>9</td>\n",
       "      <td>4</td>\n",
       "      <td>0</td>\n",
       "      <td>13</td>\n",
       "      <td>22</td>\n",
       "      <td>1</td>\n",
       "      <td>0</td>\n",
       "      <td>52</td>\n",
       "      <td>4</td>\n",
       "      <td>5850000</td>\n",
       "    </tr>\n",
       "    <tr>\n",
       "      <th>1</th>\n",
       "      <td>34.0</td>\n",
       "      <td>19.0</td>\n",
       "      <td>3.0</td>\n",
       "      <td>NaN</td>\n",
       "      <td>1.0</td>\n",
       "      <td>2014.0</td>\n",
       "      <td>2.0</td>\n",
       "      <td>6.399301</td>\n",
       "      <td>0</td>\n",
       "      <td>70</td>\n",
       "      <td>...</td>\n",
       "      <td>15</td>\n",
       "      <td>3</td>\n",
       "      <td>0</td>\n",
       "      <td>15</td>\n",
       "      <td>29</td>\n",
       "      <td>1</td>\n",
       "      <td>10</td>\n",
       "      <td>66</td>\n",
       "      <td>14</td>\n",
       "      <td>6000000</td>\n",
       "    </tr>\n",
       "    <tr>\n",
       "      <th>2</th>\n",
       "      <td>43.0</td>\n",
       "      <td>29.0</td>\n",
       "      <td>2.0</td>\n",
       "      <td>NaN</td>\n",
       "      <td>1.0</td>\n",
       "      <td>2014.0</td>\n",
       "      <td>2.0</td>\n",
       "      <td>6.399301</td>\n",
       "      <td>0</td>\n",
       "      <td>129</td>\n",
       "      <td>...</td>\n",
       "      <td>10</td>\n",
       "      <td>3</td>\n",
       "      <td>0</td>\n",
       "      <td>11</td>\n",
       "      <td>27</td>\n",
       "      <td>0</td>\n",
       "      <td>4</td>\n",
       "      <td>67</td>\n",
       "      <td>10</td>\n",
       "      <td>5700000</td>\n",
       "    </tr>\n",
       "  </tbody>\n",
       "</table>\n",
       "<p>3 rows × 288 columns</p>\n",
       "</div>"
      ],
      "text/plain": [
       "   full_sq  life_sq  floor  max_floor  material  build_year  num_room  \\\n",
       "0     43.0     27.0    4.0        NaN       1.0      2014.0       2.0   \n",
       "1     34.0     19.0    3.0        NaN       1.0      2014.0       2.0   \n",
       "2     43.0     29.0    2.0        NaN       1.0      2014.0       2.0   \n",
       "\n",
       "   kitch_sq  product_type  sub_area  ...  cafe_count_5000_price_2500  \\\n",
       "0  6.399301             0         9  ...                           9   \n",
       "1  6.399301             0        70  ...                          15   \n",
       "2  6.399301             0       129  ...                          10   \n",
       "\n",
       "   cafe_count_5000_price_4000  cafe_count_5000_price_high  \\\n",
       "0                           4                           0   \n",
       "1                           3                           0   \n",
       "2                           3                           0   \n",
       "\n",
       "   big_church_count_5000  church_count_5000  mosque_count_5000  \\\n",
       "0                     13                 22                  1   \n",
       "1                     15                 29                  1   \n",
       "2                     11                 27                  0   \n",
       "\n",
       "   leisure_count_5000  sport_count_5000  market_count_5000  price_doc  \n",
       "0                   0                52                  4    5850000  \n",
       "1                  10                66                 14    6000000  \n",
       "2                   4                67                 10    5700000  \n",
       "\n",
       "[3 rows x 288 columns]"
      ]
     },
     "execution_count": 1219,
     "metadata": {},
     "output_type": "execute_result"
    }
   ],
   "source": [
    "get_value(data, 'num_room', mode = 'median')\n",
    "get_value(data, 'material', mode = 'median')"
   ]
  },
  {
   "cell_type": "code",
   "execution_count": 1220,
   "metadata": {},
   "outputs": [
    {
     "name": "stdout",
     "output_type": "stream",
     "text": [
      "0.577165033713956\n"
     ]
    }
   ],
   "source": [
    "sc5 = get_score(data.dropna().drop('price_doc', axis = 1), data.dropna()['price_doc'])\n",
    "print(sc5)\n",
    "score.append(sc5)"
   ]
  },
  {
   "cell_type": "code",
   "execution_count": 1221,
   "metadata": {},
   "outputs": [
    {
     "data": {
      "text/plain": [
       "floor              167\n",
       "prom_part_5000     178\n",
       "max_floor         9572\n",
       "dtype: int64"
      ]
     },
     "execution_count": 1221,
     "metadata": {},
     "output_type": "execute_result"
    }
   ],
   "source": [
    "#проверим что осталось заполнить\n",
    "numeric_variable_missed_ = data[numeric_variable_columns_].isna().sum().sort_values(ascending = True)\n",
    "numeric_variable_missed_[numeric_variable_missed_>0]"
   ]
  },
  {
   "cell_type": "markdown",
   "metadata": {},
   "source": [
    "Разберем отдельно параметр max_floor"
   ]
  },
  {
   "cell_type": "code",
   "execution_count": 1222,
   "metadata": {},
   "outputs": [
    {
     "data": {
      "text/plain": [
       "<AxesSubplot:xlabel='max_floor'>"
      ]
     },
     "execution_count": 1222,
     "metadata": {},
     "output_type": "execute_result"
    },
    {
     "data": {
      "image/png": "[encoded data removed]",
      "text/plain": [
       "<Figure size 432x288 with 1 Axes>"
      ]
     },
     "metadata": {
      "needs_background": "light"
     },
     "output_type": "display_data"
    }
   ],
   "source": [
    "sns.boxplot(data['max_floor'])"
   ]
  },
  {
   "cell_type": "markdown",
   "metadata": {},
   "source": [
    "В Москве явно нет 100 и 120 этажных домов, исключим выбросы."
   ]
  },
  {
   "cell_type": "code",
   "execution_count": 1223,
   "metadata": {},
   "outputs": [],
   "source": [
    "data.drop(index = list(data.index[data['max_floor'] > 55]), inplace = True)"
   ]
  },
  {
   "cell_type": "code",
   "execution_count": 1224,
   "metadata": {},
   "outputs": [
    {
     "name": "stdout",
     "output_type": "stream",
     "text": [
      "0.5952444725019064\n"
     ]
    }
   ],
   "source": [
    "sc6 = get_score(data.dropna().drop('price_doc', axis =1), data.dropna()['price_doc'])\n",
    "print(sc6)\n",
    "score.append(sc6)"
   ]
  },
  {
   "cell_type": "markdown",
   "metadata": {},
   "source": [
    "Точность модели стала даже больше чем после заполнения первых признаков "
   ]
  },
  {
   "cell_type": "code",
   "execution_count": 1225,
   "metadata": {
    "scrolled": true
   },
   "outputs": [
    {
     "data": {
      "text/plain": [
       "floor              167\n",
       "prom_part_5000     178\n",
       "max_floor         9572\n",
       "dtype: int64"
      ]
     },
     "execution_count": 1225,
     "metadata": {},
     "output_type": "execute_result"
    }
   ],
   "source": [
    "#проверим что осталось заполнить\n",
    "numeric_variable_missed_ = data[numeric_variable_columns_].isna().sum().sort_values(ascending = True)\n",
    "numeric_variable_missed_[numeric_variable_missed_>0]"
   ]
  },
  {
   "cell_type": "markdown",
   "metadata": {},
   "source": [
    "Параметр max_floor имеет больше всего пропущенных значений, при анализе оказывается что год постройки этих домой был 2014"
   ]
  },
  {
   "cell_type": "code",
   "execution_count": 1226,
   "metadata": {},
   "outputs": [
    {
     "data": {
      "text/html": [
       "<div>\n",
       "<style scoped>\n",
       "    .dataframe tbody tr th:only-of-type {\n",
       "        vertical-align: middle;\n",
       "    }\n",
       "\n",
       "    .dataframe tbody tr th {\n",
       "        vertical-align: top;\n",
       "    }\n",
       "\n",
       "    .dataframe thead th {\n",
       "        text-align: right;\n",
       "    }\n",
       "</style>\n",
       "<table border=\"1\" class=\"dataframe\">\n",
       "  <thead>\n",
       "    <tr style=\"text-align: right;\">\n",
       "      <th></th>\n",
       "      <th>build_year</th>\n",
       "      <th>max_floor</th>\n",
       "    </tr>\n",
       "  </thead>\n",
       "  <tbody>\n",
       "    <tr>\n",
       "      <th>0</th>\n",
       "      <td>2014.0</td>\n",
       "      <td>NaN</td>\n",
       "    </tr>\n",
       "    <tr>\n",
       "      <th>1</th>\n",
       "      <td>2014.0</td>\n",
       "      <td>NaN</td>\n",
       "    </tr>\n",
       "    <tr>\n",
       "      <th>2</th>\n",
       "      <td>2014.0</td>\n",
       "      <td>NaN</td>\n",
       "    </tr>\n",
       "    <tr>\n",
       "      <th>3</th>\n",
       "      <td>2014.0</td>\n",
       "      <td>NaN</td>\n",
       "    </tr>\n",
       "    <tr>\n",
       "      <th>4</th>\n",
       "      <td>2014.0</td>\n",
       "      <td>NaN</td>\n",
       "    </tr>\n",
       "    <tr>\n",
       "      <th>...</th>\n",
       "      <td>...</td>\n",
       "      <td>...</td>\n",
       "    </tr>\n",
       "    <tr>\n",
       "      <th>30466</th>\n",
       "      <td>1975.0</td>\n",
       "      <td>9.0</td>\n",
       "    </tr>\n",
       "    <tr>\n",
       "      <th>30467</th>\n",
       "      <td>1935.0</td>\n",
       "      <td>9.0</td>\n",
       "    </tr>\n",
       "    <tr>\n",
       "      <th>30468</th>\n",
       "      <td>2014.0</td>\n",
       "      <td>20.0</td>\n",
       "    </tr>\n",
       "    <tr>\n",
       "      <th>30469</th>\n",
       "      <td>2003.0</td>\n",
       "      <td>15.0</td>\n",
       "    </tr>\n",
       "    <tr>\n",
       "      <th>30470</th>\n",
       "      <td>1968.0</td>\n",
       "      <td>9.0</td>\n",
       "    </tr>\n",
       "  </tbody>\n",
       "</table>\n",
       "<p>30466 rows × 2 columns</p>\n",
       "</div>"
      ],
      "text/plain": [
       "       build_year  max_floor\n",
       "0          2014.0        NaN\n",
       "1          2014.0        NaN\n",
       "2          2014.0        NaN\n",
       "3          2014.0        NaN\n",
       "4          2014.0        NaN\n",
       "...           ...        ...\n",
       "30466      1975.0        9.0\n",
       "30467      1935.0        9.0\n",
       "30468      2014.0       20.0\n",
       "30469      2003.0       15.0\n",
       "30470      1968.0        9.0\n",
       "\n",
       "[30466 rows x 2 columns]"
      ]
     },
     "execution_count": 1226,
     "metadata": {},
     "output_type": "execute_result"
    }
   ],
   "source": [
    "data[['build_year', 'max_floor']]"
   ]
  },
  {
   "cell_type": "code",
   "execution_count": 1227,
   "metadata": {},
   "outputs": [
    {
     "data": {
      "text/html": [
       "<div>\n",
       "<style scoped>\n",
       "    .dataframe tbody tr th:only-of-type {\n",
       "        vertical-align: middle;\n",
       "    }\n",
       "\n",
       "    .dataframe tbody tr th {\n",
       "        vertical-align: top;\n",
       "    }\n",
       "\n",
       "    .dataframe thead th {\n",
       "        text-align: right;\n",
       "    }\n",
       "</style>\n",
       "<table border=\"1\" class=\"dataframe\">\n",
       "  <thead>\n",
       "    <tr style=\"text-align: right;\">\n",
       "      <th></th>\n",
       "      <th>build_year</th>\n",
       "      <th>max_floor</th>\n",
       "    </tr>\n",
       "  </thead>\n",
       "  <tbody>\n",
       "  </tbody>\n",
       "</table>\n",
       "</div>"
      ],
      "text/plain": [
       "Empty DataFrame\n",
       "Columns: [build_year, max_floor]\n",
       "Index: []"
      ]
     },
     "execution_count": 1227,
     "metadata": {},
     "output_type": "execute_result"
    }
   ],
   "source": [
    "data.loc[(d['max_floor'].isna()) & (data['build_year'] != 2014)][['build_year', 'max_floor']]"
   ]
  },
  {
   "cell_type": "markdown",
   "metadata": {},
   "source": [
    "Попробум разные способы заполнения"
   ]
  },
  {
   "cell_type": "code",
   "execution_count": 1228,
   "metadata": {},
   "outputs": [
    {
     "name": "stdout",
     "output_type": "stream",
     "text": [
      "mean -0.8634748524813407\n",
      "max -0.8457493221334436\n",
      "min -0.8023406436109548\n",
      "median -0.8599071379165582\n",
      "mode -0.8820340546838976\n"
     ]
    }
   ],
   "source": [
    "mode_list = ['mean', 'max', 'min', 'median', 'mode']\n",
    "for elem in mode_list:\n",
    "    d = data.copy()\n",
    "    get_value(d, 'max_floor', mode = elem)\n",
    "    print(elem, get_score(d.dropna().drop('price_doc', axis =1), d.dropna()['price_doc']))"
   ]
  },
  {
   "cell_type": "code",
   "execution_count": 1229,
   "metadata": {},
   "outputs": [
    {
     "name": "stdout",
     "output_type": "stream",
     "text": [
      "5 -0.8156102658205797\n",
      "6 -0.8202505008823093\n",
      "7 -0.8256570979831321\n",
      "8 -0.8317872887148554\n",
      "9 -0.8385211088961604\n",
      "10 -0.8456518207460793\n",
      "11 -0.8528930397162431\n",
      "12 -0.8599071379165582\n",
      "13 -0.8663518853797461\n",
      "14 -0.8719334998097155\n",
      "15 -0.8764498304057347\n",
      "16 -0.8798109523776547\n",
      "17 -0.8820340546838976\n",
      "18 -0.8832191434576557\n",
      "19 -0.8835166640819248\n",
      "20 -0.8830969709776395\n",
      "21 -0.8821273388951185\n",
      "22 -0.8807576856664965\n",
      "23 -0.8791143657968088\n",
      "24 -0.8772986374478939\n",
      "25 -0.8753886944751055\n",
      "26 -0.8734429351840387\n",
      "27 -0.8715036385278927\n",
      "28 -0.8696004220302029\n",
      "29 -0.8677532308944067\n"
     ]
    }
   ],
   "source": [
    "for i in range(5,30):\n",
    "    d = data.copy()\n",
    "    get_value(d, 'max_floor', mode = 'value', value = i)\n",
    "    print(i, get_score(d.dropna().drop('price_doc', axis =1), d.dropna()['price_doc']))"
   ]
  },
  {
   "cell_type": "code",
   "execution_count": null,
   "metadata": {},
   "outputs": [],
   "source": []
  },
  {
   "cell_type": "markdown",
   "metadata": {},
   "source": [
    "Во всех случаях результат был хуже, несмотря на то что эти данные занимают почти 30% вероятнее всего лучше будет их просто исключить. Таким образом, после пропусков получаем следующий результат:"
   ]
  },
  {
   "cell_type": "code",
   "execution_count": 1132,
   "metadata": {
    "scrolled": true
   },
   "outputs": [
    {
     "data": {
      "text/plain": [
       "0.5952444725019064"
      ]
     },
     "execution_count": 1132,
     "metadata": {},
     "output_type": "execute_result"
    }
   ],
   "source": [
    "get_score(data.dropna().drop('price_doc', axis =1), data.dropna()['price_doc'])"
   ]
  },
  {
   "cell_type": "code",
   "execution_count": 1238,
   "metadata": {},
   "outputs": [],
   "source": [
    "x = [x+1 for x in range(len(score))]"
   ]
  },
  {
   "cell_type": "code",
   "execution_count": 1247,
   "metadata": {},
   "outputs": [
    {
     "data": {
      "image/png": "[encoded data removed]",
      "text/plain": [
       "<Figure size 432x288 with 1 Axes>"
      ]
     },
     "metadata": {
      "needs_background": "light"
     },
     "output_type": "display_data"
    }
   ],
   "source": [
    "sns.lineplot(x, score)\n",
    "plt.xlabel('Заполнение пропусков')\n",
    "plt.ylabel('Score')\n",
    "plt.show()"
   ]
  },
  {
   "cell_type": "markdown",
   "metadata": {},
   "source": [
    "### Генерация новых признаков"
   ]
  },
  {
   "cell_type": "code",
   "execution_count": 1348,
   "metadata": {},
   "outputs": [],
   "source": [
    "dd = data.dropna().copy()"
   ]
  },
  {
   "cell_type": "code",
   "execution_count": 1349,
   "metadata": {},
   "outputs": [],
   "source": [
    "score2= []"
   ]
  },
  {
   "cell_type": "markdown",
   "metadata": {},
   "source": [
    "Объединим все средние значения признаков связанных с кафе в один общий"
   ]
  },
  {
   "cell_type": "code",
   "execution_count": 1312,
   "metadata": {},
   "outputs": [],
   "source": [
    "dd['cafe_avg_'] = (dd['cafe_avg_price_500'] + dd['cafe_avg_price_1000'] + dd['cafe_avg_price_1500'] \\\n",
    "                    + dd['cafe_avg_price_2000'] + dd['cafe_avg_price_3000'] + dd['cafe_avg_price_5000'])/6"
   ]
  },
  {
   "cell_type": "code",
   "execution_count": 1350,
   "metadata": {},
   "outputs": [
    {
     "name": "stdout",
     "output_type": "stream",
     "text": [
      "0.5952444725019064\n"
     ]
    }
   ],
   "source": [
    "sc2_1 = get_score(dd.dropna().drop('price_doc', axis =1), dd.dropna()['price_doc'])\n",
    "print(sc2_1)\n",
    "score2.append(sc2_1)"
   ]
  },
  {
   "cell_type": "markdown",
   "metadata": {},
   "source": [
    "Средняя скорость ходьбы до метро (км в мин)"
   ]
  },
  {
   "cell_type": "code",
   "execution_count": 1351,
   "metadata": {},
   "outputs": [],
   "source": [
    "dd['walk_to_metro'] = dd['metro_km_walk']/dd['metro_min_walk']"
   ]
  },
  {
   "cell_type": "code",
   "execution_count": 1352,
   "metadata": {},
   "outputs": [
    {
     "name": "stdout",
     "output_type": "stream",
     "text": [
      "0.5552621063704847\n"
     ]
    }
   ],
   "source": [
    "sc2_2 = get_score(dd.dropna().drop('price_doc', axis =1), dd.dropna()['price_doc'])\n",
    "print(sc2_2)\n",
    "score2.append(sc2_2)"
   ]
  },
  {
   "cell_type": "markdown",
   "metadata": {},
   "source": [
    "Прологарифмируем полную площадь жилища"
   ]
  },
  {
   "cell_type": "code",
   "execution_count": 1353,
   "metadata": {},
   "outputs": [],
   "source": [
    "dd.drop(index = list(dd.index[dd['full_sq'] == 0]), inplace = True)"
   ]
  },
  {
   "cell_type": "code",
   "execution_count": 1354,
   "metadata": {},
   "outputs": [],
   "source": [
    "dd['full_sq_ln'] = np.log(dd['full_sq'])"
   ]
  },
  {
   "cell_type": "code",
   "execution_count": 1355,
   "metadata": {},
   "outputs": [
    {
     "name": "stdout",
     "output_type": "stream",
     "text": [
      "0.5906526696400403\n"
     ]
    }
   ],
   "source": [
    "sc2_3 = get_score(dd.dropna().drop('price_doc', axis =1), dd.dropna()['price_doc'])\n",
    "print(sc2_3)\n",
    "score2.append(sc2_3)"
   ]
  },
  {
   "cell_type": "markdown",
   "metadata": {},
   "source": [
    "Количество рабочего населения в долях"
   ]
  },
  {
   "cell_type": "code",
   "execution_count": 1322,
   "metadata": {},
   "outputs": [],
   "source": [
    "dd['perc_work_people'] = dd['work_all']/(dd['young_all']+dd['ekder_all'])"
   ]
  },
  {
   "cell_type": "code",
   "execution_count": 1356,
   "metadata": {
    "scrolled": true
   },
   "outputs": [
    {
     "name": "stdout",
     "output_type": "stream",
     "text": [
      "0.5906526696400403\n"
     ]
    }
   ],
   "source": [
    "sc2_4 = get_score(dd.dropna().drop('price_doc', axis =1), dd.dropna()['price_doc'])\n",
    "print(sc2_4)\n",
    "score2.append(sc2_4)"
   ]
  },
  {
   "cell_type": "markdown",
   "metadata": {},
   "source": [
    "Соотношение религиозных учредждений к нерелигиозным"
   ]
  },
  {
   "cell_type": "code",
   "execution_count": 1357,
   "metadata": {},
   "outputs": [],
   "source": [
    "dd['perc_rel_to_non_rel'] = (dd['church_count_500'] + dd['church_count_1000'] + dd['church_count_1500'] + dd['church_count_2000'] +\\\n",
    "            dd['church_count_3000'] + dd['church_count_5000'] + dd['mosque_count_500'] + dd['mosque_count_1000'] + \\\n",
    "            dd['mosque_count_1500'] + dd['mosque_count_2000'] + dd['mosque_count_3000'] + dd['mosque_count_5000']) / \\\n",
    "            (dd['leisure_count_500'] + dd['leisure_count_1000'] + dd['leisure_count_1500'] + dd['leisure_count_2000'] + \\\n",
    "            dd['leisure_count_3000'] + dd['leisure_count_5000'] + dd['sport_count_500'] + dd['sport_count_1000'] + \\\n",
    "            dd['sport_count_1500'] + dd['sport_count_2000'] + dd['sport_count_3000'] + dd['sport_count_5000'])"
   ]
  },
  {
   "cell_type": "code",
   "execution_count": 1358,
   "metadata": {},
   "outputs": [],
   "source": [
    "dd.replace([np.inf, -np.inf], np.nan, inplace = True)"
   ]
  },
  {
   "cell_type": "code",
   "execution_count": 1359,
   "metadata": {},
   "outputs": [
    {
     "name": "stdout",
     "output_type": "stream",
     "text": [
      "0.5777219610392715\n"
     ]
    }
   ],
   "source": [
    "sc2_5 = get_score(dd.dropna().drop('price_doc', axis =1), dd.dropna()['price_doc'])\n",
    "print(sc2_5)\n",
    "score2.append(sc2_5)"
   ]
  },
  {
   "cell_type": "code",
   "execution_count": 1362,
   "metadata": {},
   "outputs": [],
   "source": [
    "x2 = [x+1 for x in range(len(score2))]"
   ]
  },
  {
   "cell_type": "code",
   "execution_count": 1364,
   "metadata": {},
   "outputs": [
    {
     "data": {
      "image/png": "[encoded data removed]",
      "text/plain": [
       "<Figure size 432x288 with 1 Axes>"
      ]
     },
     "metadata": {
      "needs_background": "light"
     },
     "output_type": "display_data"
    }
   ],
   "source": [
    "sns.lineplot(x2, score2)\n",
    "plt.xlabel('Новых признаков сгенерировано')\n",
    "plt.ylabel('Score')\n",
    "plt.show()"
   ]
  },
  {
   "cell_type": "code",
   "execution_count": null,
   "metadata": {},
   "outputs": [],
   "source": []
  }
 ],
 "metadata": {
  "kernelspec": {
   "display_name": "Python 3",
   "language": "python",
   "name": "python3"
  },
  "language_info": {
   "codemirror_mode": {
    "name": "ipython",
    "version": 3
   },
   "file_extension": ".py",
   "mimetype": "text/x-python",
   "name": "python",
   "nbconvert_exporter": "python",
   "pygments_lexer": "ipython3",
   "version": "3.8.5"
  }
 },
 "nbformat": 4,
 "nbformat_minor": 4
}
