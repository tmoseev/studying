{
 "cells": [
  {
   "cell_type": "code",
   "execution_count": 1,
   "metadata": {
    "scrolled": true
   },
   "outputs": [],
   "source": [
    "import numpy as np\n",
    "import pandas as pd\n",
    "import json\n",
    "from scipy.spatial.distance import pdist, squareform\n"
   ]
  },
  {
   "cell_type": "code",
   "execution_count": 2,
   "metadata": {},
   "outputs": [
    {
     "name": "stdout",
     "output_type": "stream",
     "text": [
      "Wall time: 1.76 s\n"
     ]
    }
   ],
   "source": [
    "%%time\n",
    "with open('C:\\\\jupyter\\\\diploma\\\\pubChem_p_00000001_00025000.json') as pubchem_data:\n",
    "    data = json.load(pubchem_data)"
   ]
  },
  {
   "cell_type": "code",
   "execution_count": 3,
   "metadata": {},
   "outputs": [],
   "source": [
    "#Зададим атомный номер и массу для всех ядер в датасете \n",
    "periodic_table = {'H':[1, 1.0079],\n",
    "                  'C':[6, 12.0107],\n",
    "                  'N':[7, 14.0067],\n",
    "                  'O':[8, 15.9994],\n",
    "                  'S':[16, 32.065],\n",
    "                  'F':[9, 18.9984],\n",
    "                  'Si':[14, 28.0855],\n",
    "                  'P':[15, 30.9738],\n",
    "                  'Cl':[17, 35.453],\n",
    "                  'Br':[35, 79.904],\n",
    "                  'I': [53, 126.9045]}\n"
   ]
  },
  {
   "cell_type": "code",
   "execution_count": 4,
   "metadata": {},
   "outputs": [
    {
     "data": {
      "text/plain": [
       "{'En': 37.801,\n",
       " 'atoms': [{'type': 'O', 'xyz': [0.3387, 0.9262, 0.46]},\n",
       "  {'type': 'O', 'xyz': [3.4786, -1.7069, -0.3119]},\n",
       "  {'type': 'O', 'xyz': [1.8428, -1.4073, 1.2523]},\n",
       "  {'type': 'O', 'xyz': [0.4166, 2.5213, -1.2091]},\n",
       "  {'type': 'N', 'xyz': [-2.2359, -0.7251, 0.027]},\n",
       "  {'type': 'C', 'xyz': [-0.7783, -1.1579, 0.0914]},\n",
       "  {'type': 'C', 'xyz': [0.1368, -0.0961, -0.5161]},\n",
       "  {'type': 'C', 'xyz': [-3.1119, -1.7972, 0.659]},\n",
       "  {'type': 'C', 'xyz': [-2.4103, 0.5837, 0.784]},\n",
       "  {'type': 'C', 'xyz': [-2.6433, -0.5289, -1.426]},\n",
       "  {'type': 'C', 'xyz': [1.4879, -0.6438, -0.9795]},\n",
       "  {'type': 'C', 'xyz': [2.3478, -1.3163, 0.1002]},\n",
       "  {'type': 'C', 'xyz': [0.4627, 2.1935, -0.0312]},\n",
       "  {'type': 'C', 'xyz': [0.6678, 3.1549, 1.1001]},\n",
       "  {'type': 'H', 'xyz': [-0.7073, -2.1051, -0.4563]},\n",
       "  {'type': 'H', 'xyz': [-0.5669, -1.3392, 1.1503]},\n",
       "  {'type': 'H', 'xyz': [-0.3089, 0.3239, -1.4193]},\n",
       "  {'type': 'H', 'xyz': [-2.9705, -2.7295, 0.1044]},\n",
       "  {'type': 'H', 'xyz': [-2.8083, -1.921, 1.7028]},\n",
       "  {'type': 'H', 'xyz': [-4.1563, -1.4762, 0.6031]},\n",
       "  {'type': 'H', 'xyz': [-2.0398, 1.417, 0.1863]},\n",
       "  {'type': 'H', 'xyz': [-3.4837, 0.7378, 0.9384]},\n",
       "  {'type': 'H', 'xyz': [-1.9129, 0.5071, 1.7551]},\n",
       "  {'type': 'H', 'xyz': [-2.245, 0.4089, -1.819]},\n",
       "  {'type': 'H', 'xyz': [-2.3, -1.3879, -2.01]},\n",
       "  {'type': 'H', 'xyz': [-3.7365, -0.4723, -1.463]},\n",
       "  {'type': 'H', 'xyz': [1.3299, -1.3744, -1.7823]},\n",
       "  {'type': 'H', 'xyz': [2.09, 0.1756, -1.3923]},\n",
       "  {'type': 'H', 'xyz': [-0.1953, 3.128, 1.7699]},\n",
       "  {'type': 'H', 'xyz': [0.7681, 4.1684, 0.7012]},\n",
       "  {'type': 'H', 'xyz': [1.5832, 2.901, 1.6404]}],\n",
       " 'id': 1,\n",
       " 'shapeM': [259.66,\n",
       "  4.28,\n",
       "  3.04,\n",
       "  1.21,\n",
       "  1.75,\n",
       "  2.55,\n",
       "  0.16,\n",
       "  -3.13,\n",
       "  -0.22,\n",
       "  -2.18,\n",
       "  -0.56,\n",
       "  0.21,\n",
       "  0.17,\n",
       "  0.09]}"
      ]
     },
     "execution_count": 4,
     "metadata": {},
     "output_type": "execute_result"
    }
   ],
   "source": [
    "#Пример данных\n",
    "#En - энергия молекулы, которая является целевой переменной\n",
    "#atoms - атомы в молекуле с координатами\n",
    "#id - id молекулы в базе данных PubChem\n",
    "#shapeM - \n",
    "data[0]"
   ]
  },
  {
   "cell_type": "code",
   "execution_count": 5,
   "metadata": {},
   "outputs": [],
   "source": [
    "#инициируем начальные максимальные значения\n",
    "no_atoms_max = 50\n",
    "no_molecules = len(data)"
   ]
  },
  {
   "cell_type": "code",
   "execution_count": 6,
   "metadata": {},
   "outputs": [],
   "source": [
    "#инициируем массивы для хранения данных\n",
    "#cm - columb matrix\n",
    "data_cm = np.zeros((no_molecules, no_atoms_max*(no_atoms_max+1)//2), dtype = float)\n",
    "data_id = np.zeros(no_molecules, dtype = int)\n",
    "data_shapem = np.zeros((no_molecules, 14), dtype = float)\n",
    "data_en = np.zeros(no_molecules, dtype = float)"
   ]
  },
  {
   "cell_type": "code",
   "execution_count": null,
   "metadata": {},
   "outputs": [],
   "source": []
  },
  {
   "cell_type": "code",
   "execution_count": 7,
   "metadata": {
    "scrolled": true
   },
   "outputs": [],
   "source": [
    "#раскрываем json\n",
    "ind = 0\n",
    "\n",
    "for molecule in data:\n",
    "    \n",
    "#проверка\n",
    "    natoms_check = len(molecule['atoms'])\n",
    "    if natoms_check > no_atoms_max:\n",
    "        continue\n",
    "    \n",
    "#достаем значения энергий, shapeM и id\n",
    "    data_en[ind] = molecule['En']\n",
    "    data_shapem[ind,:] = molecule['shapeM']\n",
    "    data_id[ind] = molecule['id']\n",
    "    \n",
    "#инициируем временную coulumb matrix и координаты\n",
    "    coulumb_full = np.zeros((no_atoms_max, no_atoms_max))\n",
    "    coordinates_full = np.zeros(no_atoms_max)\n",
    "    \n",
    "#достаем тип атомов и координаты\n",
    "    position = []\n",
    "    atom = []\n",
    "    for at in molecule['atoms']:\n",
    "        atom.append(periodic_table[at['type']][0])\n",
    "        position.append(at['xyz'])\n",
    "    \n",
    "    position = np.array(position, dtype = float)\n",
    "    atom = np.array(atom, dtype = float)\n",
    "    \n",
    "#создаем coulumb matrix\n",
    "    small_const = 1e-20  \n",
    "    pairwise_calculate = pdist(position) \n",
    "    coulomb_matrix = np.outer(atom,atom) / (squareform(pairwise_calculate) + small_const)\n",
    "    coulumb_full[0:natoms_check, 0:natoms_check] = coulomb_matrix \n",
    "    coordinates_full[0:natoms_check] = atom\n",
    "\n",
    "#создаем coulumb vector\n",
    "    index_matrix = np.triu_indices(no_atoms_max,k=1)\n",
    "    coulomb_vector = coulumb_full[index_matrix]\n",
    "\n",
    "#сортируем по убыванию\n",
    "    sorting = np.argsort(-coulomb_vector)\n",
    "    coulomb_vector = coulomb_vector[sorting] \n",
    "\n",
    "#конструируем feature\n",
    "    coulomb_matrix = squareform(coulomb_vector)\n",
    "\n",
    "#добавляем диагонали\n",
    "    coulomb_matrix += 0.5*np.power(coordinates_full,2.4)*np.eye(no_atoms_max)\n",
    "    index_matrix = np.triu_indices(no_atoms_max)                   \n",
    "    feature_vector = coulomb_matrix[index_matrix]              \n",
    "\n",
    "#сохраняем\n",
    "    data_cm[ind] = feature_vector\n",
    "    \n",
    "    # Iterate\n",
    "    ind +=1"
   ]
  },
  {
   "cell_type": "code",
   "execution_count": 8,
   "metadata": {
    "scrolled": true
   },
   "outputs": [
    {
     "data": {
      "text/plain": [
       "16070"
      ]
     },
     "execution_count": 8,
     "metadata": {},
     "output_type": "execute_result"
    }
   ],
   "source": [
    "ind"
   ]
  },
  {
   "cell_type": "code",
   "execution_count": 9,
   "metadata": {},
   "outputs": [],
   "source": [
    "#сохраняем датафрейм\n",
    "df = pd.DataFrame(np.column_stack((data_cm, data_shapem)))"
   ]
  },
  {
   "cell_type": "code",
   "execution_count": 10,
   "metadata": {},
   "outputs": [],
   "source": [
    "#называем колонки\n",
    "number_features = np.shape(np.column_stack((data_cm, data_shapem)))[1]\n",
    "columns = [x for x in range(1, number_features+1,1)]\n",
    "columns_name = list(map(lambda x: 'f' + str(x), columns))\n",
    "df.columns = columns_name"
   ]
  },
  {
   "cell_type": "code",
   "execution_count": 11,
   "metadata": {},
   "outputs": [],
   "source": [
    "#добавляем энергию и id\n",
    "df.insert(0, 'pubchem_id', data_id)\n",
    "df['En'] = data_en"
   ]
  },
  {
   "cell_type": "code",
   "execution_count": 13,
   "metadata": {},
   "outputs": [],
   "source": [
    "#исключаем все примеры которые не прошли по условию максимального количества атомов (if natoms_check > no_atoms_max:)\n",
    "df = df[:ind]"
   ]
  },
  {
   "cell_type": "code",
   "execution_count": 14,
   "metadata": {},
   "outputs": [
    {
     "data": {
      "text/html": [
       "<div>\n",
       "<style scoped>\n",
       "    .dataframe tbody tr th:only-of-type {\n",
       "        vertical-align: middle;\n",
       "    }\n",
       "\n",
       "    .dataframe tbody tr th {\n",
       "        vertical-align: top;\n",
       "    }\n",
       "\n",
       "    .dataframe thead th {\n",
       "        text-align: right;\n",
       "    }\n",
       "</style>\n",
       "<table border=\"1\" class=\"dataframe\">\n",
       "  <thead>\n",
       "    <tr style=\"text-align: right;\">\n",
       "      <th></th>\n",
       "      <th>pubchem_id</th>\n",
       "      <th>f1</th>\n",
       "      <th>f2</th>\n",
       "      <th>f3</th>\n",
       "      <th>f4</th>\n",
       "      <th>f5</th>\n",
       "      <th>f6</th>\n",
       "      <th>f7</th>\n",
       "      <th>f8</th>\n",
       "      <th>f9</th>\n",
       "      <th>...</th>\n",
       "      <th>f1281</th>\n",
       "      <th>f1282</th>\n",
       "      <th>f1283</th>\n",
       "      <th>f1284</th>\n",
       "      <th>f1285</th>\n",
       "      <th>f1286</th>\n",
       "      <th>f1287</th>\n",
       "      <th>f1288</th>\n",
       "      <th>f1289</th>\n",
       "      <th>En</th>\n",
       "    </tr>\n",
       "  </thead>\n",
       "  <tbody>\n",
       "    <tr>\n",
       "      <th>0</th>\n",
       "      <td>1</td>\n",
       "      <td>73.516695</td>\n",
       "      <td>39.230740</td>\n",
       "      <td>38.058812</td>\n",
       "      <td>37.934254</td>\n",
       "      <td>35.169765</td>\n",
       "      <td>33.617995</td>\n",
       "      <td>28.032659</td>\n",
       "      <td>27.705090</td>\n",
       "      <td>27.600070</td>\n",
       "      <td>...</td>\n",
       "      <td>2.55</td>\n",
       "      <td>0.16</td>\n",
       "      <td>-3.13</td>\n",
       "      <td>-0.22</td>\n",
       "      <td>-2.18</td>\n",
       "      <td>-0.56</td>\n",
       "      <td>0.21</td>\n",
       "      <td>0.17</td>\n",
       "      <td>0.09</td>\n",
       "      <td>37.8010</td>\n",
       "    </tr>\n",
       "    <tr>\n",
       "      <th>1</th>\n",
       "      <td>2</td>\n",
       "      <td>73.516695</td>\n",
       "      <td>39.230539</td>\n",
       "      <td>39.213259</td>\n",
       "      <td>35.384864</td>\n",
       "      <td>35.171945</td>\n",
       "      <td>33.606458</td>\n",
       "      <td>28.271514</td>\n",
       "      <td>28.154189</td>\n",
       "      <td>27.704183</td>\n",
       "      <td>...</td>\n",
       "      <td>0.81</td>\n",
       "      <td>0.05</td>\n",
       "      <td>-0.40</td>\n",
       "      <td>-0.71</td>\n",
       "      <td>-2.51</td>\n",
       "      <td>-0.17</td>\n",
       "      <td>0.01</td>\n",
       "      <td>-0.33</td>\n",
       "      <td>-0.13</td>\n",
       "      <td>44.1107</td>\n",
       "    </tr>\n",
       "    <tr>\n",
       "      <th>2</th>\n",
       "      <td>3</td>\n",
       "      <td>73.516695</td>\n",
       "      <td>39.420140</td>\n",
       "      <td>35.571151</td>\n",
       "      <td>33.601772</td>\n",
       "      <td>33.564165</td>\n",
       "      <td>27.985222</td>\n",
       "      <td>26.861051</td>\n",
       "      <td>26.852468</td>\n",
       "      <td>24.963419</td>\n",
       "      <td>...</td>\n",
       "      <td>0.23</td>\n",
       "      <td>0.02</td>\n",
       "      <td>0.08</td>\n",
       "      <td>-0.70</td>\n",
       "      <td>-0.26</td>\n",
       "      <td>0.20</td>\n",
       "      <td>-0.29</td>\n",
       "      <td>-0.35</td>\n",
       "      <td>-0.34</td>\n",
       "      <td>19.4085</td>\n",
       "    </tr>\n",
       "    <tr>\n",
       "      <th>3</th>\n",
       "      <td>4</td>\n",
       "      <td>73.516695</td>\n",
       "      <td>33.629161</td>\n",
       "      <td>28.836604</td>\n",
       "      <td>23.630536</td>\n",
       "      <td>23.518647</td>\n",
       "      <td>20.151961</td>\n",
       "      <td>19.963944</td>\n",
       "      <td>16.945914</td>\n",
       "      <td>15.112884</td>\n",
       "      <td>...</td>\n",
       "      <td>0.25</td>\n",
       "      <td>0.00</td>\n",
       "      <td>-0.04</td>\n",
       "      <td>0.01</td>\n",
       "      <td>-0.48</td>\n",
       "      <td>-0.08</td>\n",
       "      <td>0.00</td>\n",
       "      <td>0.01</td>\n",
       "      <td>0.07</td>\n",
       "      <td>-0.1086</td>\n",
       "    </tr>\n",
       "    <tr>\n",
       "      <th>4</th>\n",
       "      <td>5</td>\n",
       "      <td>332.344906</td>\n",
       "      <td>79.959785</td>\n",
       "      <td>74.207114</td>\n",
       "      <td>74.205076</td>\n",
       "      <td>74.014645</td>\n",
       "      <td>38.987518</td>\n",
       "      <td>34.468622</td>\n",
       "      <td>33.988388</td>\n",
       "      <td>28.915828</td>\n",
       "      <td>...</td>\n",
       "      <td>0.15</td>\n",
       "      <td>0.00</td>\n",
       "      <td>0.07</td>\n",
       "      <td>-0.03</td>\n",
       "      <td>-0.25</td>\n",
       "      <td>0.00</td>\n",
       "      <td>-0.63</td>\n",
       "      <td>-0.27</td>\n",
       "      <td>0.01</td>\n",
       "      <td>-23.8799</td>\n",
       "    </tr>\n",
       "    <tr>\n",
       "      <th>...</th>\n",
       "      <td>...</td>\n",
       "      <td>...</td>\n",
       "      <td>...</td>\n",
       "      <td>...</td>\n",
       "      <td>...</td>\n",
       "      <td>...</td>\n",
       "      <td>...</td>\n",
       "      <td>...</td>\n",
       "      <td>...</td>\n",
       "      <td>...</td>\n",
       "      <td>...</td>\n",
       "      <td>...</td>\n",
       "      <td>...</td>\n",
       "      <td>...</td>\n",
       "      <td>...</td>\n",
       "      <td>...</td>\n",
       "      <td>...</td>\n",
       "      <td>...</td>\n",
       "      <td>...</td>\n",
       "      <td>...</td>\n",
       "      <td>...</td>\n",
       "    </tr>\n",
       "    <tr>\n",
       "      <th>16065</th>\n",
       "      <td>24994</td>\n",
       "      <td>73.516695</td>\n",
       "      <td>33.806812</td>\n",
       "      <td>33.771754</td>\n",
       "      <td>33.764540</td>\n",
       "      <td>33.688967</td>\n",
       "      <td>33.513716</td>\n",
       "      <td>33.475868</td>\n",
       "      <td>27.149155</td>\n",
       "      <td>23.635160</td>\n",
       "      <td>...</td>\n",
       "      <td>0.36</td>\n",
       "      <td>-0.05</td>\n",
       "      <td>-1.52</td>\n",
       "      <td>-0.17</td>\n",
       "      <td>-0.19</td>\n",
       "      <td>-0.25</td>\n",
       "      <td>0.16</td>\n",
       "      <td>0.18</td>\n",
       "      <td>1.04</td>\n",
       "      <td>30.1280</td>\n",
       "    </tr>\n",
       "    <tr>\n",
       "      <th>16066</th>\n",
       "      <td>24995</td>\n",
       "      <td>448.794386</td>\n",
       "      <td>99.536847</td>\n",
       "      <td>57.253331</td>\n",
       "      <td>57.093114</td>\n",
       "      <td>39.196748</td>\n",
       "      <td>37.509271</td>\n",
       "      <td>37.082244</td>\n",
       "      <td>35.334241</td>\n",
       "      <td>31.423233</td>\n",
       "      <td>...</td>\n",
       "      <td>0.10</td>\n",
       "      <td>-0.21</td>\n",
       "      <td>-1.12</td>\n",
       "      <td>-0.07</td>\n",
       "      <td>0.62</td>\n",
       "      <td>0.00</td>\n",
       "      <td>-0.03</td>\n",
       "      <td>0.16</td>\n",
       "      <td>-0.92</td>\n",
       "      <td>6.8265</td>\n",
       "    </tr>\n",
       "    <tr>\n",
       "      <th>16067</th>\n",
       "      <td>24997</td>\n",
       "      <td>73.516695</td>\n",
       "      <td>33.846110</td>\n",
       "      <td>33.575060</td>\n",
       "      <td>28.860370</td>\n",
       "      <td>28.670029</td>\n",
       "      <td>28.668307</td>\n",
       "      <td>25.993363</td>\n",
       "      <td>25.887219</td>\n",
       "      <td>25.839750</td>\n",
       "      <td>...</td>\n",
       "      <td>4.41</td>\n",
       "      <td>-0.13</td>\n",
       "      <td>-10.43</td>\n",
       "      <td>-0.97</td>\n",
       "      <td>0.77</td>\n",
       "      <td>1.01</td>\n",
       "      <td>-0.17</td>\n",
       "      <td>0.43</td>\n",
       "      <td>1.43</td>\n",
       "      <td>67.1569</td>\n",
       "    </tr>\n",
       "    <tr>\n",
       "      <th>16068</th>\n",
       "      <td>24998</td>\n",
       "      <td>448.794386</td>\n",
       "      <td>86.673652</td>\n",
       "      <td>57.170413</td>\n",
       "      <td>57.103826</td>\n",
       "      <td>51.905780</td>\n",
       "      <td>43.628496</td>\n",
       "      <td>39.237094</td>\n",
       "      <td>37.201230</td>\n",
       "      <td>36.963047</td>\n",
       "      <td>...</td>\n",
       "      <td>0.08</td>\n",
       "      <td>-0.01</td>\n",
       "      <td>-0.25</td>\n",
       "      <td>0.72</td>\n",
       "      <td>-1.45</td>\n",
       "      <td>0.31</td>\n",
       "      <td>0.17</td>\n",
       "      <td>0.24</td>\n",
       "      <td>-0.32</td>\n",
       "      <td>8.0652</td>\n",
       "    </tr>\n",
       "    <tr>\n",
       "      <th>16069</th>\n",
       "      <td>24999</td>\n",
       "      <td>448.794386</td>\n",
       "      <td>57.287333</td>\n",
       "      <td>39.237237</td>\n",
       "      <td>37.564346</td>\n",
       "      <td>35.130997</td>\n",
       "      <td>33.539134</td>\n",
       "      <td>27.737677</td>\n",
       "      <td>24.739295</td>\n",
       "      <td>23.812232</td>\n",
       "      <td>...</td>\n",
       "      <td>0.18</td>\n",
       "      <td>0.00</td>\n",
       "      <td>-1.40</td>\n",
       "      <td>0.29</td>\n",
       "      <td>-0.37</td>\n",
       "      <td>-0.01</td>\n",
       "      <td>0.07</td>\n",
       "      <td>-0.01</td>\n",
       "      <td>0.05</td>\n",
       "      <td>2.9916</td>\n",
       "    </tr>\n",
       "  </tbody>\n",
       "</table>\n",
       "<p>16070 rows × 1291 columns</p>\n",
       "</div>"
      ],
      "text/plain": [
       "       pubchem_id          f1         f2         f3         f4         f5  \\\n",
       "0               1   73.516695  39.230740  38.058812  37.934254  35.169765   \n",
       "1               2   73.516695  39.230539  39.213259  35.384864  35.171945   \n",
       "2               3   73.516695  39.420140  35.571151  33.601772  33.564165   \n",
       "3               4   73.516695  33.629161  28.836604  23.630536  23.518647   \n",
       "4               5  332.344906  79.959785  74.207114  74.205076  74.014645   \n",
       "...           ...         ...        ...        ...        ...        ...   \n",
       "16065       24994   73.516695  33.806812  33.771754  33.764540  33.688967   \n",
       "16066       24995  448.794386  99.536847  57.253331  57.093114  39.196748   \n",
       "16067       24997   73.516695  33.846110  33.575060  28.860370  28.670029   \n",
       "16068       24998  448.794386  86.673652  57.170413  57.103826  51.905780   \n",
       "16069       24999  448.794386  57.287333  39.237237  37.564346  35.130997   \n",
       "\n",
       "              f6         f7         f8         f9  ...  f1281  f1282  f1283  \\\n",
       "0      33.617995  28.032659  27.705090  27.600070  ...   2.55   0.16  -3.13   \n",
       "1      33.606458  28.271514  28.154189  27.704183  ...   0.81   0.05  -0.40   \n",
       "2      27.985222  26.861051  26.852468  24.963419  ...   0.23   0.02   0.08   \n",
       "3      20.151961  19.963944  16.945914  15.112884  ...   0.25   0.00  -0.04   \n",
       "4      38.987518  34.468622  33.988388  28.915828  ...   0.15   0.00   0.07   \n",
       "...          ...        ...        ...        ...  ...    ...    ...    ...   \n",
       "16065  33.513716  33.475868  27.149155  23.635160  ...   0.36  -0.05  -1.52   \n",
       "16066  37.509271  37.082244  35.334241  31.423233  ...   0.10  -0.21  -1.12   \n",
       "16067  28.668307  25.993363  25.887219  25.839750  ...   4.41  -0.13 -10.43   \n",
       "16068  43.628496  39.237094  37.201230  36.963047  ...   0.08  -0.01  -0.25   \n",
       "16069  33.539134  27.737677  24.739295  23.812232  ...   0.18   0.00  -1.40   \n",
       "\n",
       "       f1284  f1285  f1286  f1287  f1288  f1289       En  \n",
       "0      -0.22  -2.18  -0.56   0.21   0.17   0.09  37.8010  \n",
       "1      -0.71  -2.51  -0.17   0.01  -0.33  -0.13  44.1107  \n",
       "2      -0.70  -0.26   0.20  -0.29  -0.35  -0.34  19.4085  \n",
       "3       0.01  -0.48  -0.08   0.00   0.01   0.07  -0.1086  \n",
       "4      -0.03  -0.25   0.00  -0.63  -0.27   0.01 -23.8799  \n",
       "...      ...    ...    ...    ...    ...    ...      ...  \n",
       "16065  -0.17  -0.19  -0.25   0.16   0.18   1.04  30.1280  \n",
       "16066  -0.07   0.62   0.00  -0.03   0.16  -0.92   6.8265  \n",
       "16067  -0.97   0.77   1.01  -0.17   0.43   1.43  67.1569  \n",
       "16068   0.72  -1.45   0.31   0.17   0.24  -0.32   8.0652  \n",
       "16069   0.29  -0.37  -0.01   0.07  -0.01   0.05   2.9916  \n",
       "\n",
       "[16070 rows x 1291 columns]"
      ]
     },
     "execution_count": 14,
     "metadata": {},
     "output_type": "execute_result"
    }
   ],
   "source": [
    "df"
   ]
  },
  {
   "cell_type": "code",
   "execution_count": null,
   "metadata": {},
   "outputs": [],
   "source": []
  },
  {
   "cell_type": "code",
   "execution_count": 15,
   "metadata": {},
   "outputs": [],
   "source": [
    "from sklearn.model_selection import train_test_split\n",
    "from sklearn.linear_model import Ridge\n",
    "from sklearn.linear_model import Lasso\n",
    "from sklearn.ensemble import RandomForestRegressor\n",
    "from sklearn.model_selection import GridSearchCV\n",
    "from sklearn.neighbors import KNeighborsRegressor\n",
    "from sklearn.linear_model import ElasticNet\n",
    "from sklearn.preprocessing import PolynomialFeatures\n",
    "from sklearn.metrics import mean_squared_error"
   ]
  },
  {
   "cell_type": "code",
   "execution_count": 16,
   "metadata": {},
   "outputs": [],
   "source": [
    "X_train, X_test, y_train, y_test = train_test_split(df.drop(['pubchem_id','En'], axis = 1), df['En'], test_size=0.3, random_state=42)"
   ]
  },
  {
   "cell_type": "code",
   "execution_count": 17,
   "metadata": {},
   "outputs": [
    {
     "name": "stdout",
     "output_type": "stream",
     "text": [
      "Wall time: 5.4 s\n"
     ]
    },
    {
     "data": {
      "text/plain": [
       "GridSearchCV(estimator=Ridge(), param_grid={'alpha': [1.0, 0.5, 3.0]})"
      ]
     },
     "execution_count": 17,
     "metadata": {},
     "output_type": "execute_result"
    }
   ],
   "source": [
    "%%time\n",
    "ridge = Ridge()\n",
    "params_ridge = {'alpha': [1.0, 0.5, 3.0]}\n",
    "ridge_grid = GridSearchCV(ridge, params_ridge)\n",
    "ridge_grid.fit(X_train, y_train)"
   ]
  },
  {
   "cell_type": "code",
   "execution_count": 18,
   "metadata": {
    "scrolled": true
   },
   "outputs": [
    {
     "name": "stdout",
     "output_type": "stream",
     "text": [
      "{'alpha': 3.0}\n",
      "0.7396964726807402\n"
     ]
    }
   ],
   "source": [
    "print(ridge_grid.best_params_)\n",
    "print(ridge_grid.best_score_)"
   ]
  },
  {
   "cell_type": "code",
   "execution_count": 19,
   "metadata": {},
   "outputs": [
    {
     "name": "stdout",
     "output_type": "stream",
     "text": [
      "Wall time: 2min 16s\n"
     ]
    },
    {
     "data": {
      "text/plain": [
       "GridSearchCV(estimator=Lasso(max_iter=2000),\n",
       "             param_grid={'alpha': [1.0, 0.5, 3.0]})"
      ]
     },
     "execution_count": 19,
     "metadata": {},
     "output_type": "execute_result"
    }
   ],
   "source": [
    "%%time\n",
    "lasso = Lasso(max_iter = 2000)\n",
    "params_lasso = {'alpha': [1.0, 0.5, 3.0]}\n",
    "lasso_grid = GridSearchCV(lasso, params_lasso)\n",
    "lasso_grid.fit(X_train, y_train)"
   ]
  },
  {
   "cell_type": "code",
   "execution_count": 20,
   "metadata": {},
   "outputs": [
    {
     "name": "stdout",
     "output_type": "stream",
     "text": [
      "{'alpha': 0.5}\n",
      "0.7446761343843822\n"
     ]
    }
   ],
   "source": [
    "print(lasso_grid.best_params_)\n",
    "print(lasso_grid.best_score_)"
   ]
  },
  {
   "cell_type": "code",
   "execution_count": 21,
   "metadata": {},
   "outputs": [
    {
     "name": "stdout",
     "output_type": "stream",
     "text": [
      "Wall time: 6min 44s\n"
     ]
    },
    {
     "data": {
      "text/plain": [
       "RandomForestRegressor(max_depth=30)"
      ]
     },
     "execution_count": 21,
     "metadata": {},
     "output_type": "execute_result"
    }
   ],
   "source": [
    "%%time\n",
    "rand_forest_regr = RandomForestRegressor(max_depth = 30)\n",
    "rand_forest_regr.fit(X_train, y_train)"
   ]
  },
  {
   "cell_type": "code",
   "execution_count": 22,
   "metadata": {},
   "outputs": [
    {
     "data": {
      "text/plain": [
       "0.8756208674238374"
      ]
     },
     "execution_count": 22,
     "metadata": {},
     "output_type": "execute_result"
    }
   ],
   "source": [
    "rand_forest_regr.score(X_test, y_test)"
   ]
  },
  {
   "cell_type": "code",
   "execution_count": 23,
   "metadata": {},
   "outputs": [
    {
     "name": "stdout",
     "output_type": "stream",
     "text": [
      "Fitting 5 folds for each of 5 candidates, totalling 25 fits\n"
     ]
    },
    {
     "name": "stderr",
     "output_type": "stream",
     "text": [
      "[Parallel(n_jobs=1)]: Using backend SequentialBackend with 1 concurrent workers.\n",
      "[Parallel(n_jobs=1)]: Done  25 out of  25 | elapsed:  3.7min finished\n"
     ]
    },
    {
     "name": "stdout",
     "output_type": "stream",
     "text": [
      "Wall time: 3min 47s\n"
     ]
    },
    {
     "data": {
      "text/plain": [
       "GridSearchCV(estimator=KNeighborsRegressor(),\n",
       "             param_grid={'n_neighbors': [2, 5, 12, 25, 33]}, verbose=1)"
      ]
     },
     "execution_count": 23,
     "metadata": {},
     "output_type": "execute_result"
    }
   ],
   "source": [
    "%%time\n",
    "knn_regr = KNeighborsRegressor()\n",
    "params_knn = {'n_neighbors': [2, 5, 12, 25, 33]}\n",
    "knn_grid = GridSearchCV(knn_regr, params_knn, verbose = 1)\n",
    "knn_grid.fit(X_train, y_train)"
   ]
  },
  {
   "cell_type": "code",
   "execution_count": 24,
   "metadata": {},
   "outputs": [
    {
     "name": "stdout",
     "output_type": "stream",
     "text": [
      "{'n_neighbors': 5}\n",
      "0.7528069718035229\n"
     ]
    }
   ],
   "source": [
    "print(knn_grid.best_params_)\n",
    "print(knn_grid.best_score_)"
   ]
  },
  {
   "cell_type": "code",
   "execution_count": 44,
   "metadata": {},
   "outputs": [
    {
     "name": "stdout",
     "output_type": "stream",
     "text": [
      "Fitting 5 folds for each of 6 candidates, totalling 30 fits\n"
     ]
    },
    {
     "name": "stderr",
     "output_type": "stream",
     "text": [
      "[Parallel(n_jobs=1)]: Using backend SequentialBackend with 1 concurrent workers.\n",
      "[Parallel(n_jobs=1)]: Done  30 out of  30 | elapsed:  6.6min finished\n"
     ]
    },
    {
     "name": "stdout",
     "output_type": "stream",
     "text": [
      "Wall time: 7min 14s\n"
     ]
    },
    {
     "data": {
      "text/plain": [
       "GridSearchCV(estimator=ElasticNet(max_iter=4000),\n",
       "             param_grid={'alpha': [1, 3], 'l1_ratio': [0.5, 0.25, 0.75]},\n",
       "             verbose=1)"
      ]
     },
     "execution_count": 44,
     "metadata": {},
     "output_type": "execute_result"
    }
   ],
   "source": [
    "%%time\n",
    "elastic = ElasticNet(max_iter = 4000)\n",
    "params_elastic = {'alpha': [1,3], 'l1_ratio': [0.5, 0.25, 0.75]}\n",
    "elastic_grid = GridSearchCV(elastic, params_elastic, verbose = 1)\n",
    "elastic_grid.fit(X_train, y_train)"
   ]
  },
  {
   "cell_type": "code",
   "execution_count": 45,
   "metadata": {},
   "outputs": [
    {
     "name": "stdout",
     "output_type": "stream",
     "text": [
      "{'alpha': 1, 'l1_ratio': 0.25}\n",
      "0.7413044377996758\n"
     ]
    }
   ],
   "source": [
    "print(elastic_grid.best_params_)\n",
    "print(elastic_grid.best_score_)"
   ]
  },
  {
   "cell_type": "code",
   "execution_count": 25,
   "metadata": {},
   "outputs": [],
   "source": [
    "from xgboost import XGBRegressor"
   ]
  },
  {
   "cell_type": "code",
   "execution_count": 26,
   "metadata": {},
   "outputs": [],
   "source": [
    "xgb_model = XGBRegressor(objective='reg:squarederror', random_state=42)"
   ]
  },
  {
   "cell_type": "code",
   "execution_count": 27,
   "metadata": {},
   "outputs": [
    {
     "name": "stdout",
     "output_type": "stream",
     "text": [
      "Wall time: 41.2 s\n"
     ]
    },
    {
     "data": {
      "text/plain": [
       "XGBRegressor(base_score=0.5, booster='gbtree', callbacks=None,\n",
       "             colsample_bylevel=1, colsample_bynode=1, colsample_bytree=1,\n",
       "             early_stopping_rounds=None, enable_categorical=False,\n",
       "             eval_metric=None, gamma=0, gpu_id=-1, grow_policy='depthwise',\n",
       "             importance_type=None, interaction_constraints='',\n",
       "             learning_rate=0.300000012, max_bin=256, max_cat_to_onehot=4,\n",
       "             max_delta_step=0, max_depth=6, max_leaves=0, min_child_weight=1,\n",
       "             missing=nan, monotone_constraints='()', n_estimators=100, n_jobs=0,\n",
       "             num_parallel_tree=1, predictor='auto', random_state=42,\n",
       "             reg_alpha=0, reg_lambda=1, ...)"
      ]
     },
     "execution_count": 27,
     "metadata": {},
     "output_type": "execute_result"
    }
   ],
   "source": [
    "%%time\n",
    "xgb_model.fit(X_train, y_train)"
   ]
  },
  {
   "cell_type": "code",
   "execution_count": 28,
   "metadata": {},
   "outputs": [
    {
     "data": {
      "text/plain": [
       "82.62190064071231"
      ]
     },
     "execution_count": 28,
     "metadata": {},
     "output_type": "execute_result"
    }
   ],
   "source": [
    "predict = xgb_model.predict(X_test)\n",
    "mean_squared_error(y_test, predict)"
   ]
  },
  {
   "cell_type": "code",
   "execution_count": null,
   "metadata": {},
   "outputs": [],
   "source": []
  },
  {
   "cell_type": "code",
   "execution_count": null,
   "metadata": {},
   "outputs": [],
   "source": []
  },
  {
   "cell_type": "code",
   "execution_count": 56,
   "metadata": {},
   "outputs": [],
   "source": [
    "#уменьшим количество векторов"
   ]
  },
  {
   "cell_type": "code",
   "execution_count": 31,
   "metadata": {},
   "outputs": [],
   "source": [
    "from sklearn.decomposition import PCA\n",
    "import matplotlib.pyplot as plt"
   ]
  },
  {
   "cell_type": "code",
   "execution_count": 32,
   "metadata": {},
   "outputs": [],
   "source": [
    "X_to_reduce = df.drop(['pubchem_id','En'], axis = 1)"
   ]
  },
  {
   "cell_type": "code",
   "execution_count": 36,
   "metadata": {},
   "outputs": [
    {
     "name": "stdout",
     "output_type": "stream",
     "text": [
      "Wall time: 1.44 s\n"
     ]
    },
    {
     "data": {
      "image/png": "[encoded data removed]",
      "text/plain": [
       "<Figure size 432x288 with 1 Axes>"
      ]
     },
     "metadata": {
      "needs_background": "light"
     },
     "output_type": "display_data"
    }
   ],
   "source": [
    "%%time\n",
    "N_PCA=40\n",
    "p = PCA(n_components=N_PCA).fit(X_to_reduce)\n",
    "ns = list(range(N_PCA))\n",
    "\n",
    "plt.figure()\n",
    "plt.plot(ns, [ p.explained_variance_ratio_[n] for n in ns], \n",
    "         'r+', label=\"Explained variance - single feature\")\n",
    "plt.plot(ns, [ p.explained_variance_ratio_.cumsum()[n] for n in ns], \n",
    "         'b*', label=\"Explained variance - cumulative\")\n",
    "_ = plt.legend()\n"
   ]
  },
  {
   "cell_type": "code",
   "execution_count": 56,
   "metadata": {},
   "outputs": [],
   "source": [
    "pca50 = PCA(n_components = 50)\n",
    "X_reduced = pca50.fit_transform(X_to_reduce)"
   ]
  },
  {
   "cell_type": "code",
   "execution_count": 57,
   "metadata": {},
   "outputs": [
    {
     "data": {
      "text/html": [
       "<div>\n",
       "<style scoped>\n",
       "    .dataframe tbody tr th:only-of-type {\n",
       "        vertical-align: middle;\n",
       "    }\n",
       "\n",
       "    .dataframe tbody tr th {\n",
       "        vertical-align: top;\n",
       "    }\n",
       "\n",
       "    .dataframe thead th {\n",
       "        text-align: right;\n",
       "    }\n",
       "</style>\n",
       "<table border=\"1\" class=\"dataframe\">\n",
       "  <thead>\n",
       "    <tr style=\"text-align: right;\">\n",
       "      <th></th>\n",
       "      <th>0</th>\n",
       "      <th>1</th>\n",
       "      <th>2</th>\n",
       "      <th>3</th>\n",
       "      <th>4</th>\n",
       "      <th>5</th>\n",
       "      <th>6</th>\n",
       "      <th>7</th>\n",
       "      <th>8</th>\n",
       "      <th>9</th>\n",
       "      <th>...</th>\n",
       "      <th>40</th>\n",
       "      <th>41</th>\n",
       "      <th>42</th>\n",
       "      <th>43</th>\n",
       "      <th>44</th>\n",
       "      <th>45</th>\n",
       "      <th>46</th>\n",
       "      <th>47</th>\n",
       "      <th>48</th>\n",
       "      <th>49</th>\n",
       "    </tr>\n",
       "  </thead>\n",
       "  <tbody>\n",
       "    <tr>\n",
       "      <th>0</th>\n",
       "      <td>-297.545486</td>\n",
       "      <td>72.935606</td>\n",
       "      <td>15.220546</td>\n",
       "      <td>2.680500</td>\n",
       "      <td>16.687012</td>\n",
       "      <td>-0.973792</td>\n",
       "      <td>7.515218</td>\n",
       "      <td>11.287338</td>\n",
       "      <td>6.939310</td>\n",
       "      <td>-28.672172</td>\n",
       "      <td>...</td>\n",
       "      <td>1.994613</td>\n",
       "      <td>-2.878028</td>\n",
       "      <td>-2.289939</td>\n",
       "      <td>-1.124398</td>\n",
       "      <td>-0.537171</td>\n",
       "      <td>1.822257</td>\n",
       "      <td>-3.161360</td>\n",
       "      <td>1.006603</td>\n",
       "      <td>-0.324394</td>\n",
       "      <td>-1.906104</td>\n",
       "    </tr>\n",
       "    <tr>\n",
       "      <th>1</th>\n",
       "      <td>-297.537496</td>\n",
       "      <td>72.987396</td>\n",
       "      <td>15.313183</td>\n",
       "      <td>2.845524</td>\n",
       "      <td>15.434343</td>\n",
       "      <td>-1.342194</td>\n",
       "      <td>7.792448</td>\n",
       "      <td>11.316733</td>\n",
       "      <td>7.205318</td>\n",
       "      <td>-29.283738</td>\n",
       "      <td>...</td>\n",
       "      <td>2.683963</td>\n",
       "      <td>-3.598601</td>\n",
       "      <td>-1.519076</td>\n",
       "      <td>-1.106486</td>\n",
       "      <td>-0.371789</td>\n",
       "      <td>1.716517</td>\n",
       "      <td>-2.596337</td>\n",
       "      <td>0.832839</td>\n",
       "      <td>-0.590665</td>\n",
       "      <td>-2.755947</td>\n",
       "    </tr>\n",
       "    <tr>\n",
       "      <th>2</th>\n",
       "      <td>-298.907014</td>\n",
       "      <td>68.892921</td>\n",
       "      <td>7.879666</td>\n",
       "      <td>-9.719862</td>\n",
       "      <td>88.780826</td>\n",
       "      <td>16.146196</td>\n",
       "      <td>23.339601</td>\n",
       "      <td>4.772889</td>\n",
       "      <td>11.314403</td>\n",
       "      <td>-9.295850</td>\n",
       "      <td>...</td>\n",
       "      <td>-1.333776</td>\n",
       "      <td>0.803290</td>\n",
       "      <td>3.365719</td>\n",
       "      <td>-0.205314</td>\n",
       "      <td>-0.736533</td>\n",
       "      <td>1.127524</td>\n",
       "      <td>1.658475</td>\n",
       "      <td>-0.293826</td>\n",
       "      <td>-0.971046</td>\n",
       "      <td>-1.869450</td>\n",
       "    </tr>\n",
       "    <tr>\n",
       "      <th>3</th>\n",
       "      <td>-326.140594</td>\n",
       "      <td>20.187487</td>\n",
       "      <td>-32.699240</td>\n",
       "      <td>-45.773255</td>\n",
       "      <td>213.358555</td>\n",
       "      <td>49.091522</td>\n",
       "      <td>-42.042402</td>\n",
       "      <td>-3.025443</td>\n",
       "      <td>16.949185</td>\n",
       "      <td>20.462931</td>\n",
       "      <td>...</td>\n",
       "      <td>-0.988772</td>\n",
       "      <td>0.485816</td>\n",
       "      <td>1.574528</td>\n",
       "      <td>-0.245908</td>\n",
       "      <td>-0.877682</td>\n",
       "      <td>1.297084</td>\n",
       "      <td>0.149258</td>\n",
       "      <td>-1.729056</td>\n",
       "      <td>-0.342548</td>\n",
       "      <td>1.249686</td>\n",
       "    </tr>\n",
       "    <tr>\n",
       "      <th>4</th>\n",
       "      <td>-78.537496</td>\n",
       "      <td>-66.364641</td>\n",
       "      <td>51.562655</td>\n",
       "      <td>12.993161</td>\n",
       "      <td>98.965031</td>\n",
       "      <td>67.746233</td>\n",
       "      <td>36.313448</td>\n",
       "      <td>17.694191</td>\n",
       "      <td>-53.698748</td>\n",
       "      <td>14.487776</td>\n",
       "      <td>...</td>\n",
       "      <td>-0.382955</td>\n",
       "      <td>1.185159</td>\n",
       "      <td>1.396479</td>\n",
       "      <td>1.299536</td>\n",
       "      <td>1.444807</td>\n",
       "      <td>-2.364372</td>\n",
       "      <td>1.336561</td>\n",
       "      <td>0.182322</td>\n",
       "      <td>-1.028355</td>\n",
       "      <td>-2.212168</td>\n",
       "    </tr>\n",
       "    <tr>\n",
       "      <th>...</th>\n",
       "      <td>...</td>\n",
       "      <td>...</td>\n",
       "      <td>...</td>\n",
       "      <td>...</td>\n",
       "      <td>...</td>\n",
       "      <td>...</td>\n",
       "      <td>...</td>\n",
       "      <td>...</td>\n",
       "      <td>...</td>\n",
       "      <td>...</td>\n",
       "      <td>...</td>\n",
       "      <td>...</td>\n",
       "      <td>...</td>\n",
       "      <td>...</td>\n",
       "      <td>...</td>\n",
       "      <td>...</td>\n",
       "      <td>...</td>\n",
       "      <td>...</td>\n",
       "      <td>...</td>\n",
       "      <td>...</td>\n",
       "      <td>...</td>\n",
       "    </tr>\n",
       "    <tr>\n",
       "      <th>16065</th>\n",
       "      <td>-302.443423</td>\n",
       "      <td>60.643478</td>\n",
       "      <td>-9.393265</td>\n",
       "      <td>-36.238774</td>\n",
       "      <td>97.173571</td>\n",
       "      <td>38.906783</td>\n",
       "      <td>19.587164</td>\n",
       "      <td>2.342164</td>\n",
       "      <td>11.556710</td>\n",
       "      <td>13.059468</td>\n",
       "      <td>...</td>\n",
       "      <td>0.609879</td>\n",
       "      <td>0.551645</td>\n",
       "      <td>-2.527457</td>\n",
       "      <td>0.530952</td>\n",
       "      <td>0.536972</td>\n",
       "      <td>-1.336144</td>\n",
       "      <td>0.576891</td>\n",
       "      <td>-0.607315</td>\n",
       "      <td>0.471821</td>\n",
       "      <td>1.713887</td>\n",
       "    </tr>\n",
       "    <tr>\n",
       "      <th>16066</th>\n",
       "      <td>194.643050</td>\n",
       "      <td>82.977317</td>\n",
       "      <td>-184.629105</td>\n",
       "      <td>57.475740</td>\n",
       "      <td>120.963506</td>\n",
       "      <td>36.118978</td>\n",
       "      <td>13.117549</td>\n",
       "      <td>15.184232</td>\n",
       "      <td>-26.788367</td>\n",
       "      <td>15.436581</td>\n",
       "      <td>...</td>\n",
       "      <td>1.251967</td>\n",
       "      <td>-0.449861</td>\n",
       "      <td>-2.872662</td>\n",
       "      <td>0.603216</td>\n",
       "      <td>0.833208</td>\n",
       "      <td>-0.752514</td>\n",
       "      <td>-0.808431</td>\n",
       "      <td>-2.070672</td>\n",
       "      <td>-0.252060</td>\n",
       "      <td>0.038863</td>\n",
       "    </tr>\n",
       "    <tr>\n",
       "      <th>16067</th>\n",
       "      <td>-320.843725</td>\n",
       "      <td>37.114062</td>\n",
       "      <td>-5.047384</td>\n",
       "      <td>-1.704369</td>\n",
       "      <td>-152.107224</td>\n",
       "      <td>-62.821520</td>\n",
       "      <td>-31.729101</td>\n",
       "      <td>-17.035192</td>\n",
       "      <td>15.900588</td>\n",
       "      <td>15.121485</td>\n",
       "      <td>...</td>\n",
       "      <td>-7.173551</td>\n",
       "      <td>-3.137851</td>\n",
       "      <td>-1.519087</td>\n",
       "      <td>2.023393</td>\n",
       "      <td>-0.898186</td>\n",
       "      <td>1.546708</td>\n",
       "      <td>1.624497</td>\n",
       "      <td>1.445644</td>\n",
       "      <td>-0.537007</td>\n",
       "      <td>-0.722824</td>\n",
       "    </tr>\n",
       "    <tr>\n",
       "      <th>16068</th>\n",
       "      <td>193.790474</td>\n",
       "      <td>80.872721</td>\n",
       "      <td>-188.395318</td>\n",
       "      <td>49.878258</td>\n",
       "      <td>144.441115</td>\n",
       "      <td>32.712876</td>\n",
       "      <td>8.920838</td>\n",
       "      <td>1.470768</td>\n",
       "      <td>-34.631523</td>\n",
       "      <td>22.267755</td>\n",
       "      <td>...</td>\n",
       "      <td>1.006382</td>\n",
       "      <td>-2.576256</td>\n",
       "      <td>-2.478103</td>\n",
       "      <td>-1.724657</td>\n",
       "      <td>-2.501389</td>\n",
       "      <td>1.696403</td>\n",
       "      <td>0.706058</td>\n",
       "      <td>-0.702595</td>\n",
       "      <td>-0.225661</td>\n",
       "      <td>0.073029</td>\n",
       "    </tr>\n",
       "    <tr>\n",
       "      <th>16069</th>\n",
       "      <td>8.693973</td>\n",
       "      <td>-144.876332</td>\n",
       "      <td>34.261342</td>\n",
       "      <td>-39.044655</td>\n",
       "      <td>67.877521</td>\n",
       "      <td>27.519986</td>\n",
       "      <td>16.069026</td>\n",
       "      <td>2.741802</td>\n",
       "      <td>8.025205</td>\n",
       "      <td>3.316346</td>\n",
       "      <td>...</td>\n",
       "      <td>0.696097</td>\n",
       "      <td>3.012891</td>\n",
       "      <td>-4.939820</td>\n",
       "      <td>2.485046</td>\n",
       "      <td>1.493167</td>\n",
       "      <td>0.292279</td>\n",
       "      <td>-2.039937</td>\n",
       "      <td>2.139185</td>\n",
       "      <td>1.048942</td>\n",
       "      <td>0.732630</td>\n",
       "    </tr>\n",
       "  </tbody>\n",
       "</table>\n",
       "<p>16070 rows × 50 columns</p>\n",
       "</div>"
      ],
      "text/plain": [
       "               0           1           2          3           4          5   \\\n",
       "0     -297.545486   72.935606   15.220546   2.680500   16.687012  -0.973792   \n",
       "1     -297.537496   72.987396   15.313183   2.845524   15.434343  -1.342194   \n",
       "2     -298.907014   68.892921    7.879666  -9.719862   88.780826  16.146196   \n",
       "3     -326.140594   20.187487  -32.699240 -45.773255  213.358555  49.091522   \n",
       "4      -78.537496  -66.364641   51.562655  12.993161   98.965031  67.746233   \n",
       "...           ...         ...         ...        ...         ...        ...   \n",
       "16065 -302.443423   60.643478   -9.393265 -36.238774   97.173571  38.906783   \n",
       "16066  194.643050   82.977317 -184.629105  57.475740  120.963506  36.118978   \n",
       "16067 -320.843725   37.114062   -5.047384  -1.704369 -152.107224 -62.821520   \n",
       "16068  193.790474   80.872721 -188.395318  49.878258  144.441115  32.712876   \n",
       "16069    8.693973 -144.876332   34.261342 -39.044655   67.877521  27.519986   \n",
       "\n",
       "              6          7          8          9   ...        40        41  \\\n",
       "0       7.515218  11.287338   6.939310 -28.672172  ...  1.994613 -2.878028   \n",
       "1       7.792448  11.316733   7.205318 -29.283738  ...  2.683963 -3.598601   \n",
       "2      23.339601   4.772889  11.314403  -9.295850  ... -1.333776  0.803290   \n",
       "3     -42.042402  -3.025443  16.949185  20.462931  ... -0.988772  0.485816   \n",
       "4      36.313448  17.694191 -53.698748  14.487776  ... -0.382955  1.185159   \n",
       "...          ...        ...        ...        ...  ...       ...       ...   \n",
       "16065  19.587164   2.342164  11.556710  13.059468  ...  0.609879  0.551645   \n",
       "16066  13.117549  15.184232 -26.788367  15.436581  ...  1.251967 -0.449861   \n",
       "16067 -31.729101 -17.035192  15.900588  15.121485  ... -7.173551 -3.137851   \n",
       "16068   8.920838   1.470768 -34.631523  22.267755  ...  1.006382 -2.576256   \n",
       "16069  16.069026   2.741802   8.025205   3.316346  ...  0.696097  3.012891   \n",
       "\n",
       "             42        43        44        45        46        47        48  \\\n",
       "0     -2.289939 -1.124398 -0.537171  1.822257 -3.161360  1.006603 -0.324394   \n",
       "1     -1.519076 -1.106486 -0.371789  1.716517 -2.596337  0.832839 -0.590665   \n",
       "2      3.365719 -0.205314 -0.736533  1.127524  1.658475 -0.293826 -0.971046   \n",
       "3      1.574528 -0.245908 -0.877682  1.297084  0.149258 -1.729056 -0.342548   \n",
       "4      1.396479  1.299536  1.444807 -2.364372  1.336561  0.182322 -1.028355   \n",
       "...         ...       ...       ...       ...       ...       ...       ...   \n",
       "16065 -2.527457  0.530952  0.536972 -1.336144  0.576891 -0.607315  0.471821   \n",
       "16066 -2.872662  0.603216  0.833208 -0.752514 -0.808431 -2.070672 -0.252060   \n",
       "16067 -1.519087  2.023393 -0.898186  1.546708  1.624497  1.445644 -0.537007   \n",
       "16068 -2.478103 -1.724657 -2.501389  1.696403  0.706058 -0.702595 -0.225661   \n",
       "16069 -4.939820  2.485046  1.493167  0.292279 -2.039937  2.139185  1.048942   \n",
       "\n",
       "             49  \n",
       "0     -1.906104  \n",
       "1     -2.755947  \n",
       "2     -1.869450  \n",
       "3      1.249686  \n",
       "4     -2.212168  \n",
       "...         ...  \n",
       "16065  1.713887  \n",
       "16066  0.038863  \n",
       "16067 -0.722824  \n",
       "16068  0.073029  \n",
       "16069  0.732630  \n",
       "\n",
       "[16070 rows x 50 columns]"
      ]
     },
     "execution_count": 57,
     "metadata": {},
     "output_type": "execute_result"
    }
   ],
   "source": [
    "df_reduced = pd.DataFrame(X_reduced)\n",
    "df_reduced"
   ]
  },
  {
   "cell_type": "code",
   "execution_count": 58,
   "metadata": {},
   "outputs": [],
   "source": [
    "df_reduced['En'] = data_en[:ind]"
   ]
  },
  {
   "cell_type": "code",
   "execution_count": 59,
   "metadata": {},
   "outputs": [
    {
     "data": {
      "text/html": [
       "<div>\n",
       "<style scoped>\n",
       "    .dataframe tbody tr th:only-of-type {\n",
       "        vertical-align: middle;\n",
       "    }\n",
       "\n",
       "    .dataframe tbody tr th {\n",
       "        vertical-align: top;\n",
       "    }\n",
       "\n",
       "    .dataframe thead th {\n",
       "        text-align: right;\n",
       "    }\n",
       "</style>\n",
       "<table border=\"1\" class=\"dataframe\">\n",
       "  <thead>\n",
       "    <tr style=\"text-align: right;\">\n",
       "      <th></th>\n",
       "      <th>0</th>\n",
       "      <th>1</th>\n",
       "      <th>2</th>\n",
       "      <th>3</th>\n",
       "      <th>4</th>\n",
       "      <th>5</th>\n",
       "      <th>6</th>\n",
       "      <th>7</th>\n",
       "      <th>8</th>\n",
       "      <th>9</th>\n",
       "      <th>...</th>\n",
       "      <th>41</th>\n",
       "      <th>42</th>\n",
       "      <th>43</th>\n",
       "      <th>44</th>\n",
       "      <th>45</th>\n",
       "      <th>46</th>\n",
       "      <th>47</th>\n",
       "      <th>48</th>\n",
       "      <th>49</th>\n",
       "      <th>En</th>\n",
       "    </tr>\n",
       "  </thead>\n",
       "  <tbody>\n",
       "    <tr>\n",
       "      <th>0</th>\n",
       "      <td>-297.545486</td>\n",
       "      <td>72.935606</td>\n",
       "      <td>15.220546</td>\n",
       "      <td>2.680500</td>\n",
       "      <td>16.687012</td>\n",
       "      <td>-0.973792</td>\n",
       "      <td>7.515218</td>\n",
       "      <td>11.287338</td>\n",
       "      <td>6.939310</td>\n",
       "      <td>-28.672172</td>\n",
       "      <td>...</td>\n",
       "      <td>-2.878028</td>\n",
       "      <td>-2.289939</td>\n",
       "      <td>-1.124398</td>\n",
       "      <td>-0.537171</td>\n",
       "      <td>1.822257</td>\n",
       "      <td>-3.161360</td>\n",
       "      <td>1.006603</td>\n",
       "      <td>-0.324394</td>\n",
       "      <td>-1.906104</td>\n",
       "      <td>37.8010</td>\n",
       "    </tr>\n",
       "    <tr>\n",
       "      <th>1</th>\n",
       "      <td>-297.537496</td>\n",
       "      <td>72.987396</td>\n",
       "      <td>15.313183</td>\n",
       "      <td>2.845524</td>\n",
       "      <td>15.434343</td>\n",
       "      <td>-1.342194</td>\n",
       "      <td>7.792448</td>\n",
       "      <td>11.316733</td>\n",
       "      <td>7.205318</td>\n",
       "      <td>-29.283738</td>\n",
       "      <td>...</td>\n",
       "      <td>-3.598601</td>\n",
       "      <td>-1.519076</td>\n",
       "      <td>-1.106486</td>\n",
       "      <td>-0.371789</td>\n",
       "      <td>1.716517</td>\n",
       "      <td>-2.596337</td>\n",
       "      <td>0.832839</td>\n",
       "      <td>-0.590665</td>\n",
       "      <td>-2.755947</td>\n",
       "      <td>44.1107</td>\n",
       "    </tr>\n",
       "    <tr>\n",
       "      <th>2</th>\n",
       "      <td>-298.907014</td>\n",
       "      <td>68.892921</td>\n",
       "      <td>7.879666</td>\n",
       "      <td>-9.719862</td>\n",
       "      <td>88.780826</td>\n",
       "      <td>16.146196</td>\n",
       "      <td>23.339601</td>\n",
       "      <td>4.772889</td>\n",
       "      <td>11.314403</td>\n",
       "      <td>-9.295850</td>\n",
       "      <td>...</td>\n",
       "      <td>0.803290</td>\n",
       "      <td>3.365719</td>\n",
       "      <td>-0.205314</td>\n",
       "      <td>-0.736533</td>\n",
       "      <td>1.127524</td>\n",
       "      <td>1.658475</td>\n",
       "      <td>-0.293826</td>\n",
       "      <td>-0.971046</td>\n",
       "      <td>-1.869450</td>\n",
       "      <td>19.4085</td>\n",
       "    </tr>\n",
       "    <tr>\n",
       "      <th>3</th>\n",
       "      <td>-326.140594</td>\n",
       "      <td>20.187487</td>\n",
       "      <td>-32.699240</td>\n",
       "      <td>-45.773255</td>\n",
       "      <td>213.358555</td>\n",
       "      <td>49.091522</td>\n",
       "      <td>-42.042402</td>\n",
       "      <td>-3.025443</td>\n",
       "      <td>16.949185</td>\n",
       "      <td>20.462931</td>\n",
       "      <td>...</td>\n",
       "      <td>0.485816</td>\n",
       "      <td>1.574528</td>\n",
       "      <td>-0.245908</td>\n",
       "      <td>-0.877682</td>\n",
       "      <td>1.297084</td>\n",
       "      <td>0.149258</td>\n",
       "      <td>-1.729056</td>\n",
       "      <td>-0.342548</td>\n",
       "      <td>1.249686</td>\n",
       "      <td>-0.1086</td>\n",
       "    </tr>\n",
       "    <tr>\n",
       "      <th>4</th>\n",
       "      <td>-78.537496</td>\n",
       "      <td>-66.364641</td>\n",
       "      <td>51.562655</td>\n",
       "      <td>12.993161</td>\n",
       "      <td>98.965031</td>\n",
       "      <td>67.746233</td>\n",
       "      <td>36.313448</td>\n",
       "      <td>17.694191</td>\n",
       "      <td>-53.698748</td>\n",
       "      <td>14.487776</td>\n",
       "      <td>...</td>\n",
       "      <td>1.185159</td>\n",
       "      <td>1.396479</td>\n",
       "      <td>1.299536</td>\n",
       "      <td>1.444807</td>\n",
       "      <td>-2.364372</td>\n",
       "      <td>1.336561</td>\n",
       "      <td>0.182322</td>\n",
       "      <td>-1.028355</td>\n",
       "      <td>-2.212168</td>\n",
       "      <td>-23.8799</td>\n",
       "    </tr>\n",
       "    <tr>\n",
       "      <th>...</th>\n",
       "      <td>...</td>\n",
       "      <td>...</td>\n",
       "      <td>...</td>\n",
       "      <td>...</td>\n",
       "      <td>...</td>\n",
       "      <td>...</td>\n",
       "      <td>...</td>\n",
       "      <td>...</td>\n",
       "      <td>...</td>\n",
       "      <td>...</td>\n",
       "      <td>...</td>\n",
       "      <td>...</td>\n",
       "      <td>...</td>\n",
       "      <td>...</td>\n",
       "      <td>...</td>\n",
       "      <td>...</td>\n",
       "      <td>...</td>\n",
       "      <td>...</td>\n",
       "      <td>...</td>\n",
       "      <td>...</td>\n",
       "      <td>...</td>\n",
       "    </tr>\n",
       "    <tr>\n",
       "      <th>16065</th>\n",
       "      <td>-302.443423</td>\n",
       "      <td>60.643478</td>\n",
       "      <td>-9.393265</td>\n",
       "      <td>-36.238774</td>\n",
       "      <td>97.173571</td>\n",
       "      <td>38.906783</td>\n",
       "      <td>19.587164</td>\n",
       "      <td>2.342164</td>\n",
       "      <td>11.556710</td>\n",
       "      <td>13.059468</td>\n",
       "      <td>...</td>\n",
       "      <td>0.551645</td>\n",
       "      <td>-2.527457</td>\n",
       "      <td>0.530952</td>\n",
       "      <td>0.536972</td>\n",
       "      <td>-1.336144</td>\n",
       "      <td>0.576891</td>\n",
       "      <td>-0.607315</td>\n",
       "      <td>0.471821</td>\n",
       "      <td>1.713887</td>\n",
       "      <td>30.1280</td>\n",
       "    </tr>\n",
       "    <tr>\n",
       "      <th>16066</th>\n",
       "      <td>194.643050</td>\n",
       "      <td>82.977317</td>\n",
       "      <td>-184.629105</td>\n",
       "      <td>57.475740</td>\n",
       "      <td>120.963506</td>\n",
       "      <td>36.118978</td>\n",
       "      <td>13.117549</td>\n",
       "      <td>15.184232</td>\n",
       "      <td>-26.788367</td>\n",
       "      <td>15.436581</td>\n",
       "      <td>...</td>\n",
       "      <td>-0.449861</td>\n",
       "      <td>-2.872662</td>\n",
       "      <td>0.603216</td>\n",
       "      <td>0.833208</td>\n",
       "      <td>-0.752514</td>\n",
       "      <td>-0.808431</td>\n",
       "      <td>-2.070672</td>\n",
       "      <td>-0.252060</td>\n",
       "      <td>0.038863</td>\n",
       "      <td>6.8265</td>\n",
       "    </tr>\n",
       "    <tr>\n",
       "      <th>16067</th>\n",
       "      <td>-320.843725</td>\n",
       "      <td>37.114062</td>\n",
       "      <td>-5.047384</td>\n",
       "      <td>-1.704369</td>\n",
       "      <td>-152.107224</td>\n",
       "      <td>-62.821520</td>\n",
       "      <td>-31.729101</td>\n",
       "      <td>-17.035192</td>\n",
       "      <td>15.900588</td>\n",
       "      <td>15.121485</td>\n",
       "      <td>...</td>\n",
       "      <td>-3.137851</td>\n",
       "      <td>-1.519087</td>\n",
       "      <td>2.023393</td>\n",
       "      <td>-0.898186</td>\n",
       "      <td>1.546708</td>\n",
       "      <td>1.624497</td>\n",
       "      <td>1.445644</td>\n",
       "      <td>-0.537007</td>\n",
       "      <td>-0.722824</td>\n",
       "      <td>67.1569</td>\n",
       "    </tr>\n",
       "    <tr>\n",
       "      <th>16068</th>\n",
       "      <td>193.790474</td>\n",
       "      <td>80.872721</td>\n",
       "      <td>-188.395318</td>\n",
       "      <td>49.878258</td>\n",
       "      <td>144.441115</td>\n",
       "      <td>32.712876</td>\n",
       "      <td>8.920838</td>\n",
       "      <td>1.470768</td>\n",
       "      <td>-34.631523</td>\n",
       "      <td>22.267755</td>\n",
       "      <td>...</td>\n",
       "      <td>-2.576256</td>\n",
       "      <td>-2.478103</td>\n",
       "      <td>-1.724657</td>\n",
       "      <td>-2.501389</td>\n",
       "      <td>1.696403</td>\n",
       "      <td>0.706058</td>\n",
       "      <td>-0.702595</td>\n",
       "      <td>-0.225661</td>\n",
       "      <td>0.073029</td>\n",
       "      <td>8.0652</td>\n",
       "    </tr>\n",
       "    <tr>\n",
       "      <th>16069</th>\n",
       "      <td>8.693973</td>\n",
       "      <td>-144.876332</td>\n",
       "      <td>34.261342</td>\n",
       "      <td>-39.044655</td>\n",
       "      <td>67.877521</td>\n",
       "      <td>27.519986</td>\n",
       "      <td>16.069026</td>\n",
       "      <td>2.741802</td>\n",
       "      <td>8.025205</td>\n",
       "      <td>3.316346</td>\n",
       "      <td>...</td>\n",
       "      <td>3.012891</td>\n",
       "      <td>-4.939820</td>\n",
       "      <td>2.485046</td>\n",
       "      <td>1.493167</td>\n",
       "      <td>0.292279</td>\n",
       "      <td>-2.039937</td>\n",
       "      <td>2.139185</td>\n",
       "      <td>1.048942</td>\n",
       "      <td>0.732630</td>\n",
       "      <td>2.9916</td>\n",
       "    </tr>\n",
       "  </tbody>\n",
       "</table>\n",
       "<p>16070 rows × 51 columns</p>\n",
       "</div>"
      ],
      "text/plain": [
       "                0           1           2          3           4          5  \\\n",
       "0     -297.545486   72.935606   15.220546   2.680500   16.687012  -0.973792   \n",
       "1     -297.537496   72.987396   15.313183   2.845524   15.434343  -1.342194   \n",
       "2     -298.907014   68.892921    7.879666  -9.719862   88.780826  16.146196   \n",
       "3     -326.140594   20.187487  -32.699240 -45.773255  213.358555  49.091522   \n",
       "4      -78.537496  -66.364641   51.562655  12.993161   98.965031  67.746233   \n",
       "...           ...         ...         ...        ...         ...        ...   \n",
       "16065 -302.443423   60.643478   -9.393265 -36.238774   97.173571  38.906783   \n",
       "16066  194.643050   82.977317 -184.629105  57.475740  120.963506  36.118978   \n",
       "16067 -320.843725   37.114062   -5.047384  -1.704369 -152.107224 -62.821520   \n",
       "16068  193.790474   80.872721 -188.395318  49.878258  144.441115  32.712876   \n",
       "16069    8.693973 -144.876332   34.261342 -39.044655   67.877521  27.519986   \n",
       "\n",
       "               6          7          8          9  ...        41        42  \\\n",
       "0       7.515218  11.287338   6.939310 -28.672172  ... -2.878028 -2.289939   \n",
       "1       7.792448  11.316733   7.205318 -29.283738  ... -3.598601 -1.519076   \n",
       "2      23.339601   4.772889  11.314403  -9.295850  ...  0.803290  3.365719   \n",
       "3     -42.042402  -3.025443  16.949185  20.462931  ...  0.485816  1.574528   \n",
       "4      36.313448  17.694191 -53.698748  14.487776  ...  1.185159  1.396479   \n",
       "...          ...        ...        ...        ...  ...       ...       ...   \n",
       "16065  19.587164   2.342164  11.556710  13.059468  ...  0.551645 -2.527457   \n",
       "16066  13.117549  15.184232 -26.788367  15.436581  ... -0.449861 -2.872662   \n",
       "16067 -31.729101 -17.035192  15.900588  15.121485  ... -3.137851 -1.519087   \n",
       "16068   8.920838   1.470768 -34.631523  22.267755  ... -2.576256 -2.478103   \n",
       "16069  16.069026   2.741802   8.025205   3.316346  ...  3.012891 -4.939820   \n",
       "\n",
       "             43        44        45        46        47        48        49  \\\n",
       "0     -1.124398 -0.537171  1.822257 -3.161360  1.006603 -0.324394 -1.906104   \n",
       "1     -1.106486 -0.371789  1.716517 -2.596337  0.832839 -0.590665 -2.755947   \n",
       "2     -0.205314 -0.736533  1.127524  1.658475 -0.293826 -0.971046 -1.869450   \n",
       "3     -0.245908 -0.877682  1.297084  0.149258 -1.729056 -0.342548  1.249686   \n",
       "4      1.299536  1.444807 -2.364372  1.336561  0.182322 -1.028355 -2.212168   \n",
       "...         ...       ...       ...       ...       ...       ...       ...   \n",
       "16065  0.530952  0.536972 -1.336144  0.576891 -0.607315  0.471821  1.713887   \n",
       "16066  0.603216  0.833208 -0.752514 -0.808431 -2.070672 -0.252060  0.038863   \n",
       "16067  2.023393 -0.898186  1.546708  1.624497  1.445644 -0.537007 -0.722824   \n",
       "16068 -1.724657 -2.501389  1.696403  0.706058 -0.702595 -0.225661  0.073029   \n",
       "16069  2.485046  1.493167  0.292279 -2.039937  2.139185  1.048942  0.732630   \n",
       "\n",
       "            En  \n",
       "0      37.8010  \n",
       "1      44.1107  \n",
       "2      19.4085  \n",
       "3      -0.1086  \n",
       "4     -23.8799  \n",
       "...        ...  \n",
       "16065  30.1280  \n",
       "16066   6.8265  \n",
       "16067  67.1569  \n",
       "16068   8.0652  \n",
       "16069   2.9916  \n",
       "\n",
       "[16070 rows x 51 columns]"
      ]
     },
     "execution_count": 59,
     "metadata": {},
     "output_type": "execute_result"
    }
   ],
   "source": [
    "df_reduced"
   ]
  },
  {
   "cell_type": "code",
   "execution_count": 60,
   "metadata": {},
   "outputs": [],
   "source": [
    "X_train, X_test, y_train, y_test = train_test_split(df_reduced.drop('En', axis = 1), df['En'], test_size=0.3, random_state=42)"
   ]
  },
  {
   "cell_type": "code",
   "execution_count": 61,
   "metadata": {},
   "outputs": [
    {
     "name": "stdout",
     "output_type": "stream",
     "text": [
      "Wall time: 217 ms\n"
     ]
    },
    {
     "data": {
      "text/plain": [
       "GridSearchCV(estimator=Ridge(), param_grid={'alpha': [1.0, 0.5, 3.0]})"
      ]
     },
     "execution_count": 61,
     "metadata": {},
     "output_type": "execute_result"
    }
   ],
   "source": [
    "%%time\n",
    "ridge = Ridge()\n",
    "params_ridge = {'alpha': [1.0, 0.5, 3.0]}\n",
    "ridge_grid = GridSearchCV(ridge, params_ridge)\n",
    "ridge_grid.fit(X_train, y_train)"
   ]
  },
  {
   "cell_type": "code",
   "execution_count": 62,
   "metadata": {},
   "outputs": [
    {
     "name": "stdout",
     "output_type": "stream",
     "text": [
      "{'alpha': 3.0}\n",
      "0.7336399659064828\n"
     ]
    }
   ],
   "source": [
    "print(ridge_grid.best_params_)\n",
    "print(ridge_grid.best_score_)"
   ]
  },
  {
   "cell_type": "code",
   "execution_count": 63,
   "metadata": {},
   "outputs": [
    {
     "name": "stdout",
     "output_type": "stream",
     "text": [
      "Wall time: 412 ms\n"
     ]
    },
    {
     "data": {
      "text/plain": [
       "GridSearchCV(estimator=Lasso(max_iter=2000),\n",
       "             param_grid={'alpha': [1.0, 0.5, 3.0]})"
      ]
     },
     "execution_count": 63,
     "metadata": {},
     "output_type": "execute_result"
    }
   ],
   "source": [
    "%%time\n",
    "lasso = Lasso(max_iter = 2000)\n",
    "params_lasso = {'alpha': [1.0, 0.5, 3.0]}\n",
    "lasso_grid = GridSearchCV(lasso, params_lasso)\n",
    "lasso_grid.fit(X_train, y_train)"
   ]
  },
  {
   "cell_type": "code",
   "execution_count": 64,
   "metadata": {},
   "outputs": [
    {
     "name": "stdout",
     "output_type": "stream",
     "text": [
      "{'alpha': 0.5}\n",
      "0.733763338070775\n"
     ]
    }
   ],
   "source": [
    "print(lasso_grid.best_params_)\n",
    "print(lasso_grid.best_score_)"
   ]
  },
  {
   "cell_type": "code",
   "execution_count": 65,
   "metadata": {},
   "outputs": [
    {
     "name": "stdout",
     "output_type": "stream",
     "text": [
      "Wall time: 39.2 s\n"
     ]
    },
    {
     "data": {
      "text/plain": [
       "RandomForestRegressor(max_depth=30)"
      ]
     },
     "execution_count": 65,
     "metadata": {},
     "output_type": "execute_result"
    }
   ],
   "source": [
    "%%time\n",
    "rand_forest_regr = RandomForestRegressor(max_depth = 30)\n",
    "rand_forest_regr.fit(X_train, y_train)"
   ]
  },
  {
   "cell_type": "code",
   "execution_count": 66,
   "metadata": {},
   "outputs": [
    {
     "data": {
      "text/plain": [
       "0.8206153078127382"
      ]
     },
     "execution_count": 66,
     "metadata": {},
     "output_type": "execute_result"
    }
   ],
   "source": [
    "rand_forest_regr.score(X_test, y_test)"
   ]
  },
  {
   "cell_type": "code",
   "execution_count": 67,
   "metadata": {},
   "outputs": [
    {
     "name": "stdout",
     "output_type": "stream",
     "text": [
      "Fitting 5 folds for each of 5 candidates, totalling 25 fits\n"
     ]
    },
    {
     "name": "stderr",
     "output_type": "stream",
     "text": [
      "[Parallel(n_jobs=1)]: Using backend SequentialBackend with 1 concurrent workers.\n"
     ]
    },
    {
     "name": "stdout",
     "output_type": "stream",
     "text": [
      "Wall time: 6.27 s\n"
     ]
    },
    {
     "name": "stderr",
     "output_type": "stream",
     "text": [
      "[Parallel(n_jobs=1)]: Done  25 out of  25 | elapsed:    6.1s finished\n"
     ]
    },
    {
     "data": {
      "text/plain": [
       "GridSearchCV(estimator=KNeighborsRegressor(),\n",
       "             param_grid={'n_neighbors': [2, 5, 12, 25, 33]}, verbose=1)"
      ]
     },
     "execution_count": 67,
     "metadata": {},
     "output_type": "execute_result"
    }
   ],
   "source": [
    "%%time\n",
    "knn_regr = KNeighborsRegressor()\n",
    "params_knn = {'n_neighbors': [2, 5, 12, 25, 33]}\n",
    "knn_grid = GridSearchCV(knn_regr, params_knn, verbose = 1)\n",
    "knn_grid.fit(X_train, y_train)"
   ]
  },
  {
   "cell_type": "code",
   "execution_count": 68,
   "metadata": {},
   "outputs": [
    {
     "name": "stdout",
     "output_type": "stream",
     "text": [
      "{'n_neighbors': 5}\n",
      "0.7503579055098994\n"
     ]
    }
   ],
   "source": [
    "print(knn_grid.best_params_)\n",
    "print(knn_grid.best_score_)"
   ]
  },
  {
   "cell_type": "code",
   "execution_count": 69,
   "metadata": {},
   "outputs": [
    {
     "name": "stdout",
     "output_type": "stream",
     "text": [
      "Fitting 5 folds for each of 6 candidates, totalling 30 fits\n"
     ]
    },
    {
     "name": "stderr",
     "output_type": "stream",
     "text": [
      "[Parallel(n_jobs=1)]: Using backend SequentialBackend with 1 concurrent workers.\n"
     ]
    },
    {
     "name": "stdout",
     "output_type": "stream",
     "text": [
      "Wall time: 876 ms\n"
     ]
    },
    {
     "name": "stderr",
     "output_type": "stream",
     "text": [
      "[Parallel(n_jobs=1)]: Done  30 out of  30 | elapsed:    0.7s finished\n"
     ]
    },
    {
     "data": {
      "text/plain": [
       "GridSearchCV(estimator=ElasticNet(max_iter=4000),\n",
       "             param_grid={'alpha': [1, 3], 'l1_ratio': [0.5, 0.25, 0.75]},\n",
       "             verbose=1)"
      ]
     },
     "execution_count": 69,
     "metadata": {},
     "output_type": "execute_result"
    }
   ],
   "source": [
    "%%time\n",
    "elastic = ElasticNet(max_iter = 4000)\n",
    "params_elastic = {'alpha': [1,3], 'l1_ratio': [0.5, 0.25, 0.75]}\n",
    "elastic_grid = GridSearchCV(elastic, params_elastic, verbose = 1)\n",
    "elastic_grid.fit(X_train, y_train)"
   ]
  },
  {
   "cell_type": "code",
   "execution_count": 70,
   "metadata": {},
   "outputs": [
    {
     "name": "stdout",
     "output_type": "stream",
     "text": [
      "{'alpha': 1, 'l1_ratio': 0.25}\n",
      "0.7334756546032019\n"
     ]
    }
   ],
   "source": [
    "print(elastic_grid.best_params_)\n",
    "print(elastic_grid.best_score_)"
   ]
  },
  {
   "cell_type": "code",
   "execution_count": 71,
   "metadata": {},
   "outputs": [
    {
     "name": "stdout",
     "output_type": "stream",
     "text": [
      "Wall time: 5.25 s\n"
     ]
    },
    {
     "data": {
      "text/plain": [
       "XGBRegressor(base_score=0.5, booster='gbtree', callbacks=None,\n",
       "             colsample_bylevel=1, colsample_bynode=1, colsample_bytree=1,\n",
       "             early_stopping_rounds=None, enable_categorical=False,\n",
       "             eval_metric=None, gamma=0, gpu_id=-1, grow_policy='depthwise',\n",
       "             importance_type=None, interaction_constraints='',\n",
       "             learning_rate=0.300000012, max_bin=256, max_cat_to_onehot=4,\n",
       "             max_delta_step=0, max_depth=6, max_leaves=0, min_child_weight=1,\n",
       "             missing=nan, monotone_constraints='()', n_estimators=100, n_jobs=0,\n",
       "             num_parallel_tree=1, predictor='auto', random_state=42,\n",
       "             reg_alpha=0, reg_lambda=1, ...)"
      ]
     },
     "execution_count": 71,
     "metadata": {},
     "output_type": "execute_result"
    }
   ],
   "source": [
    "%%time\n",
    "xgb_model.fit(X_train, y_train)"
   ]
  },
  {
   "cell_type": "code",
   "execution_count": 72,
   "metadata": {},
   "outputs": [
    {
     "data": {
      "text/plain": [
       "142.93742479795873"
      ]
     },
     "execution_count": 72,
     "metadata": {},
     "output_type": "execute_result"
    }
   ],
   "source": [
    "predict = xgb_model.predict(X_test)\n",
    "mean_squared_error(y_test, predict)"
   ]
  },
  {
   "cell_type": "code",
   "execution_count": null,
   "metadata": {},
   "outputs": [],
   "source": []
  }
 ],
 "metadata": {
  "kernelspec": {
   "display_name": "Python 3",
   "language": "python",
   "name": "python3"
  },
  "language_info": {
   "codemirror_mode": {
    "name": "ipython",
    "version": 3
   },
   "file_extension": ".py",
   "mimetype": "text/x-python",
   "name": "python",
   "nbconvert_exporter": "python",
   "pygments_lexer": "ipython3",
   "version": "3.8.5"
  }
 },
 "nbformat": 4,
 "nbformat_minor": 4
}
